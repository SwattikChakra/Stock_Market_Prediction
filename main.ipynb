{
 "cells": [
  {
   "cell_type": "markdown",
   "source": [
    "##  Forecasting Of Stock Market Using Stacked LSTM and Decision Tree"
   ],
   "metadata": {}
  },
  {
   "cell_type": "markdown",
   "source": [
    "Forecasting of **Goldman Sachs** and **Morgan Stanley** stocks using stacked LSTM"
   ],
   "metadata": {}
  },
  {
   "cell_type": "markdown",
   "source": [
    "### Goldman Sachs"
   ],
   "metadata": {}
  },
  {
   "cell_type": "markdown",
   "source": [
    "Using tiingo's API (other sites like yahoo finance could also have been used but the no. of features extracted is more in tiingo) to collect stock market data of the comapny using developer's personal key"
   ],
   "metadata": {}
  },
  {
   "cell_type": "code",
   "execution_count": 89,
   "source": [
    "import pandas_datareader as pdr\n",
    "key=\"75887c359322cd76d4a76f0caa25dac9f5a72773\""
   ],
   "outputs": [],
   "metadata": {}
  },
  {
   "cell_type": "code",
   "execution_count": 157,
   "source": [
    "# Collection of Data \n",
    "\n",
    "gs_data = pdr.get_data_tiingo('GS', start='JAN-01-2010',api_key=key)"
   ],
   "outputs": [
    {
     "output_type": "stream",
     "name": "stderr",
     "text": [
      "/home/swattik/.local/lib/python3.9/site-packages/pandas_datareader/tiingo.py:234: FutureWarning: In a future version of pandas all arguments of concat except for the argument 'objs' will be keyword-only\n",
      "  return pd.concat(dfs, self._concat_axis)\n"
     ]
    }
   ],
   "metadata": {
    "scrolled": true
   }
  },
  {
   "cell_type": "code",
   "execution_count": 158,
   "source": [
    "gs_data.to_csv('GS.csv')"
   ],
   "outputs": [],
   "metadata": {}
  },
  {
   "cell_type": "code",
   "execution_count": 159,
   "source": [
    "import pandas as pd"
   ],
   "outputs": [],
   "metadata": {}
  },
  {
   "cell_type": "code",
   "execution_count": 160,
   "source": [
    "gs_data=pd.read_csv('GS.csv')"
   ],
   "outputs": [],
   "metadata": {}
  },
  {
   "cell_type": "code",
   "execution_count": 161,
   "source": [
    "gs_data.head()"
   ],
   "outputs": [
    {
     "output_type": "execute_result",
     "data": {
      "text/plain": [
       "  symbol                       date   close    high     low    open    volume  \\\n",
       "0     GS  2010-01-04 00:00:00+00:00  173.08  174.25  169.51  170.05   9135000   \n",
       "1     GS  2010-01-05 00:00:00+00:00  176.14  176.26  172.57  173.00  11659400   \n",
       "2     GS  2010-01-06 00:00:00+00:00  174.26  175.38  173.76  175.38   7381100   \n",
       "3     GS  2010-01-07 00:00:00+00:00  177.67  178.75  173.95  174.32   8727400   \n",
       "4     GS  2010-01-08 00:00:00+00:00  174.31  177.43  173.95  176.33   7268100   \n",
       "\n",
       "     adjClose     adjHigh      adjLow     adjOpen  adjVolume  divCash  \\\n",
       "0  146.098542  147.086150  143.085069  143.540889    9135000      0.0   \n",
       "1  148.681518  148.782811  145.668046  146.031013   11659400      0.0   \n",
       "2  147.094591  148.039995  146.672537  148.039995    7381100      0.0   \n",
       "3  149.973006  150.884645  146.832917  147.145238    8727400      0.0   \n",
       "4  147.136797  149.770420  146.832917  148.841899    7268100      0.0   \n",
       "\n",
       "   splitFactor  \n",
       "0          1.0  \n",
       "1          1.0  \n",
       "2          1.0  \n",
       "3          1.0  \n",
       "4          1.0  "
      ],
      "text/html": [
       "<div>\n",
       "<style scoped>\n",
       "    .dataframe tbody tr th:only-of-type {\n",
       "        vertical-align: middle;\n",
       "    }\n",
       "\n",
       "    .dataframe tbody tr th {\n",
       "        vertical-align: top;\n",
       "    }\n",
       "\n",
       "    .dataframe thead th {\n",
       "        text-align: right;\n",
       "    }\n",
       "</style>\n",
       "<table border=\"1\" class=\"dataframe\">\n",
       "  <thead>\n",
       "    <tr style=\"text-align: right;\">\n",
       "      <th></th>\n",
       "      <th>symbol</th>\n",
       "      <th>date</th>\n",
       "      <th>close</th>\n",
       "      <th>high</th>\n",
       "      <th>low</th>\n",
       "      <th>open</th>\n",
       "      <th>volume</th>\n",
       "      <th>adjClose</th>\n",
       "      <th>adjHigh</th>\n",
       "      <th>adjLow</th>\n",
       "      <th>adjOpen</th>\n",
       "      <th>adjVolume</th>\n",
       "      <th>divCash</th>\n",
       "      <th>splitFactor</th>\n",
       "    </tr>\n",
       "  </thead>\n",
       "  <tbody>\n",
       "    <tr>\n",
       "      <th>0</th>\n",
       "      <td>GS</td>\n",
       "      <td>2010-01-04 00:00:00+00:00</td>\n",
       "      <td>173.08</td>\n",
       "      <td>174.25</td>\n",
       "      <td>169.51</td>\n",
       "      <td>170.05</td>\n",
       "      <td>9135000</td>\n",
       "      <td>146.098542</td>\n",
       "      <td>147.086150</td>\n",
       "      <td>143.085069</td>\n",
       "      <td>143.540889</td>\n",
       "      <td>9135000</td>\n",
       "      <td>0.0</td>\n",
       "      <td>1.0</td>\n",
       "    </tr>\n",
       "    <tr>\n",
       "      <th>1</th>\n",
       "      <td>GS</td>\n",
       "      <td>2010-01-05 00:00:00+00:00</td>\n",
       "      <td>176.14</td>\n",
       "      <td>176.26</td>\n",
       "      <td>172.57</td>\n",
       "      <td>173.00</td>\n",
       "      <td>11659400</td>\n",
       "      <td>148.681518</td>\n",
       "      <td>148.782811</td>\n",
       "      <td>145.668046</td>\n",
       "      <td>146.031013</td>\n",
       "      <td>11659400</td>\n",
       "      <td>0.0</td>\n",
       "      <td>1.0</td>\n",
       "    </tr>\n",
       "    <tr>\n",
       "      <th>2</th>\n",
       "      <td>GS</td>\n",
       "      <td>2010-01-06 00:00:00+00:00</td>\n",
       "      <td>174.26</td>\n",
       "      <td>175.38</td>\n",
       "      <td>173.76</td>\n",
       "      <td>175.38</td>\n",
       "      <td>7381100</td>\n",
       "      <td>147.094591</td>\n",
       "      <td>148.039995</td>\n",
       "      <td>146.672537</td>\n",
       "      <td>148.039995</td>\n",
       "      <td>7381100</td>\n",
       "      <td>0.0</td>\n",
       "      <td>1.0</td>\n",
       "    </tr>\n",
       "    <tr>\n",
       "      <th>3</th>\n",
       "      <td>GS</td>\n",
       "      <td>2010-01-07 00:00:00+00:00</td>\n",
       "      <td>177.67</td>\n",
       "      <td>178.75</td>\n",
       "      <td>173.95</td>\n",
       "      <td>174.32</td>\n",
       "      <td>8727400</td>\n",
       "      <td>149.973006</td>\n",
       "      <td>150.884645</td>\n",
       "      <td>146.832917</td>\n",
       "      <td>147.145238</td>\n",
       "      <td>8727400</td>\n",
       "      <td>0.0</td>\n",
       "      <td>1.0</td>\n",
       "    </tr>\n",
       "    <tr>\n",
       "      <th>4</th>\n",
       "      <td>GS</td>\n",
       "      <td>2010-01-08 00:00:00+00:00</td>\n",
       "      <td>174.31</td>\n",
       "      <td>177.43</td>\n",
       "      <td>173.95</td>\n",
       "      <td>176.33</td>\n",
       "      <td>7268100</td>\n",
       "      <td>147.136797</td>\n",
       "      <td>149.770420</td>\n",
       "      <td>146.832917</td>\n",
       "      <td>148.841899</td>\n",
       "      <td>7268100</td>\n",
       "      <td>0.0</td>\n",
       "      <td>1.0</td>\n",
       "    </tr>\n",
       "  </tbody>\n",
       "</table>\n",
       "</div>"
      ]
     },
     "metadata": {},
     "execution_count": 161
    }
   ],
   "metadata": {}
  },
  {
   "cell_type": "code",
   "execution_count": 162,
   "source": [
    "gs_data.tail()"
   ],
   "outputs": [
    {
     "output_type": "execute_result",
     "data": {
      "text/plain": [
       "     symbol                       date   close      high     low    open  \\\n",
       "2904     GS  2021-07-19 00:00:00+00:00  354.72  355.1900  349.00  354.00   \n",
       "2905     GS  2021-07-20 00:00:00+00:00  364.76  367.3100  351.54  352.27   \n",
       "2906     GS  2021-07-21 00:00:00+00:00  373.50  374.9000  367.93  368.04   \n",
       "2907     GS  2021-07-22 00:00:00+00:00  372.71  373.6938  368.45  372.30   \n",
       "2908     GS  2021-07-23 00:00:00+00:00  374.05  378.0000  371.38  374.59   \n",
       "\n",
       "       volume  adjClose   adjHigh  adjLow  adjOpen  adjVolume  divCash  \\\n",
       "2904  4394635    354.72  355.1900  349.00   354.00    4394635      0.0   \n",
       "2905  2937859    364.76  367.3100  351.54   352.27    2937859      0.0   \n",
       "2906  2398848    373.50  374.9000  367.93   368.04    2398848      0.0   \n",
       "2907  1887130    372.71  373.6938  368.45   372.30    1887130      0.0   \n",
       "2908  1707088    374.05  378.0000  371.38   374.59    1707088      0.0   \n",
       "\n",
       "      splitFactor  \n",
       "2904          1.0  \n",
       "2905          1.0  \n",
       "2906          1.0  \n",
       "2907          1.0  \n",
       "2908          1.0  "
      ],
      "text/html": [
       "<div>\n",
       "<style scoped>\n",
       "    .dataframe tbody tr th:only-of-type {\n",
       "        vertical-align: middle;\n",
       "    }\n",
       "\n",
       "    .dataframe tbody tr th {\n",
       "        vertical-align: top;\n",
       "    }\n",
       "\n",
       "    .dataframe thead th {\n",
       "        text-align: right;\n",
       "    }\n",
       "</style>\n",
       "<table border=\"1\" class=\"dataframe\">\n",
       "  <thead>\n",
       "    <tr style=\"text-align: right;\">\n",
       "      <th></th>\n",
       "      <th>symbol</th>\n",
       "      <th>date</th>\n",
       "      <th>close</th>\n",
       "      <th>high</th>\n",
       "      <th>low</th>\n",
       "      <th>open</th>\n",
       "      <th>volume</th>\n",
       "      <th>adjClose</th>\n",
       "      <th>adjHigh</th>\n",
       "      <th>adjLow</th>\n",
       "      <th>adjOpen</th>\n",
       "      <th>adjVolume</th>\n",
       "      <th>divCash</th>\n",
       "      <th>splitFactor</th>\n",
       "    </tr>\n",
       "  </thead>\n",
       "  <tbody>\n",
       "    <tr>\n",
       "      <th>2904</th>\n",
       "      <td>GS</td>\n",
       "      <td>2021-07-19 00:00:00+00:00</td>\n",
       "      <td>354.72</td>\n",
       "      <td>355.1900</td>\n",
       "      <td>349.00</td>\n",
       "      <td>354.00</td>\n",
       "      <td>4394635</td>\n",
       "      <td>354.72</td>\n",
       "      <td>355.1900</td>\n",
       "      <td>349.00</td>\n",
       "      <td>354.00</td>\n",
       "      <td>4394635</td>\n",
       "      <td>0.0</td>\n",
       "      <td>1.0</td>\n",
       "    </tr>\n",
       "    <tr>\n",
       "      <th>2905</th>\n",
       "      <td>GS</td>\n",
       "      <td>2021-07-20 00:00:00+00:00</td>\n",
       "      <td>364.76</td>\n",
       "      <td>367.3100</td>\n",
       "      <td>351.54</td>\n",
       "      <td>352.27</td>\n",
       "      <td>2937859</td>\n",
       "      <td>364.76</td>\n",
       "      <td>367.3100</td>\n",
       "      <td>351.54</td>\n",
       "      <td>352.27</td>\n",
       "      <td>2937859</td>\n",
       "      <td>0.0</td>\n",
       "      <td>1.0</td>\n",
       "    </tr>\n",
       "    <tr>\n",
       "      <th>2906</th>\n",
       "      <td>GS</td>\n",
       "      <td>2021-07-21 00:00:00+00:00</td>\n",
       "      <td>373.50</td>\n",
       "      <td>374.9000</td>\n",
       "      <td>367.93</td>\n",
       "      <td>368.04</td>\n",
       "      <td>2398848</td>\n",
       "      <td>373.50</td>\n",
       "      <td>374.9000</td>\n",
       "      <td>367.93</td>\n",
       "      <td>368.04</td>\n",
       "      <td>2398848</td>\n",
       "      <td>0.0</td>\n",
       "      <td>1.0</td>\n",
       "    </tr>\n",
       "    <tr>\n",
       "      <th>2907</th>\n",
       "      <td>GS</td>\n",
       "      <td>2021-07-22 00:00:00+00:00</td>\n",
       "      <td>372.71</td>\n",
       "      <td>373.6938</td>\n",
       "      <td>368.45</td>\n",
       "      <td>372.30</td>\n",
       "      <td>1887130</td>\n",
       "      <td>372.71</td>\n",
       "      <td>373.6938</td>\n",
       "      <td>368.45</td>\n",
       "      <td>372.30</td>\n",
       "      <td>1887130</td>\n",
       "      <td>0.0</td>\n",
       "      <td>1.0</td>\n",
       "    </tr>\n",
       "    <tr>\n",
       "      <th>2908</th>\n",
       "      <td>GS</td>\n",
       "      <td>2021-07-23 00:00:00+00:00</td>\n",
       "      <td>374.05</td>\n",
       "      <td>378.0000</td>\n",
       "      <td>371.38</td>\n",
       "      <td>374.59</td>\n",
       "      <td>1707088</td>\n",
       "      <td>374.05</td>\n",
       "      <td>378.0000</td>\n",
       "      <td>371.38</td>\n",
       "      <td>374.59</td>\n",
       "      <td>1707088</td>\n",
       "      <td>0.0</td>\n",
       "      <td>1.0</td>\n",
       "    </tr>\n",
       "  </tbody>\n",
       "</table>\n",
       "</div>"
      ]
     },
     "metadata": {},
     "execution_count": 162
    }
   ],
   "metadata": {}
  },
  {
   "cell_type": "code",
   "execution_count": 163,
   "source": [
    "import matplotlib.pyplot as plt\n",
    "import seaborn as sns\n",
    "plt.figure(figsize=(15,6))\n",
    "sns.set()\n",
    "plt.title(\"Goldman Sachs's Stock Price\")\n",
    "\n",
    "plt.ylabel('Close Price-USD')\n",
    "plt.plot(gs_data[\"close\"])"
   ],
   "outputs": [
    {
     "output_type": "execute_result",
     "data": {
      "text/plain": [
       "[<matplotlib.lines.Line2D at 0x7f61137f0ac0>]"
      ]
     },
     "metadata": {},
     "execution_count": 163
    },
    {
     "output_type": "display_data",
     "data": {
      "text/plain": [
       "<Figure size 1080x432 with 1 Axes>"
      ],
      "image/png": "[encoded data removed]"
     },
     "metadata": {}
    }
   ],
   "metadata": {}
  },
  {
   "cell_type": "code",
   "execution_count": 164,
   "source": [
    "gs_data[['divCash','splitFactor']]"
   ],
   "outputs": [
    {
     "output_type": "execute_result",
     "data": {
      "text/plain": [
       "      divCash  splitFactor\n",
       "0         0.0          1.0\n",
       "1         0.0          1.0\n",
       "2         0.0          1.0\n",
       "3         0.0          1.0\n",
       "4         0.0          1.0\n",
       "...       ...          ...\n",
       "2904      0.0          1.0\n",
       "2905      0.0          1.0\n",
       "2906      0.0          1.0\n",
       "2907      0.0          1.0\n",
       "2908      0.0          1.0\n",
       "\n",
       "[2909 rows x 2 columns]"
      ],
      "text/html": [
       "<div>\n",
       "<style scoped>\n",
       "    .dataframe tbody tr th:only-of-type {\n",
       "        vertical-align: middle;\n",
       "    }\n",
       "\n",
       "    .dataframe tbody tr th {\n",
       "        vertical-align: top;\n",
       "    }\n",
       "\n",
       "    .dataframe thead th {\n",
       "        text-align: right;\n",
       "    }\n",
       "</style>\n",
       "<table border=\"1\" class=\"dataframe\">\n",
       "  <thead>\n",
       "    <tr style=\"text-align: right;\">\n",
       "      <th></th>\n",
       "      <th>divCash</th>\n",
       "      <th>splitFactor</th>\n",
       "    </tr>\n",
       "  </thead>\n",
       "  <tbody>\n",
       "    <tr>\n",
       "      <th>0</th>\n",
       "      <td>0.0</td>\n",
       "      <td>1.0</td>\n",
       "    </tr>\n",
       "    <tr>\n",
       "      <th>1</th>\n",
       "      <td>0.0</td>\n",
       "      <td>1.0</td>\n",
       "    </tr>\n",
       "    <tr>\n",
       "      <th>2</th>\n",
       "      <td>0.0</td>\n",
       "      <td>1.0</td>\n",
       "    </tr>\n",
       "    <tr>\n",
       "      <th>3</th>\n",
       "      <td>0.0</td>\n",
       "      <td>1.0</td>\n",
       "    </tr>\n",
       "    <tr>\n",
       "      <th>4</th>\n",
       "      <td>0.0</td>\n",
       "      <td>1.0</td>\n",
       "    </tr>\n",
       "    <tr>\n",
       "      <th>...</th>\n",
       "      <td>...</td>\n",
       "      <td>...</td>\n",
       "    </tr>\n",
       "    <tr>\n",
       "      <th>2904</th>\n",
       "      <td>0.0</td>\n",
       "      <td>1.0</td>\n",
       "    </tr>\n",
       "    <tr>\n",
       "      <th>2905</th>\n",
       "      <td>0.0</td>\n",
       "      <td>1.0</td>\n",
       "    </tr>\n",
       "    <tr>\n",
       "      <th>2906</th>\n",
       "      <td>0.0</td>\n",
       "      <td>1.0</td>\n",
       "    </tr>\n",
       "    <tr>\n",
       "      <th>2907</th>\n",
       "      <td>0.0</td>\n",
       "      <td>1.0</td>\n",
       "    </tr>\n",
       "    <tr>\n",
       "      <th>2908</th>\n",
       "      <td>0.0</td>\n",
       "      <td>1.0</td>\n",
       "    </tr>\n",
       "  </tbody>\n",
       "</table>\n",
       "<p>2909 rows × 2 columns</p>\n",
       "</div>"
      ]
     },
     "metadata": {},
     "execution_count": 164
    }
   ],
   "metadata": {}
  },
  {
   "cell_type": "markdown",
   "source": [
    "As we can see divCash and splitFactor not change their values at all hence they are excluded from the list of features"
   ],
   "metadata": {}
  },
  {
   "cell_type": "code",
   "execution_count": 165,
   "source": [
    "print('Total Days = ',gs_data.shape)"
   ],
   "outputs": [
    {
     "output_type": "stream",
     "name": "stdout",
     "text": [
      "Total Days =  (2909, 14)\n"
     ]
    }
   ],
   "metadata": {}
  },
  {
   "cell_type": "markdown",
   "source": [
    "Pandas pct_change() method is applied on series with numeric data to calculate Percentage change after n number of elements. By default, it calculates percentage change of current element from the previous element. ... First, n(n=period) values are always NaN, since there is no previous value to calculate change.\n",
    "\n",
    "Here a moving average is performed over a period of 60 days\n",
    "\n",
    "We are going to average 60 days in the future compute the relative returns and see if it is positive or negative\n",
    "\n",
    "\n",
    "**EXPLANATION-**\n",
    "We are seeing the percentage change of 'close' column in the future to see what will be the change in percentage of the closing stock price after taking 60 days into consideration starting from 2010-01-04 and then by using -60 in the shift() function we are shifting the values of the 'return' column 60 dates up essentially showing what will be the percentage change of the closing stock prices 60 days from now "
   ],
   "metadata": {}
  },
  {
   "cell_type": "code",
   "execution_count": 166,
   "source": [
    "gs_data['Return'] = gs_data['close'].pct_change(60).shift(-60)\n",
    "List_of_Features = ['open','high','low','close','volume','adjClose','adjHigh','adjLow','adjOpen','adjVolume']"
   ],
   "outputs": [],
   "metadata": {}
  },
  {
   "cell_type": "code",
   "execution_count": 167,
   "source": [
    "gs_data\n"
   ],
   "outputs": [
    {
     "output_type": "execute_result",
     "data": {
      "text/plain": [
       "     symbol                       date   close      high     low    open  \\\n",
       "0        GS  2010-01-04 00:00:00+00:00  173.08  174.2500  169.51  170.05   \n",
       "1        GS  2010-01-05 00:00:00+00:00  176.14  176.2600  172.57  173.00   \n",
       "2        GS  2010-01-06 00:00:00+00:00  174.26  175.3800  173.76  175.38   \n",
       "3        GS  2010-01-07 00:00:00+00:00  177.67  178.7500  173.95  174.32   \n",
       "4        GS  2010-01-08 00:00:00+00:00  174.31  177.4300  173.95  176.33   \n",
       "...     ...                        ...     ...       ...     ...     ...   \n",
       "2904     GS  2021-07-19 00:00:00+00:00  354.72  355.1900  349.00  354.00   \n",
       "2905     GS  2021-07-20 00:00:00+00:00  364.76  367.3100  351.54  352.27   \n",
       "2906     GS  2021-07-21 00:00:00+00:00  373.50  374.9000  367.93  368.04   \n",
       "2907     GS  2021-07-22 00:00:00+00:00  372.71  373.6938  368.45  372.30   \n",
       "2908     GS  2021-07-23 00:00:00+00:00  374.05  378.0000  371.38  374.59   \n",
       "\n",
       "        volume    adjClose     adjHigh      adjLow     adjOpen  adjVolume  \\\n",
       "0      9135000  146.098542  147.086150  143.085069  143.540889    9135000   \n",
       "1     11659400  148.681518  148.782811  145.668046  146.031013   11659400   \n",
       "2      7381100  147.094591  148.039995  146.672537  148.039995    7381100   \n",
       "3      8727400  149.973006  150.884645  146.832917  147.145238    8727400   \n",
       "4      7268100  147.136797  149.770420  146.832917  148.841899    7268100   \n",
       "...        ...         ...         ...         ...         ...        ...   \n",
       "2904   4394635  354.720000  355.190000  349.000000  354.000000    4394635   \n",
       "2905   2937859  364.760000  367.310000  351.540000  352.270000    2937859   \n",
       "2906   2398848  373.500000  374.900000  367.930000  368.040000    2398848   \n",
       "2907   1887130  372.710000  373.693800  368.450000  372.300000    1887130   \n",
       "2908   1707088  374.050000  378.000000  371.380000  374.590000    1707088   \n",
       "\n",
       "      divCash  splitFactor    Return  \n",
       "0         0.0          1.0 -0.014155  \n",
       "1         0.0          1.0 -0.033610  \n",
       "2         0.0          1.0 -0.006312  \n",
       "3         0.0          1.0 -0.026848  \n",
       "4         0.0          1.0  0.011761  \n",
       "...       ...          ...       ...  \n",
       "2904      0.0          1.0       NaN  \n",
       "2905      0.0          1.0       NaN  \n",
       "2906      0.0          1.0       NaN  \n",
       "2907      0.0          1.0       NaN  \n",
       "2908      0.0          1.0       NaN  \n",
       "\n",
       "[2909 rows x 15 columns]"
      ],
      "text/html": [
       "<div>\n",
       "<style scoped>\n",
       "    .dataframe tbody tr th:only-of-type {\n",
       "        vertical-align: middle;\n",
       "    }\n",
       "\n",
       "    .dataframe tbody tr th {\n",
       "        vertical-align: top;\n",
       "    }\n",
       "\n",
       "    .dataframe thead th {\n",
       "        text-align: right;\n",
       "    }\n",
       "</style>\n",
       "<table border=\"1\" class=\"dataframe\">\n",
       "  <thead>\n",
       "    <tr style=\"text-align: right;\">\n",
       "      <th></th>\n",
       "      <th>symbol</th>\n",
       "      <th>date</th>\n",
       "      <th>close</th>\n",
       "      <th>high</th>\n",
       "      <th>low</th>\n",
       "      <th>open</th>\n",
       "      <th>volume</th>\n",
       "      <th>adjClose</th>\n",
       "      <th>adjHigh</th>\n",
       "      <th>adjLow</th>\n",
       "      <th>adjOpen</th>\n",
       "      <th>adjVolume</th>\n",
       "      <th>divCash</th>\n",
       "      <th>splitFactor</th>\n",
       "      <th>Return</th>\n",
       "    </tr>\n",
       "  </thead>\n",
       "  <tbody>\n",
       "    <tr>\n",
       "      <th>0</th>\n",
       "      <td>GS</td>\n",
       "      <td>2010-01-04 00:00:00+00:00</td>\n",
       "      <td>173.08</td>\n",
       "      <td>174.2500</td>\n",
       "      <td>169.51</td>\n",
       "      <td>170.05</td>\n",
       "      <td>9135000</td>\n",
       "      <td>146.098542</td>\n",
       "      <td>147.086150</td>\n",
       "      <td>143.085069</td>\n",
       "      <td>143.540889</td>\n",
       "      <td>9135000</td>\n",
       "      <td>0.0</td>\n",
       "      <td>1.0</td>\n",
       "      <td>-0.014155</td>\n",
       "    </tr>\n",
       "    <tr>\n",
       "      <th>1</th>\n",
       "      <td>GS</td>\n",
       "      <td>2010-01-05 00:00:00+00:00</td>\n",
       "      <td>176.14</td>\n",
       "      <td>176.2600</td>\n",
       "      <td>172.57</td>\n",
       "      <td>173.00</td>\n",
       "      <td>11659400</td>\n",
       "      <td>148.681518</td>\n",
       "      <td>148.782811</td>\n",
       "      <td>145.668046</td>\n",
       "      <td>146.031013</td>\n",
       "      <td>11659400</td>\n",
       "      <td>0.0</td>\n",
       "      <td>1.0</td>\n",
       "      <td>-0.033610</td>\n",
       "    </tr>\n",
       "    <tr>\n",
       "      <th>2</th>\n",
       "      <td>GS</td>\n",
       "      <td>2010-01-06 00:00:00+00:00</td>\n",
       "      <td>174.26</td>\n",
       "      <td>175.3800</td>\n",
       "      <td>173.76</td>\n",
       "      <td>175.38</td>\n",
       "      <td>7381100</td>\n",
       "      <td>147.094591</td>\n",
       "      <td>148.039995</td>\n",
       "      <td>146.672537</td>\n",
       "      <td>148.039995</td>\n",
       "      <td>7381100</td>\n",
       "      <td>0.0</td>\n",
       "      <td>1.0</td>\n",
       "      <td>-0.006312</td>\n",
       "    </tr>\n",
       "    <tr>\n",
       "      <th>3</th>\n",
       "      <td>GS</td>\n",
       "      <td>2010-01-07 00:00:00+00:00</td>\n",
       "      <td>177.67</td>\n",
       "      <td>178.7500</td>\n",
       "      <td>173.95</td>\n",
       "      <td>174.32</td>\n",
       "      <td>8727400</td>\n",
       "      <td>149.973006</td>\n",
       "      <td>150.884645</td>\n",
       "      <td>146.832917</td>\n",
       "      <td>147.145238</td>\n",
       "      <td>8727400</td>\n",
       "      <td>0.0</td>\n",
       "      <td>1.0</td>\n",
       "      <td>-0.026848</td>\n",
       "    </tr>\n",
       "    <tr>\n",
       "      <th>4</th>\n",
       "      <td>GS</td>\n",
       "      <td>2010-01-08 00:00:00+00:00</td>\n",
       "      <td>174.31</td>\n",
       "      <td>177.4300</td>\n",
       "      <td>173.95</td>\n",
       "      <td>176.33</td>\n",
       "      <td>7268100</td>\n",
       "      <td>147.136797</td>\n",
       "      <td>149.770420</td>\n",
       "      <td>146.832917</td>\n",
       "      <td>148.841899</td>\n",
       "      <td>7268100</td>\n",
       "      <td>0.0</td>\n",
       "      <td>1.0</td>\n",
       "      <td>0.011761</td>\n",
       "    </tr>\n",
       "    <tr>\n",
       "      <th>...</th>\n",
       "      <td>...</td>\n",
       "      <td>...</td>\n",
       "      <td>...</td>\n",
       "      <td>...</td>\n",
       "      <td>...</td>\n",
       "      <td>...</td>\n",
       "      <td>...</td>\n",
       "      <td>...</td>\n",
       "      <td>...</td>\n",
       "      <td>...</td>\n",
       "      <td>...</td>\n",
       "      <td>...</td>\n",
       "      <td>...</td>\n",
       "      <td>...</td>\n",
       "      <td>...</td>\n",
       "    </tr>\n",
       "    <tr>\n",
       "      <th>2904</th>\n",
       "      <td>GS</td>\n",
       "      <td>2021-07-19 00:00:00+00:00</td>\n",
       "      <td>354.72</td>\n",
       "      <td>355.1900</td>\n",
       "      <td>349.00</td>\n",
       "      <td>354.00</td>\n",
       "      <td>4394635</td>\n",
       "      <td>354.720000</td>\n",
       "      <td>355.190000</td>\n",
       "      <td>349.000000</td>\n",
       "      <td>354.000000</td>\n",
       "      <td>4394635</td>\n",
       "      <td>0.0</td>\n",
       "      <td>1.0</td>\n",
       "      <td>NaN</td>\n",
       "    </tr>\n",
       "    <tr>\n",
       "      <th>2905</th>\n",
       "      <td>GS</td>\n",
       "      <td>2021-07-20 00:00:00+00:00</td>\n",
       "      <td>364.76</td>\n",
       "      <td>367.3100</td>\n",
       "      <td>351.54</td>\n",
       "      <td>352.27</td>\n",
       "      <td>2937859</td>\n",
       "      <td>364.760000</td>\n",
       "      <td>367.310000</td>\n",
       "      <td>351.540000</td>\n",
       "      <td>352.270000</td>\n",
       "      <td>2937859</td>\n",
       "      <td>0.0</td>\n",
       "      <td>1.0</td>\n",
       "      <td>NaN</td>\n",
       "    </tr>\n",
       "    <tr>\n",
       "      <th>2906</th>\n",
       "      <td>GS</td>\n",
       "      <td>2021-07-21 00:00:00+00:00</td>\n",
       "      <td>373.50</td>\n",
       "      <td>374.9000</td>\n",
       "      <td>367.93</td>\n",
       "      <td>368.04</td>\n",
       "      <td>2398848</td>\n",
       "      <td>373.500000</td>\n",
       "      <td>374.900000</td>\n",
       "      <td>367.930000</td>\n",
       "      <td>368.040000</td>\n",
       "      <td>2398848</td>\n",
       "      <td>0.0</td>\n",
       "      <td>1.0</td>\n",
       "      <td>NaN</td>\n",
       "    </tr>\n",
       "    <tr>\n",
       "      <th>2907</th>\n",
       "      <td>GS</td>\n",
       "      <td>2021-07-22 00:00:00+00:00</td>\n",
       "      <td>372.71</td>\n",
       "      <td>373.6938</td>\n",
       "      <td>368.45</td>\n",
       "      <td>372.30</td>\n",
       "      <td>1887130</td>\n",
       "      <td>372.710000</td>\n",
       "      <td>373.693800</td>\n",
       "      <td>368.450000</td>\n",
       "      <td>372.300000</td>\n",
       "      <td>1887130</td>\n",
       "      <td>0.0</td>\n",
       "      <td>1.0</td>\n",
       "      <td>NaN</td>\n",
       "    </tr>\n",
       "    <tr>\n",
       "      <th>2908</th>\n",
       "      <td>GS</td>\n",
       "      <td>2021-07-23 00:00:00+00:00</td>\n",
       "      <td>374.05</td>\n",
       "      <td>378.0000</td>\n",
       "      <td>371.38</td>\n",
       "      <td>374.59</td>\n",
       "      <td>1707088</td>\n",
       "      <td>374.050000</td>\n",
       "      <td>378.000000</td>\n",
       "      <td>371.380000</td>\n",
       "      <td>374.590000</td>\n",
       "      <td>1707088</td>\n",
       "      <td>0.0</td>\n",
       "      <td>1.0</td>\n",
       "      <td>NaN</td>\n",
       "    </tr>\n",
       "  </tbody>\n",
       "</table>\n",
       "<p>2909 rows × 15 columns</p>\n",
       "</div>"
      ]
     },
     "metadata": {},
     "execution_count": 167
    }
   ],
   "metadata": {}
  },
  {
   "cell_type": "markdown",
   "source": [
    "If return is positive then the value of return is 1 else vice versa\n"
   ],
   "metadata": {}
  },
  {
   "cell_type": "code",
   "execution_count": 168,
   "source": [
    "import numpy as np\n",
    "X = gs_data[List_of_Features]\n",
    "y = np.where(gs_data.Return > 0, 1, 0)"
   ],
   "outputs": [],
   "metadata": {}
  },
  {
   "cell_type": "code",
   "execution_count": 169,
   "source": [
    "X"
   ],
   "outputs": [
    {
     "output_type": "execute_result",
     "data": {
      "text/plain": [
       "        open      high     low   close    volume    adjClose     adjHigh  \\\n",
       "0     170.05  174.2500  169.51  173.08   9135000  146.098542  147.086150   \n",
       "1     173.00  176.2600  172.57  176.14  11659400  148.681518  148.782811   \n",
       "2     175.38  175.3800  173.76  174.26   7381100  147.094591  148.039995   \n",
       "3     174.32  178.7500  173.95  177.67   8727400  149.973006  150.884645   \n",
       "4     176.33  177.4300  173.95  174.31   7268100  147.136797  149.770420   \n",
       "...      ...       ...     ...     ...       ...         ...         ...   \n",
       "2904  354.00  355.1900  349.00  354.72   4394635  354.720000  355.190000   \n",
       "2905  352.27  367.3100  351.54  364.76   2937859  364.760000  367.310000   \n",
       "2906  368.04  374.9000  367.93  373.50   2398848  373.500000  374.900000   \n",
       "2907  372.30  373.6938  368.45  372.71   1887130  372.710000  373.693800   \n",
       "2908  374.59  378.0000  371.38  374.05   1707088  374.050000  378.000000   \n",
       "\n",
       "          adjLow     adjOpen  adjVolume  \n",
       "0     143.085069  143.540889    9135000  \n",
       "1     145.668046  146.031013   11659400  \n",
       "2     146.672537  148.039995    7381100  \n",
       "3     146.832917  147.145238    8727400  \n",
       "4     146.832917  148.841899    7268100  \n",
       "...          ...         ...        ...  \n",
       "2904  349.000000  354.000000    4394635  \n",
       "2905  351.540000  352.270000    2937859  \n",
       "2906  367.930000  368.040000    2398848  \n",
       "2907  368.450000  372.300000    1887130  \n",
       "2908  371.380000  374.590000    1707088  \n",
       "\n",
       "[2909 rows x 10 columns]"
      ],
      "text/html": [
       "<div>\n",
       "<style scoped>\n",
       "    .dataframe tbody tr th:only-of-type {\n",
       "        vertical-align: middle;\n",
       "    }\n",
       "\n",
       "    .dataframe tbody tr th {\n",
       "        vertical-align: top;\n",
       "    }\n",
       "\n",
       "    .dataframe thead th {\n",
       "        text-align: right;\n",
       "    }\n",
       "</style>\n",
       "<table border=\"1\" class=\"dataframe\">\n",
       "  <thead>\n",
       "    <tr style=\"text-align: right;\">\n",
       "      <th></th>\n",
       "      <th>open</th>\n",
       "      <th>high</th>\n",
       "      <th>low</th>\n",
       "      <th>close</th>\n",
       "      <th>volume</th>\n",
       "      <th>adjClose</th>\n",
       "      <th>adjHigh</th>\n",
       "      <th>adjLow</th>\n",
       "      <th>adjOpen</th>\n",
       "      <th>adjVolume</th>\n",
       "    </tr>\n",
       "  </thead>\n",
       "  <tbody>\n",
       "    <tr>\n",
       "      <th>0</th>\n",
       "      <td>170.05</td>\n",
       "      <td>174.2500</td>\n",
       "      <td>169.51</td>\n",
       "      <td>173.08</td>\n",
       "      <td>9135000</td>\n",
       "      <td>146.098542</td>\n",
       "      <td>147.086150</td>\n",
       "      <td>143.085069</td>\n",
       "      <td>143.540889</td>\n",
       "      <td>9135000</td>\n",
       "    </tr>\n",
       "    <tr>\n",
       "      <th>1</th>\n",
       "      <td>173.00</td>\n",
       "      <td>176.2600</td>\n",
       "      <td>172.57</td>\n",
       "      <td>176.14</td>\n",
       "      <td>11659400</td>\n",
       "      <td>148.681518</td>\n",
       "      <td>148.782811</td>\n",
       "      <td>145.668046</td>\n",
       "      <td>146.031013</td>\n",
       "      <td>11659400</td>\n",
       "    </tr>\n",
       "    <tr>\n",
       "      <th>2</th>\n",
       "      <td>175.38</td>\n",
       "      <td>175.3800</td>\n",
       "      <td>173.76</td>\n",
       "      <td>174.26</td>\n",
       "      <td>7381100</td>\n",
       "      <td>147.094591</td>\n",
       "      <td>148.039995</td>\n",
       "      <td>146.672537</td>\n",
       "      <td>148.039995</td>\n",
       "      <td>7381100</td>\n",
       "    </tr>\n",
       "    <tr>\n",
       "      <th>3</th>\n",
       "      <td>174.32</td>\n",
       "      <td>178.7500</td>\n",
       "      <td>173.95</td>\n",
       "      <td>177.67</td>\n",
       "      <td>8727400</td>\n",
       "      <td>149.973006</td>\n",
       "      <td>150.884645</td>\n",
       "      <td>146.832917</td>\n",
       "      <td>147.145238</td>\n",
       "      <td>8727400</td>\n",
       "    </tr>\n",
       "    <tr>\n",
       "      <th>4</th>\n",
       "      <td>176.33</td>\n",
       "      <td>177.4300</td>\n",
       "      <td>173.95</td>\n",
       "      <td>174.31</td>\n",
       "      <td>7268100</td>\n",
       "      <td>147.136797</td>\n",
       "      <td>149.770420</td>\n",
       "      <td>146.832917</td>\n",
       "      <td>148.841899</td>\n",
       "      <td>7268100</td>\n",
       "    </tr>\n",
       "    <tr>\n",
       "      <th>...</th>\n",
       "      <td>...</td>\n",
       "      <td>...</td>\n",
       "      <td>...</td>\n",
       "      <td>...</td>\n",
       "      <td>...</td>\n",
       "      <td>...</td>\n",
       "      <td>...</td>\n",
       "      <td>...</td>\n",
       "      <td>...</td>\n",
       "      <td>...</td>\n",
       "    </tr>\n",
       "    <tr>\n",
       "      <th>2904</th>\n",
       "      <td>354.00</td>\n",
       "      <td>355.1900</td>\n",
       "      <td>349.00</td>\n",
       "      <td>354.72</td>\n",
       "      <td>4394635</td>\n",
       "      <td>354.720000</td>\n",
       "      <td>355.190000</td>\n",
       "      <td>349.000000</td>\n",
       "      <td>354.000000</td>\n",
       "      <td>4394635</td>\n",
       "    </tr>\n",
       "    <tr>\n",
       "      <th>2905</th>\n",
       "      <td>352.27</td>\n",
       "      <td>367.3100</td>\n",
       "      <td>351.54</td>\n",
       "      <td>364.76</td>\n",
       "      <td>2937859</td>\n",
       "      <td>364.760000</td>\n",
       "      <td>367.310000</td>\n",
       "      <td>351.540000</td>\n",
       "      <td>352.270000</td>\n",
       "      <td>2937859</td>\n",
       "    </tr>\n",
       "    <tr>\n",
       "      <th>2906</th>\n",
       "      <td>368.04</td>\n",
       "      <td>374.9000</td>\n",
       "      <td>367.93</td>\n",
       "      <td>373.50</td>\n",
       "      <td>2398848</td>\n",
       "      <td>373.500000</td>\n",
       "      <td>374.900000</td>\n",
       "      <td>367.930000</td>\n",
       "      <td>368.040000</td>\n",
       "      <td>2398848</td>\n",
       "    </tr>\n",
       "    <tr>\n",
       "      <th>2907</th>\n",
       "      <td>372.30</td>\n",
       "      <td>373.6938</td>\n",
       "      <td>368.45</td>\n",
       "      <td>372.71</td>\n",
       "      <td>1887130</td>\n",
       "      <td>372.710000</td>\n",
       "      <td>373.693800</td>\n",
       "      <td>368.450000</td>\n",
       "      <td>372.300000</td>\n",
       "      <td>1887130</td>\n",
       "    </tr>\n",
       "    <tr>\n",
       "      <th>2908</th>\n",
       "      <td>374.59</td>\n",
       "      <td>378.0000</td>\n",
       "      <td>371.38</td>\n",
       "      <td>374.05</td>\n",
       "      <td>1707088</td>\n",
       "      <td>374.050000</td>\n",
       "      <td>378.000000</td>\n",
       "      <td>371.380000</td>\n",
       "      <td>374.590000</td>\n",
       "      <td>1707088</td>\n",
       "    </tr>\n",
       "  </tbody>\n",
       "</table>\n",
       "<p>2909 rows × 10 columns</p>\n",
       "</div>"
      ]
     },
     "metadata": {},
     "execution_count": 169
    }
   ],
   "metadata": {}
  },
  {
   "cell_type": "code",
   "execution_count": 170,
   "source": [
    "y"
   ],
   "outputs": [
    {
     "output_type": "execute_result",
     "data": {
      "text/plain": [
       "array([0, 0, 0, ..., 0, 0, 0])"
      ]
     },
     "metadata": {},
     "execution_count": 170
    }
   ],
   "metadata": {}
  },
  {
   "cell_type": "code",
   "execution_count": 171,
   "source": [
    "from sklearn.model_selection import train_test_split\n",
    "X_train,X_test,y_train,y_test = train_test_split(X,y,test_size = 0.3, random_state = 42)\n",
    "print(X_train.shape)\n",
    "print(X_test.shape)\n",
    "print(y_train.shape)\n",
    "print(y_test.shape)"
   ],
   "outputs": [
    {
     "output_type": "stream",
     "name": "stdout",
     "text": [
      "(2036, 10)\n",
      "(873, 10)\n",
      "(2036,)\n",
      "(873,)\n"
     ]
    }
   ],
   "metadata": {}
  },
  {
   "cell_type": "code",
   "execution_count": 172,
   "source": [
    "from sklearn.tree import DecisionTreeClassifier\n",
    "treeClassifier = DecisionTreeClassifier(max_depth = 3, min_samples_leaf = 6)\n",
    "treeClassifier.fit(X_train,y_train)"
   ],
   "outputs": [
    {
     "output_type": "execute_result",
     "data": {
      "text/plain": [
       "DecisionTreeClassifier(max_depth=3, min_samples_leaf=6)"
      ]
     },
     "metadata": {},
     "execution_count": 172
    }
   ],
   "metadata": {}
  },
  {
   "cell_type": "markdown",
   "source": [
    " min_samples_leaf specifies the minimum number of samples required to be at a leaf node.\n",
    "\n",
    "Max Depth. Controls the maximum depth of the tree that will be created. It can also be described as the length of the longest path from the tree root to a leaf.\n"
   ],
   "metadata": {}
  },
  {
   "cell_type": "code",
   "execution_count": 173,
   "source": [
    "y_pred = treeClassifier.predict(X_test)"
   ],
   "outputs": [],
   "metadata": {}
  },
  {
   "cell_type": "code",
   "execution_count": 174,
   "source": [
    "from sklearn.metrics import classification_report\n",
    "report = classification_report(y_test,y_pred)\n",
    "print(report)"
   ],
   "outputs": [
    {
     "output_type": "stream",
     "name": "stdout",
     "text": [
      "              precision    recall  f1-score   support\n",
      "\n",
      "           0       0.72      0.32      0.45       383\n",
      "           1       0.63      0.90      0.74       490\n",
      "\n",
      "    accuracy                           0.65       873\n",
      "   macro avg       0.68      0.61      0.59       873\n",
      "weighted avg       0.67      0.65      0.61       873\n",
      "\n"
     ]
    }
   ],
   "metadata": {}
  },
  {
   "cell_type": "code",
   "execution_count": 175,
   "source": [
    "from sklearn import tree\n",
    "import graphviz\n",
    "data =tree.export_graphviz(treeClassifier,filled=True,feature_names=List_of_Features,class_names = np.array(['0','1'])) \n",
    "graphviz.Source(data)"
   ],
   "outputs": [
    {
     "output_type": "execute_result",
     "data": {
      "text/plain": [
       "<graphviz.files.Source at 0x7f6113487670>"
      ],
      "image/svg+xml": "<?xml version=\"1.0\" encoding=\"UTF-8\" standalone=\"no\"?>\n<!DOCTYPE svg PUBLIC \"-//W3C//DTD SVG 1.1//EN\"\n \"http://www.w3.org/Graphics/SVG/1.1/DTD/svg11.dtd\">\n<!-- Generated by graphviz version 2.48.0 (0)\n -->\n<!-- Title: Tree Pages: 1 -->\n<svg width=\"910pt\" height=\"433pt\"\n viewBox=\"0.00 0.00 910.00 433.00\" xmlns=\"http://www.w3.org/2000/svg\" xmlns:xlink=\"http://www.w3.org/1999/xlink\">\n<g id=\"graph0\" class=\"graph\" transform=\"scale(1 1) rotate(0) translate(4 429)\">\n<title>Tree</title>\n<polygon fill=\"white\" stroke=\"transparent\" points=\"-4,4 -4,-429 906,-429 906,4 -4,4\"/>\n<!-- 0 -->\n<g id=\"node1\" class=\"node\">\n<title>0</title>\n<polygon fill=\"#c6e3f7\" stroke=\"black\" points=\"615,-425 457,-425 457,-342 615,-342 615,-425\"/>\n<text text-anchor=\"middle\" x=\"536\" y=\"-409.8\" font-family=\"Times,serif\" font-size=\"14.00\">adjHigh &lt;= 214.66</text>\n<text text-anchor=\"middle\" x=\"536\" y=\"-394.8\" font-family=\"Times,serif\" font-size=\"14.00\">gini = 0.486</text>\n<text text-anchor=\"middle\" x=\"536\" y=\"-379.8\" font-family=\"Times,serif\" font-size=\"14.00\">samples = 2036</text>\n<text text-anchor=\"middle\" x=\"536\" y=\"-364.8\" font-family=\"Times,serif\" font-size=\"14.00\">value = [846, 1190]</text>\n<text text-anchor=\"middle\" x=\"536\" y=\"-349.8\" font-family=\"Times,serif\" font-size=\"14.00\">class = 1</text>\n</g>\n<!-- 1 -->\n<g id=\"node2\" class=\"node\">\n<title>1</title>\n<polygon fill=\"#a9d5f4\" stroke=\"black\" points=\"525,-306 367,-306 367,-223 525,-223 525,-306\"/>\n<text text-anchor=\"middle\" x=\"446\" y=\"-290.8\" font-family=\"Times,serif\" font-size=\"14.00\">high &lt;= 107.765</text>\n<text text-anchor=\"middle\" x=\"446\" y=\"-275.8\" font-family=\"Times,serif\" font-size=\"14.00\">gini = 0.462</text>\n<text text-anchor=\"middle\" x=\"446\" y=\"-260.8\" font-family=\"Times,serif\" font-size=\"14.00\">samples = 1609</text>\n<text text-anchor=\"middle\" x=\"446\" y=\"-245.8\" font-family=\"Times,serif\" font-size=\"14.00\">value = [582, 1027]</text>\n<text text-anchor=\"middle\" x=\"446\" y=\"-230.8\" font-family=\"Times,serif\" font-size=\"14.00\">class = 1</text>\n</g>\n<!-- 0&#45;&gt;1 -->\n<g id=\"edge1\" class=\"edge\">\n<title>0&#45;&gt;1</title>\n<path fill=\"none\" stroke=\"black\" d=\"M504.77,-341.91C497.86,-332.92 490.47,-323.32 483.35,-314.05\"/>\n<polygon fill=\"black\" stroke=\"black\" points=\"486.04,-311.81 477.17,-306.02 480.49,-316.08 486.04,-311.81\"/>\n<text text-anchor=\"middle\" x=\"473.94\" y=\"-327.11\" font-family=\"Times,serif\" font-size=\"14.00\">True</text>\n</g>\n<!-- 8 -->\n<g id=\"node9\" class=\"node\">\n<title>8</title>\n<polygon fill=\"#f5cfb3\" stroke=\"black\" points=\"754.5,-306 605.5,-306 605.5,-223 754.5,-223 754.5,-306\"/>\n<text text-anchor=\"middle\" x=\"680\" y=\"-290.8\" font-family=\"Times,serif\" font-size=\"14.00\">close &lt;= 348.225</text>\n<text text-anchor=\"middle\" x=\"680\" y=\"-275.8\" font-family=\"Times,serif\" font-size=\"14.00\">gini = 0.472</text>\n<text text-anchor=\"middle\" x=\"680\" y=\"-260.8\" font-family=\"Times,serif\" font-size=\"14.00\">samples = 427</text>\n<text text-anchor=\"middle\" x=\"680\" y=\"-245.8\" font-family=\"Times,serif\" font-size=\"14.00\">value = [264, 163]</text>\n<text text-anchor=\"middle\" x=\"680\" y=\"-230.8\" font-family=\"Times,serif\" font-size=\"14.00\">class = 0</text>\n</g>\n<!-- 0&#45;&gt;8 -->\n<g id=\"edge8\" class=\"edge\">\n<title>0&#45;&gt;8</title>\n<path fill=\"none\" stroke=\"black\" d=\"M585.96,-341.91C597.69,-332.38 610.28,-322.15 622.31,-312.37\"/>\n<polygon fill=\"black\" stroke=\"black\" points=\"624.57,-315.04 630.13,-306.02 620.16,-309.61 624.57,-315.04\"/>\n<text text-anchor=\"middle\" x=\"627.56\" y=\"-327.19\" font-family=\"Times,serif\" font-size=\"14.00\">False</text>\n</g>\n<!-- 2 -->\n<g id=\"node3\" class=\"node\">\n<title>2</title>\n<polygon fill=\"#54aae9\" stroke=\"black\" points=\"295,-187 117,-187 117,-104 295,-104 295,-187\"/>\n<text text-anchor=\"middle\" x=\"206\" y=\"-171.8\" font-family=\"Times,serif\" font-size=\"14.00\">volume &lt;= 5809400.0</text>\n<text text-anchor=\"middle\" x=\"206\" y=\"-156.8\" font-family=\"Times,serif\" font-size=\"14.00\">gini = 0.21</text>\n<text text-anchor=\"middle\" x=\"206\" y=\"-141.8\" font-family=\"Times,serif\" font-size=\"14.00\">samples = 109</text>\n<text text-anchor=\"middle\" x=\"206\" y=\"-126.8\" font-family=\"Times,serif\" font-size=\"14.00\">value = [13, 96]</text>\n<text text-anchor=\"middle\" x=\"206\" y=\"-111.8\" font-family=\"Times,serif\" font-size=\"14.00\">class = 1</text>\n</g>\n<!-- 1&#45;&gt;2 -->\n<g id=\"edge2\" class=\"edge\">\n<title>1&#45;&gt;2</title>\n<path fill=\"none\" stroke=\"black\" d=\"M366.75,-224.87C344.91,-214.22 321.03,-202.57 298.51,-191.6\"/>\n<polygon fill=\"black\" stroke=\"black\" points=\"299.81,-188.34 289.29,-187.1 296.74,-194.63 299.81,-188.34\"/>\n</g>\n<!-- 5 -->\n<g id=\"node6\" class=\"node\">\n<title>5</title>\n<polygon fill=\"#b2d9f5\" stroke=\"black\" points=\"525.5,-187 366.5,-187 366.5,-104 525.5,-104 525.5,-187\"/>\n<text text-anchor=\"middle\" x=\"446\" y=\"-171.8\" font-family=\"Times,serif\" font-size=\"14.00\">adjLow &lt;= 100.555</text>\n<text text-anchor=\"middle\" x=\"446\" y=\"-156.8\" font-family=\"Times,serif\" font-size=\"14.00\">gini = 0.471</text>\n<text text-anchor=\"middle\" x=\"446\" y=\"-141.8\" font-family=\"Times,serif\" font-size=\"14.00\">samples = 1500</text>\n<text text-anchor=\"middle\" x=\"446\" y=\"-126.8\" font-family=\"Times,serif\" font-size=\"14.00\">value = [569, 931]</text>\n<text text-anchor=\"middle\" x=\"446\" y=\"-111.8\" font-family=\"Times,serif\" font-size=\"14.00\">class = 1</text>\n</g>\n<!-- 1&#45;&gt;5 -->\n<g id=\"edge5\" class=\"edge\">\n<title>1&#45;&gt;5</title>\n<path fill=\"none\" stroke=\"black\" d=\"M446,-222.91C446,-214.65 446,-205.86 446,-197.3\"/>\n<polygon fill=\"black\" stroke=\"black\" points=\"449.5,-197.02 446,-187.02 442.5,-197.02 449.5,-197.02\"/>\n</g>\n<!-- 3 -->\n<g id=\"node4\" class=\"node\">\n<title>3</title>\n<polygon fill=\"#399de5\" stroke=\"black\" points=\"122,-68 0,-68 0,0 122,0 122,-68\"/>\n<text text-anchor=\"middle\" x=\"61\" y=\"-52.8\" font-family=\"Times,serif\" font-size=\"14.00\">gini = 0.0</text>\n<text text-anchor=\"middle\" x=\"61\" y=\"-37.8\" font-family=\"Times,serif\" font-size=\"14.00\">samples = 57</text>\n<text text-anchor=\"middle\" x=\"61\" y=\"-22.8\" font-family=\"Times,serif\" font-size=\"14.00\">value = [0, 57]</text>\n<text text-anchor=\"middle\" x=\"61\" y=\"-7.8\" font-family=\"Times,serif\" font-size=\"14.00\">class = 1</text>\n</g>\n<!-- 2&#45;&gt;3 -->\n<g id=\"edge3\" class=\"edge\">\n<title>2&#45;&gt;3</title>\n<path fill=\"none\" stroke=\"black\" d=\"M152.01,-103.73C139.33,-94.15 125.83,-83.96 113.23,-74.44\"/>\n<polygon fill=\"black\" stroke=\"black\" points=\"115.18,-71.53 105.1,-68.3 110.97,-77.12 115.18,-71.53\"/>\n</g>\n<!-- 4 -->\n<g id=\"node5\" class=\"node\">\n<title>4</title>\n<polygon fill=\"#7bbeee\" stroke=\"black\" points=\"271.5,-68 140.5,-68 140.5,0 271.5,0 271.5,-68\"/>\n<text text-anchor=\"middle\" x=\"206\" y=\"-52.8\" font-family=\"Times,serif\" font-size=\"14.00\">gini = 0.375</text>\n<text text-anchor=\"middle\" x=\"206\" y=\"-37.8\" font-family=\"Times,serif\" font-size=\"14.00\">samples = 52</text>\n<text text-anchor=\"middle\" x=\"206\" y=\"-22.8\" font-family=\"Times,serif\" font-size=\"14.00\">value = [13, 39]</text>\n<text text-anchor=\"middle\" x=\"206\" y=\"-7.8\" font-family=\"Times,serif\" font-size=\"14.00\">class = 1</text>\n</g>\n<!-- 2&#45;&gt;4 -->\n<g id=\"edge4\" class=\"edge\">\n<title>2&#45;&gt;4</title>\n<path fill=\"none\" stroke=\"black\" d=\"M206,-103.73C206,-95.52 206,-86.86 206,-78.56\"/>\n<polygon fill=\"black\" stroke=\"black\" points=\"209.5,-78.3 206,-68.3 202.5,-78.3 209.5,-78.3\"/>\n</g>\n<!-- 6 -->\n<g id=\"node7\" class=\"node\">\n<title>6</title>\n<polygon fill=\"#f0b489\" stroke=\"black\" points=\"420.5,-68 289.5,-68 289.5,0 420.5,0 420.5,-68\"/>\n<text text-anchor=\"middle\" x=\"355\" y=\"-52.8\" font-family=\"Times,serif\" font-size=\"14.00\">gini = 0.41</text>\n<text text-anchor=\"middle\" x=\"355\" y=\"-37.8\" font-family=\"Times,serif\" font-size=\"14.00\">samples = 66</text>\n<text text-anchor=\"middle\" x=\"355\" y=\"-22.8\" font-family=\"Times,serif\" font-size=\"14.00\">value = [47, 19]</text>\n<text text-anchor=\"middle\" x=\"355\" y=\"-7.8\" font-family=\"Times,serif\" font-size=\"14.00\">class = 0</text>\n</g>\n<!-- 5&#45;&gt;6 -->\n<g id=\"edge6\" class=\"edge\">\n<title>5&#45;&gt;6</title>\n<path fill=\"none\" stroke=\"black\" d=\"M412.11,-103.73C404.61,-94.7 396.66,-85.12 389.14,-76.08\"/>\n<polygon fill=\"black\" stroke=\"black\" points=\"391.76,-73.75 382.67,-68.3 386.37,-78.23 391.76,-73.75\"/>\n</g>\n<!-- 7 -->\n<g id=\"node8\" class=\"node\">\n<title>7</title>\n<polygon fill=\"#aad5f4\" stroke=\"black\" points=\"587.5,-68 438.5,-68 438.5,0 587.5,0 587.5,-68\"/>\n<text text-anchor=\"middle\" x=\"513\" y=\"-52.8\" font-family=\"Times,serif\" font-size=\"14.00\">gini = 0.463</text>\n<text text-anchor=\"middle\" x=\"513\" y=\"-37.8\" font-family=\"Times,serif\" font-size=\"14.00\">samples = 1434</text>\n<text text-anchor=\"middle\" x=\"513\" y=\"-22.8\" font-family=\"Times,serif\" font-size=\"14.00\">value = [522, 912]</text>\n<text text-anchor=\"middle\" x=\"513\" y=\"-7.8\" font-family=\"Times,serif\" font-size=\"14.00\">class = 1</text>\n</g>\n<!-- 5&#45;&gt;7 -->\n<g id=\"edge7\" class=\"edge\">\n<title>5&#45;&gt;7</title>\n<path fill=\"none\" stroke=\"black\" d=\"M470.95,-103.73C476.31,-94.97 481.98,-85.7 487.36,-76.91\"/>\n<polygon fill=\"black\" stroke=\"black\" points=\"490.39,-78.66 492.62,-68.3 484.42,-75 490.39,-78.66\"/>\n</g>\n<!-- 9 -->\n<g id=\"node10\" class=\"node\">\n<title>9</title>\n<polygon fill=\"#f8decb\" stroke=\"black\" points=\"762,-187 598,-187 598,-104 762,-104 762,-187\"/>\n<text text-anchor=\"middle\" x=\"680\" y=\"-171.8\" font-family=\"Times,serif\" font-size=\"14.00\">adjHigh &lt;= 258.567</text>\n<text text-anchor=\"middle\" x=\"680\" y=\"-156.8\" font-family=\"Times,serif\" font-size=\"14.00\">gini = 0.489</text>\n<text text-anchor=\"middle\" x=\"680\" y=\"-141.8\" font-family=\"Times,serif\" font-size=\"14.00\">samples = 384</text>\n<text text-anchor=\"middle\" x=\"680\" y=\"-126.8\" font-family=\"Times,serif\" font-size=\"14.00\">value = [221, 163]</text>\n<text text-anchor=\"middle\" x=\"680\" y=\"-111.8\" font-family=\"Times,serif\" font-size=\"14.00\">class = 0</text>\n</g>\n<!-- 8&#45;&gt;9 -->\n<g id=\"edge9\" class=\"edge\">\n<title>8&#45;&gt;9</title>\n<path fill=\"none\" stroke=\"black\" d=\"M680,-222.91C680,-214.65 680,-205.86 680,-197.3\"/>\n<polygon fill=\"black\" stroke=\"black\" points=\"683.5,-197.02 680,-187.02 676.5,-197.02 683.5,-197.02\"/>\n</g>\n<!-- 12 -->\n<g id=\"node13\" class=\"node\">\n<title>12</title>\n<polygon fill=\"#e58139\" stroke=\"black\" points=\"902,-179.5 780,-179.5 780,-111.5 902,-111.5 902,-179.5\"/>\n<text text-anchor=\"middle\" x=\"841\" y=\"-164.3\" font-family=\"Times,serif\" font-size=\"14.00\">gini = 0.0</text>\n<text text-anchor=\"middle\" x=\"841\" y=\"-149.3\" font-family=\"Times,serif\" font-size=\"14.00\">samples = 43</text>\n<text text-anchor=\"middle\" x=\"841\" y=\"-134.3\" font-family=\"Times,serif\" font-size=\"14.00\">value = [43, 0]</text>\n<text text-anchor=\"middle\" x=\"841\" y=\"-119.3\" font-family=\"Times,serif\" font-size=\"14.00\">class = 0</text>\n</g>\n<!-- 8&#45;&gt;12 -->\n<g id=\"edge12\" class=\"edge\">\n<title>8&#45;&gt;12</title>\n<path fill=\"none\" stroke=\"black\" d=\"M735.86,-222.91C752.41,-210.88 770.5,-197.73 786.93,-185.79\"/>\n<polygon fill=\"black\" stroke=\"black\" points=\"789.33,-188.38 795.36,-179.67 785.21,-182.71 789.33,-188.38\"/>\n</g>\n<!-- 10 -->\n<g id=\"node11\" class=\"node\">\n<title>10</title>\n<polygon fill=\"#f1bd98\" stroke=\"black\" points=\"754.5,-68 605.5,-68 605.5,0 754.5,0 754.5,-68\"/>\n<text text-anchor=\"middle\" x=\"680\" y=\"-52.8\" font-family=\"Times,serif\" font-size=\"14.00\">gini = 0.438</text>\n<text text-anchor=\"middle\" x=\"680\" y=\"-37.8\" font-family=\"Times,serif\" font-size=\"14.00\">samples = 327</text>\n<text text-anchor=\"middle\" x=\"680\" y=\"-22.8\" font-family=\"Times,serif\" font-size=\"14.00\">value = [221, 106]</text>\n<text text-anchor=\"middle\" x=\"680\" y=\"-7.8\" font-family=\"Times,serif\" font-size=\"14.00\">class = 0</text>\n</g>\n<!-- 9&#45;&gt;10 -->\n<g id=\"edge10\" class=\"edge\">\n<title>9&#45;&gt;10</title>\n<path fill=\"none\" stroke=\"black\" d=\"M680,-103.73C680,-95.52 680,-86.86 680,-78.56\"/>\n<polygon fill=\"black\" stroke=\"black\" points=\"683.5,-78.3 680,-68.3 676.5,-78.3 683.5,-78.3\"/>\n</g>\n<!-- 11 -->\n<g id=\"node12\" class=\"node\">\n<title>11</title>\n<polygon fill=\"#399de5\" stroke=\"black\" points=\"895,-68 773,-68 773,0 895,0 895,-68\"/>\n<text text-anchor=\"middle\" x=\"834\" y=\"-52.8\" font-family=\"Times,serif\" font-size=\"14.00\">gini = 0.0</text>\n<text text-anchor=\"middle\" x=\"834\" y=\"-37.8\" font-family=\"Times,serif\" font-size=\"14.00\">samples = 57</text>\n<text text-anchor=\"middle\" x=\"834\" y=\"-22.8\" font-family=\"Times,serif\" font-size=\"14.00\">value = [0, 57]</text>\n<text text-anchor=\"middle\" x=\"834\" y=\"-7.8\" font-family=\"Times,serif\" font-size=\"14.00\">class = 1</text>\n</g>\n<!-- 9&#45;&gt;11 -->\n<g id=\"edge11\" class=\"edge\">\n<title>9&#45;&gt;11</title>\n<path fill=\"none\" stroke=\"black\" d=\"M737.34,-103.73C750.94,-94.06 765.41,-83.77 778.91,-74.17\"/>\n<polygon fill=\"black\" stroke=\"black\" points=\"781.05,-76.95 787.17,-68.3 776.99,-71.24 781.05,-76.95\"/>\n</g>\n</g>\n</svg>\n"
     },
     "metadata": {},
     "execution_count": 175
    }
   ],
   "metadata": {}
  },
  {
   "cell_type": "markdown",
   "source": [
    "### GiNi Index?"
   ],
   "metadata": {}
  },
  {
   "cell_type": "code",
   "execution_count": 176,
   "source": [
    "y_test_score = get_auc_scores(treeClassifier, X_train, X_test, y_train, y_test)"
   ],
   "outputs": [],
   "metadata": {}
  },
  {
   "cell_type": "code",
   "execution_count": 177,
   "source": [
    "plot_roc_curve(y_test, y_test_score)"
   ],
   "outputs": [
    {
     "output_type": "display_data",
     "data": {
      "text/plain": [
       "<Figure size 432x288 with 1 Axes>"
      ],
      "image/png": "[encoded data removed]"
     },
     "metadata": {}
    }
   ],
   "metadata": {}
  },
  {
   "cell_type": "code",
   "execution_count": 178,
   "source": [
    "### LSTM are sensitive to the scale of the data. so we apply MinMax scaler "
   ],
   "outputs": [],
   "metadata": {}
  },
  {
   "cell_type": "code",
   "execution_count": 179,
   "source": [
    "gs_data.shape"
   ],
   "outputs": [
    {
     "output_type": "execute_result",
     "data": {
      "text/plain": [
       "(2909, 15)"
      ]
     },
     "metadata": {},
     "execution_count": 179
    }
   ],
   "metadata": {}
  },
  {
   "cell_type": "code",
   "execution_count": 180,
   "source": [
    "gs_data1=gs_data.reset_index()['close']"
   ],
   "outputs": [],
   "metadata": {}
  },
  {
   "cell_type": "code",
   "execution_count": 181,
   "source": [
    "gs_data.shape"
   ],
   "outputs": [
    {
     "output_type": "execute_result",
     "data": {
      "text/plain": [
       "(2909, 15)"
      ]
     },
     "metadata": {},
     "execution_count": 181
    }
   ],
   "metadata": {}
  },
  {
   "cell_type": "code",
   "execution_count": 182,
   "source": [
    "gs_data1"
   ],
   "outputs": [
    {
     "output_type": "execute_result",
     "data": {
      "text/plain": [
       "0       173.08\n",
       "1       176.14\n",
       "2       174.26\n",
       "3       177.67\n",
       "4       174.31\n",
       "         ...  \n",
       "2904    354.72\n",
       "2905    364.76\n",
       "2906    373.50\n",
       "2907    372.71\n",
       "2908    374.05\n",
       "Name: close, Length: 2909, dtype: float64"
      ]
     },
     "metadata": {},
     "execution_count": 182
    }
   ],
   "metadata": {}
  },
  {
   "cell_type": "code",
   "execution_count": 183,
   "source": [
    "from sklearn.preprocessing import MinMaxScaler\n",
    "scaler=MinMaxScaler(feature_range=(0,1))\n",
    "gs_data1=scaler.fit_transform(np.array(gs_data1).reshape(-1,1))"
   ],
   "outputs": [],
   "metadata": {}
  },
  {
   "cell_type": "code",
   "execution_count": 184,
   "source": [
    "print(gs_data1)"
   ],
   "outputs": [
    {
     "output_type": "stream",
     "name": "stdout",
     "text": [
      "[[0.28108642]\n",
      " [0.29116049]\n",
      " [0.28497119]\n",
      " ...\n",
      " [0.94090535]\n",
      " [0.93830453]\n",
      " [0.94271605]]\n"
     ]
    }
   ],
   "metadata": {}
  },
  {
   "cell_type": "code",
   "execution_count": 185,
   "source": [
    "##splitting dataset into train and test split\n",
    "training_size=int(len(gs_data1)*0.65)\n",
    "test_size=len(gs_data1)-training_size\n",
    "train_data,test_data=gs_data1[0:training_size,:],gs_data1[training_size:len(gs_data1),:1]"
   ],
   "outputs": [],
   "metadata": {}
  },
  {
   "cell_type": "code",
   "execution_count": 186,
   "source": [
    "training_size,test_size"
   ],
   "outputs": [
    {
     "output_type": "execute_result",
     "data": {
      "text/plain": [
       "(1890, 1019)"
      ]
     },
     "metadata": {},
     "execution_count": 186
    }
   ],
   "metadata": {}
  },
  {
   "cell_type": "code",
   "execution_count": 187,
   "source": [
    "train_data"
   ],
   "outputs": [
    {
     "output_type": "execute_result",
     "data": {
      "text/plain": [
       "array([[0.28108642],\n",
       "       [0.29116049],\n",
       "       [0.28497119],\n",
       "       ...,\n",
       "       [0.45952263],\n",
       "       [0.46202469],\n",
       "       [0.45758025]])"
      ]
     },
     "metadata": {},
     "execution_count": 187
    }
   ],
   "metadata": {}
  },
  {
   "cell_type": "code",
   "execution_count": 188,
   "source": [
    "# convert an array of values into a dataset matrix\n",
    "def create_dataset(dataset, time_step=1):\n",
    "\tdataX, dataY = [], []\n",
    "\tfor i in range(len(dataset)-time_step-1):\n",
    "\t\ta = dataset[i:(i+time_step), 0]   ###i=0, 0,1,2,3-----99   100 \n",
    "\t\tdataX.append(a)\n",
    "\t\tdataY.append(dataset[i + time_step, 0])\n",
    "\treturn np.array(dataX), np.array(dataY)"
   ],
   "outputs": [],
   "metadata": {}
  },
  {
   "cell_type": "code",
   "execution_count": 189,
   "source": [
    "# reshape into X=t,t+1,t+2,t+3 and Y=t+4\n",
    "time_step = 100\n",
    "X_train, y_train = create_dataset(train_data, time_step)\n",
    "X_test, y_test = create_dataset(test_data, time_step)"
   ],
   "outputs": [],
   "metadata": {}
  },
  {
   "cell_type": "code",
   "execution_count": 190,
   "source": [
    "print(X_train.shape), print(y_train.shape)"
   ],
   "outputs": [
    {
     "output_type": "stream",
     "name": "stdout",
     "text": [
      "(1789, 100)\n",
      "(1789,)\n"
     ]
    },
    {
     "output_type": "execute_result",
     "data": {
      "text/plain": [
       "(None, None)"
      ]
     },
     "metadata": {},
     "execution_count": 190
    }
   ],
   "metadata": {}
  },
  {
   "cell_type": "code",
   "execution_count": 191,
   "source": [
    "print(X_test.shape), print(y_test.shape)"
   ],
   "outputs": [
    {
     "output_type": "stream",
     "name": "stdout",
     "text": [
      "(918, 100)\n",
      "(918,)\n"
     ]
    },
    {
     "output_type": "execute_result",
     "data": {
      "text/plain": [
       "(None, None)"
      ]
     },
     "metadata": {},
     "execution_count": 191
    }
   ],
   "metadata": {}
  },
  {
   "cell_type": "code",
   "execution_count": 192,
   "source": [
    "# reshape input to be [samples, time steps, features] which is required for LSTM\n",
    "X_train =X_train.reshape(X_train.shape[0],X_train.shape[1] , 1)\n",
    "X_test = X_test.reshape(X_test.shape[0],X_test.shape[1] , 1)"
   ],
   "outputs": [],
   "metadata": {}
  },
  {
   "cell_type": "code",
   "execution_count": 223,
   "source": [
    "### Create the Stacked LSTM model\n",
    "from tensorflow.keras.models import Sequential\n",
    "from tensorflow.keras.layers import Dense\n",
    "from tensorflow.keras.layers import LSTM"
   ],
   "outputs": [],
   "metadata": {}
  },
  {
   "cell_type": "code",
   "execution_count": 224,
   "source": [
    "model=Sequential()\n",
    "model.add(LSTM(50,return_sequences=True,input_shape=(100,1)))\n",
    "model.add(LSTM(50,return_sequences=True))\n",
    "model.add(LSTM(50))\n",
    "model.add(Dense(1))\n",
    "model.compile(loss='mean_squared_error',optimizer='adam')\n"
   ],
   "outputs": [],
   "metadata": {}
  },
  {
   "cell_type": "code",
   "execution_count": 225,
   "source": [
    "model.summary()"
   ],
   "outputs": [
    {
     "output_type": "stream",
     "name": "stdout",
     "text": [
      "Model: \"sequential\"\n",
      "_________________________________________________________________\n",
      "Layer (type)                 Output Shape              Param #   \n",
      "=================================================================\n",
      "lstm (LSTM)                  (None, 100, 50)           10400     \n",
      "_________________________________________________________________\n",
      "lstm_1 (LSTM)                (None, 100, 50)           20200     \n",
      "_________________________________________________________________\n",
      "lstm_2 (LSTM)                (None, 50)                20200     \n",
      "_________________________________________________________________\n",
      "dense (Dense)                (None, 1)                 51        \n",
      "=================================================================\n",
      "Total params: 50,851\n",
      "Trainable params: 50,851\n",
      "Non-trainable params: 0\n",
      "_________________________________________________________________\n"
     ]
    }
   ],
   "metadata": {}
  },
  {
   "cell_type": "code",
   "execution_count": 226,
   "source": [
    "model.summary()"
   ],
   "outputs": [
    {
     "output_type": "stream",
     "name": "stdout",
     "text": [
      "Model: \"sequential\"\n",
      "_________________________________________________________________\n",
      "Layer (type)                 Output Shape              Param #   \n",
      "=================================================================\n",
      "lstm (LSTM)                  (None, 100, 50)           10400     \n",
      "_________________________________________________________________\n",
      "lstm_1 (LSTM)                (None, 100, 50)           20200     \n",
      "_________________________________________________________________\n",
      "lstm_2 (LSTM)                (None, 50)                20200     \n",
      "_________________________________________________________________\n",
      "dense (Dense)                (None, 1)                 51        \n",
      "=================================================================\n",
      "Total params: 50,851\n",
      "Trainable params: 50,851\n",
      "Non-trainable params: 0\n",
      "_________________________________________________________________\n"
     ]
    }
   ],
   "metadata": {}
  },
  {
   "cell_type": "code",
   "execution_count": null,
   "source": [],
   "outputs": [],
   "metadata": {}
  },
  {
   "cell_type": "code",
   "execution_count": 240,
   "source": [
    "model.fit(X_train,y_train,validation_data=(X_test,y_test),epochs=100,batch_size=64,verbose=1)"
   ],
   "outputs": [
    {
     "output_type": "stream",
     "name": "stdout",
     "text": [
      "Epoch 1/100\n",
      "28/28 [==============================] - 20s 406ms/step - loss: 0.0116 - val_loss: 0.0079\n",
      "Epoch 2/100\n",
      "28/28 [==============================] - 9s 331ms/step - loss: 0.0010 - val_loss: 0.0024\n",
      "Epoch 3/100\n",
      "28/28 [==============================] - 8s 302ms/step - loss: 6.2718e-04 - val_loss: 0.0029\n",
      "Epoch 4/100\n",
      "28/28 [==============================] - 9s 319ms/step - loss: 5.7443e-04 - val_loss: 0.0020\n",
      "Epoch 5/100\n",
      "28/28 [==============================] - 9s 325ms/step - loss: 5.3184e-04 - val_loss: 0.0019\n",
      "Epoch 6/100\n",
      "28/28 [==============================] - 9s 318ms/step - loss: 5.0569e-04 - val_loss: 0.0020\n",
      "Epoch 7/100\n",
      "28/28 [==============================] - 8s 304ms/step - loss: 4.7111e-04 - val_loss: 0.0018\n",
      "Epoch 8/100\n",
      "28/28 [==============================] - 8s 305ms/step - loss: 4.4972e-04 - val_loss: 0.0019\n",
      "Epoch 9/100\n",
      "28/28 [==============================] - 9s 320ms/step - loss: 4.1454e-04 - val_loss: 0.0020\n",
      "Epoch 10/100\n",
      "28/28 [==============================] - 9s 311ms/step - loss: 4.0956e-04 - val_loss: 0.0017\n",
      "Epoch 11/100\n",
      "28/28 [==============================] - 9s 308ms/step - loss: 3.9162e-04 - val_loss: 0.0023\n",
      "Epoch 12/100\n",
      "28/28 [==============================] - 9s 327ms/step - loss: 4.0192e-04 - val_loss: 0.0018\n",
      "Epoch 13/100\n",
      "28/28 [==============================] - 8s 303ms/step - loss: 4.2349e-04 - val_loss: 0.0020\n",
      "Epoch 14/100\n",
      "28/28 [==============================] - 8s 302ms/step - loss: 3.9996e-04 - val_loss: 0.0016\n",
      "Epoch 15/100\n",
      "28/28 [==============================] - 9s 334ms/step - loss: 3.7009e-04 - val_loss: 0.0021\n",
      "Epoch 16/100\n",
      "28/28 [==============================] - 9s 320ms/step - loss: 3.7374e-04 - val_loss: 0.0013\n",
      "Epoch 17/100\n",
      "28/28 [==============================] - 7s 249ms/step - loss: 3.3202e-04 - val_loss: 0.0012\n",
      "Epoch 18/100\n",
      "28/28 [==============================] - 8s 279ms/step - loss: 3.4773e-04 - val_loss: 0.0013\n",
      "Epoch 19/100\n",
      "28/28 [==============================] - 8s 282ms/step - loss: 3.3803e-04 - val_loss: 0.0012\n",
      "Epoch 20/100\n",
      "28/28 [==============================] - 9s 319ms/step - loss: 3.0958e-04 - val_loss: 0.0014\n",
      "Epoch 21/100\n",
      "28/28 [==============================] - 9s 307ms/step - loss: 3.3108e-04 - val_loss: 0.0016\n",
      "Epoch 22/100\n",
      "28/28 [==============================] - 9s 330ms/step - loss: 3.3199e-04 - val_loss: 0.0011\n",
      "Epoch 23/100\n",
      "28/28 [==============================] - 8s 297ms/step - loss: 2.9424e-04 - val_loss: 9.9378e-04\n",
      "Epoch 24/100\n",
      "28/28 [==============================] - 9s 317ms/step - loss: 2.9721e-04 - val_loss: 9.8051e-04\n",
      "Epoch 25/100\n",
      "28/28 [==============================] - 8s 301ms/step - loss: 3.0531e-04 - val_loss: 9.7506e-04\n",
      "Epoch 26/100\n",
      "28/28 [==============================] - 9s 325ms/step - loss: 3.0060e-04 - val_loss: 9.2041e-04\n",
      "Epoch 27/100\n",
      "28/28 [==============================] - 9s 311ms/step - loss: 2.7351e-04 - val_loss: 8.9290e-04\n",
      "Epoch 28/100\n",
      "28/28 [==============================] - 9s 322ms/step - loss: 2.8651e-04 - val_loss: 0.0011\n",
      "Epoch 29/100\n",
      "28/28 [==============================] - 8s 305ms/step - loss: 2.7566e-04 - val_loss: 0.0010\n",
      "Epoch 30/100\n",
      "28/28 [==============================] - 9s 318ms/step - loss: 2.7723e-04 - val_loss: 8.1580e-04\n",
      "Epoch 31/100\n",
      "28/28 [==============================] - 8s 288ms/step - loss: 2.5332e-04 - val_loss: 9.6756e-04\n",
      "Epoch 32/100\n",
      "28/28 [==============================] - 10s 377ms/step - loss: 2.5615e-04 - val_loss: 7.9387e-04\n",
      "Epoch 33/100\n",
      "28/28 [==============================] - 9s 334ms/step - loss: 2.5574e-04 - val_loss: 7.5781e-04\n",
      "Epoch 34/100\n",
      "28/28 [==============================] - 8s 297ms/step - loss: 2.4431e-04 - val_loss: 7.4013e-04\n",
      "Epoch 35/100\n",
      "28/28 [==============================] - 9s 306ms/step - loss: 2.4428e-04 - val_loss: 7.6041e-04\n",
      "Epoch 36/100\n",
      "28/28 [==============================] - 8s 302ms/step - loss: 2.3611e-04 - val_loss: 7.7859e-04\n",
      "Epoch 37/100\n",
      "28/28 [==============================] - 8s 297ms/step - loss: 2.4781e-04 - val_loss: 7.5958e-04\n",
      "Epoch 38/100\n",
      "28/28 [==============================] - 9s 322ms/step - loss: 2.3730e-04 - val_loss: 6.8458e-04\n",
      "Epoch 39/100\n",
      "28/28 [==============================] - 9s 318ms/step - loss: 2.2341e-04 - val_loss: 6.7141e-04\n",
      "Epoch 40/100\n",
      "28/28 [==============================] - 10s 342ms/step - loss: 2.2423e-04 - val_loss: 6.6475e-04\n",
      "Epoch 41/100\n",
      "28/28 [==============================] - 9s 336ms/step - loss: 2.1870e-04 - val_loss: 6.0864e-04\n",
      "Epoch 42/100\n",
      "28/28 [==============================] - 9s 333ms/step - loss: 2.4145e-04 - val_loss: 6.9160e-04\n",
      "Epoch 43/100\n",
      "28/28 [==============================] - 9s 319ms/step - loss: 2.1902e-04 - val_loss: 6.7606e-04\n",
      "Epoch 44/100\n",
      "28/28 [==============================] - 9s 335ms/step - loss: 2.0743e-04 - val_loss: 5.7740e-04\n",
      "Epoch 45/100\n",
      "28/28 [==============================] - 9s 330ms/step - loss: 1.9935e-04 - val_loss: 6.2686e-04\n",
      "Epoch 46/100\n",
      "28/28 [==============================] - 9s 322ms/step - loss: 2.0327e-04 - val_loss: 6.0099e-04\n",
      "Epoch 47/100\n",
      "28/28 [==============================] - 9s 336ms/step - loss: 1.9439e-04 - val_loss: 5.3155e-04\n",
      "Epoch 48/100\n",
      "28/28 [==============================] - 9s 337ms/step - loss: 1.9464e-04 - val_loss: 5.2823e-04\n",
      "Epoch 49/100\n",
      "28/28 [==============================] - 8s 285ms/step - loss: 1.9731e-04 - val_loss: 5.3447e-04\n",
      "Epoch 50/100\n",
      "28/28 [==============================] - 9s 312ms/step - loss: 1.9200e-04 - val_loss: 6.1151e-04\n",
      "Epoch 51/100\n",
      "28/28 [==============================] - 9s 310ms/step - loss: 1.7856e-04 - val_loss: 5.4565e-04\n",
      "Epoch 52/100\n",
      "28/28 [==============================] - 9s 327ms/step - loss: 1.7650e-04 - val_loss: 6.2229e-04\n",
      "Epoch 53/100\n",
      "28/28 [==============================] - 11s 390ms/step - loss: 1.8528e-04 - val_loss: 6.0874e-04\n",
      "Epoch 54/100\n",
      "28/28 [==============================] - 9s 309ms/step - loss: 1.7326e-04 - val_loss: 5.3054e-04\n",
      "Epoch 55/100\n",
      "28/28 [==============================] - 9s 327ms/step - loss: 2.1234e-04 - val_loss: 8.0396e-04\n",
      "Epoch 56/100\n",
      "28/28 [==============================] - 9s 331ms/step - loss: 2.0416e-04 - val_loss: 4.8704e-04\n",
      "Epoch 57/100\n",
      "28/28 [==============================] - 8s 291ms/step - loss: 1.7227e-04 - val_loss: 4.9032e-04\n",
      "Epoch 58/100\n",
      "28/28 [==============================] - 9s 322ms/step - loss: 1.6767e-04 - val_loss: 5.0059e-04\n",
      "Epoch 59/100\n",
      "28/28 [==============================] - 9s 309ms/step - loss: 1.6055e-04 - val_loss: 6.6221e-04\n",
      "Epoch 60/100\n",
      "28/28 [==============================] - 10s 341ms/step - loss: 1.6846e-04 - val_loss: 4.4266e-04\n",
      "Epoch 61/100\n",
      "28/28 [==============================] - 9s 316ms/step - loss: 1.6777e-04 - val_loss: 4.4255e-04\n",
      "Epoch 62/100\n",
      "28/28 [==============================] - 10s 370ms/step - loss: 1.5010e-04 - val_loss: 4.0234e-04\n",
      "Epoch 63/100\n",
      "28/28 [==============================] - 9s 321ms/step - loss: 1.5258e-04 - val_loss: 3.9389e-04\n",
      "Epoch 64/100\n",
      "28/28 [==============================] - 10s 346ms/step - loss: 1.4312e-04 - val_loss: 4.0234e-04\n",
      "Epoch 65/100\n",
      "28/28 [==============================] - 9s 329ms/step - loss: 1.4091e-04 - val_loss: 5.0005e-04\n",
      "Epoch 66/100\n",
      "28/28 [==============================] - 9s 339ms/step - loss: 1.4771e-04 - val_loss: 3.7757e-04\n",
      "Epoch 67/100\n",
      "28/28 [==============================] - 8s 296ms/step - loss: 1.5533e-04 - val_loss: 5.5112e-04\n",
      "Epoch 68/100\n",
      "28/28 [==============================] - 9s 321ms/step - loss: 1.5322e-04 - val_loss: 3.8091e-04\n",
      "Epoch 69/100\n",
      "28/28 [==============================] - 9s 331ms/step - loss: 1.3667e-04 - val_loss: 4.2521e-04\n",
      "Epoch 70/100\n",
      "28/28 [==============================] - 9s 321ms/step - loss: 1.4315e-04 - val_loss: 4.8338e-04\n",
      "Epoch 71/100\n",
      "28/28 [==============================] - 9s 337ms/step - loss: 1.3221e-04 - val_loss: 3.6868e-04\n",
      "Epoch 72/100\n",
      "28/28 [==============================] - 9s 338ms/step - loss: 1.3067e-04 - val_loss: 3.4383e-04\n",
      "Epoch 73/100\n",
      "28/28 [==============================] - 9s 313ms/step - loss: 1.3272e-04 - val_loss: 3.6804e-04\n",
      "Epoch 74/100\n",
      "28/28 [==============================] - 9s 322ms/step - loss: 1.2467e-04 - val_loss: 3.5511e-04\n",
      "Epoch 75/100\n",
      "28/28 [==============================] - 9s 318ms/step - loss: 1.1880e-04 - val_loss: 5.4026e-04\n",
      "Epoch 76/100\n",
      "28/28 [==============================] - 9s 322ms/step - loss: 1.2718e-04 - val_loss: 6.2998e-04\n",
      "Epoch 77/100\n",
      "28/28 [==============================] - 9s 304ms/step - loss: 1.2136e-04 - val_loss: 3.4024e-04\n",
      "Epoch 78/100\n",
      "28/28 [==============================] - 8s 301ms/step - loss: 1.2993e-04 - val_loss: 5.7289e-04\n",
      "Epoch 79/100\n",
      "28/28 [==============================] - 9s 307ms/step - loss: 1.2782e-04 - val_loss: 3.6854e-04\n",
      "Epoch 80/100\n",
      "28/28 [==============================] - 9s 315ms/step - loss: 1.1525e-04 - val_loss: 3.3378e-04\n",
      "Epoch 81/100\n",
      "28/28 [==============================] - 9s 312ms/step - loss: 1.1592e-04 - val_loss: 3.1553e-04\n",
      "Epoch 82/100\n",
      "28/28 [==============================] - 8s 296ms/step - loss: 1.1395e-04 - val_loss: 3.5141e-04\n",
      "Epoch 83/100\n",
      "28/28 [==============================] - 8s 301ms/step - loss: 1.1021e-04 - val_loss: 2.8811e-04\n",
      "Epoch 84/100\n",
      "28/28 [==============================] - 9s 333ms/step - loss: 1.1989e-04 - val_loss: 3.7566e-04\n",
      "Epoch 85/100\n",
      "28/28 [==============================] - 9s 320ms/step - loss: 1.0878e-04 - val_loss: 2.8267e-04\n",
      "Epoch 86/100\n",
      "28/28 [==============================] - 9s 327ms/step - loss: 1.0534e-04 - val_loss: 3.0666e-04\n",
      "Epoch 87/100\n",
      "28/28 [==============================] - 9s 318ms/step - loss: 1.3215e-04 - val_loss: 3.3794e-04\n",
      "Epoch 88/100\n",
      "28/28 [==============================] - 9s 317ms/step - loss: 1.2823e-04 - val_loss: 3.2705e-04\n",
      "Epoch 89/100\n",
      "28/28 [==============================] - 8s 303ms/step - loss: 1.2202e-04 - val_loss: 2.8329e-04\n",
      "Epoch 90/100\n",
      "28/28 [==============================] - 9s 310ms/step - loss: 1.2344e-04 - val_loss: 2.9498e-04\n",
      "Epoch 91/100\n",
      "28/28 [==============================] - 8s 299ms/step - loss: 1.0210e-04 - val_loss: 2.8375e-04\n",
      "Epoch 92/100\n",
      "28/28 [==============================] - 9s 312ms/step - loss: 9.9690e-05 - val_loss: 2.9178e-04\n",
      "Epoch 93/100\n",
      "28/28 [==============================] - 9s 337ms/step - loss: 1.1841e-04 - val_loss: 3.3858e-04\n",
      "Epoch 94/100\n",
      "28/28 [==============================] - 9s 303ms/step - loss: 9.4872e-05 - val_loss: 2.6161e-04\n",
      "Epoch 95/100\n",
      "28/28 [==============================] - 8s 287ms/step - loss: 9.7247e-05 - val_loss: 2.8081e-04\n",
      "Epoch 96/100\n",
      "28/28 [==============================] - 9s 306ms/step - loss: 9.2291e-05 - val_loss: 2.6791e-04\n",
      "Epoch 97/100\n",
      "28/28 [==============================] - 8s 296ms/step - loss: 9.9496e-05 - val_loss: 2.6275e-04\n",
      "Epoch 98/100\n",
      "28/28 [==============================] - 8s 282ms/step - loss: 1.0149e-04 - val_loss: 2.4435e-04\n",
      "Epoch 99/100\n",
      "28/28 [==============================] - 8s 305ms/step - loss: 8.5798e-05 - val_loss: 2.8905e-04\n",
      "Epoch 100/100\n",
      "28/28 [==============================] - 8s 300ms/step - loss: 8.6054e-05 - val_loss: 2.5247e-04\n"
     ]
    },
    {
     "output_type": "execute_result",
     "data": {
      "text/plain": [
       "<tensorflow.python.keras.callbacks.History at 0x7f93494fc7c0>"
      ]
     },
     "metadata": {},
     "execution_count": 240
    }
   ],
   "metadata": {}
  },
  {
   "cell_type": "code",
   "execution_count": 229,
   "source": [
    "import tensorflow as tf"
   ],
   "outputs": [],
   "metadata": {}
  },
  {
   "cell_type": "code",
   "execution_count": 242,
   "source": [
    "### Lets Do the prediction and check performance metrics\n",
    "train_predict=model.predict(X_train)\n",
    "test_predict=model.predict(X_test)"
   ],
   "outputs": [],
   "metadata": {}
  },
  {
   "cell_type": "code",
   "execution_count": 243,
   "source": [
    "##Transformback to original form\n",
    "train_predict=scaler.inverse_transform(train_predict)\n",
    "test_predict=scaler.inverse_transform(test_predict)"
   ],
   "outputs": [],
   "metadata": {}
  },
  {
   "cell_type": "code",
   "execution_count": 244,
   "source": [
    "### Calculate RMSE performance metrics\n",
    "import math\n",
    "from sklearn.metrics import mean_squared_error\n",
    "math.sqrt(mean_squared_error(y_train,train_predict))"
   ],
   "outputs": [
    {
     "output_type": "execute_result",
     "data": {
      "text/plain": [
       "164.97782288409346"
      ]
     },
     "metadata": {},
     "execution_count": 244
    }
   ],
   "metadata": {}
  },
  {
   "cell_type": "code",
   "execution_count": 245,
   "source": [
    "### Test Data RMSE\n",
    "math.sqrt(mean_squared_error(y_test,test_predict))"
   ],
   "outputs": [
    {
     "output_type": "execute_result",
     "data": {
      "text/plain": [
       "240.59035256318407"
      ]
     },
     "metadata": {},
     "execution_count": 245
    }
   ],
   "metadata": {}
  },
  {
   "cell_type": "code",
   "execution_count": 246,
   "source": [
    "### Plotting \n",
    "# shift train predictions for plotting\n",
    "look_back=100\n",
    "trainPredictPlot = np.empty_like(gs_data1)\n",
    "trainPredictPlot[:, :] = np.nan\n",
    "trainPredictPlot[look_back:len(train_predict)+look_back, :] = train_predict\n",
    "# shift test predictions for plotting\n",
    "testPredictPlot = np.empty_like(gs_data1)\n",
    "testPredictPlot[:, :] = np.nan\n",
    "testPredictPlot[len(train_predict)+(look_back*2)+1:len(gs_data1)-1, :] = test_predict\n",
    "# plot baseline and predictions\n",
    "plt.figure(figsize=(15,6))\n",
    "plt.plot(scaler.inverse_transform(gs_data1))\n",
    "plt.plot(trainPredictPlot)\n",
    "plt.plot(testPredictPlot)\n",
    "plt.show()"
   ],
   "outputs": [
    {
     "output_type": "display_data",
     "data": {
      "text/plain": [
       "<Figure size 1080x432 with 1 Axes>"
      ],
      "image/png": "[encoded data removed]"
     },
     "metadata": {}
    }
   ],
   "metadata": {
    "scrolled": true
   }
  },
  {
   "cell_type": "code",
   "execution_count": 247,
   "source": [
    "len(test_data)"
   ],
   "outputs": [
    {
     "output_type": "execute_result",
     "data": {
      "text/plain": [
       "1019"
      ]
     },
     "metadata": {},
     "execution_count": 247
    }
   ],
   "metadata": {}
  },
  {
   "cell_type": "code",
   "execution_count": 248,
   "source": [
    "x_input=test_data[919:].reshape(1,-1)\n",
    "x_input.shape\n"
   ],
   "outputs": [
    {
     "output_type": "execute_result",
     "data": {
      "text/plain": [
       "(1, 100)"
      ]
     },
     "metadata": {},
     "execution_count": 248
    }
   ],
   "metadata": {}
  },
  {
   "cell_type": "code",
   "execution_count": 249,
   "source": [
    "temp_input=list(x_input)\n",
    "temp_input=temp_input[0].tolist()"
   ],
   "outputs": [],
   "metadata": {}
  },
  {
   "cell_type": "code",
   "execution_count": 250,
   "source": [
    "temp_input"
   ],
   "outputs": [
    {
     "output_type": "execute_result",
     "data": {
      "text/plain": [
       "[0.8122798353909465,\n",
       " 0.795358024691358,\n",
       " 0.7890370370370371,\n",
       " 0.8114897119341563,\n",
       " 0.7996378600823043,\n",
       " 0.837267489711934,\n",
       " 0.8375308641975309,\n",
       " 0.8596213991769547,\n",
       " 0.8505349794238682,\n",
       " 0.8362469135802467,\n",
       " 0.8469135802469135,\n",
       " 0.8569547325102881,\n",
       " 0.8444444444444444,\n",
       " 0.8284115226337448,\n",
       " 0.8035226337448559,\n",
       " 0.7932510288065843,\n",
       " 0.7995061728395062,\n",
       " 0.789102880658436,\n",
       " 0.7836378600823045,\n",
       " 0.8043127572016461,\n",
       " 0.7878189300411523,\n",
       " 0.7899259259259258,\n",
       " 0.7764279835390947,\n",
       " 0.7880164609053498,\n",
       " 0.7863374485596707,\n",
       " 0.8014485596707818,\n",
       " 0.8003621399176956,\n",
       " 0.803753086419753,\n",
       " 0.7900576131687244,\n",
       " 0.8153086419753087,\n",
       " 0.825843621399177,\n",
       " 0.8382222222222223,\n",
       " 0.8407901234567899,\n",
       " 0.8038847736625513,\n",
       " 0.8150452674897118,\n",
       " 0.8004938271604939,\n",
       " 0.828477366255144,\n",
       " 0.8422057613168724,\n",
       " 0.8524444444444444,\n",
       " 0.8573168724279835,\n",
       " 0.8733168724279835,\n",
       " 0.8584362139917695,\n",
       " 0.8640658436213992,\n",
       " 0.8630123456790123,\n",
       " 0.8886255144032921,\n",
       " 0.9161152263374487,\n",
       " 0.932312757201646,\n",
       " 0.925037037037037,\n",
       " 0.8961975308641975,\n",
       " 0.8780246913580246,\n",
       " 0.8925432098765432,\n",
       " 0.9253333333333332,\n",
       " 0.9269135802469136,\n",
       " 0.9114732510288065,\n",
       " 0.8911275720164608,\n",
       " 0.8957366255144031,\n",
       " 0.9170699588477366,\n",
       " 0.9237530864197531,\n",
       " 0.9113086419753086,\n",
       " 0.9208230452674896,\n",
       " 0.9338930041152264,\n",
       " 0.9360329218106994,\n",
       " 0.9703374485596706,\n",
       " 0.9736296296296295,\n",
       " 0.9910123456790124,\n",
       " 0.9999999999999999,\n",
       " 0.9891687242798354,\n",
       " 0.9777777777777777,\n",
       " 0.9714567901234566,\n",
       " 0.9423539094650205,\n",
       " 0.9558847736625514,\n",
       " 0.9389958847736625,\n",
       " 0.9336625514403293,\n",
       " 0.9326748971193416,\n",
       " 0.9013991769547324,\n",
       " 0.8596872427983538,\n",
       " 0.8883621399176954,\n",
       " 0.8883292181069958,\n",
       " 0.899917695473251,\n",
       " 0.9252674897119341,\n",
       " 0.9253333333333332,\n",
       " 0.9251358024691357,\n",
       " 0.9380082304526748,\n",
       " 0.9607572016460905,\n",
       " 0.9458106995884773,\n",
       " 0.9430781893004115,\n",
       " 0.9289218106995886,\n",
       " 0.9217119341563785,\n",
       " 0.8929711934156378,\n",
       " 0.9351769547325103,\n",
       " 0.9639506172839506,\n",
       " 0.9490699588477366,\n",
       " 0.9438683127572015,\n",
       " 0.940411522633745,\n",
       " 0.9122633744855967,\n",
       " 0.8790781893004115,\n",
       " 0.9121316872427984,\n",
       " 0.9409053497942387,\n",
       " 0.938304526748971,\n",
       " 0.9427160493827161]"
      ]
     },
     "metadata": {},
     "execution_count": 250
    }
   ],
   "metadata": {}
  },
  {
   "cell_type": "code",
   "execution_count": 251,
   "source": [
    "# demonstrate prediction for next 10 days\n",
    "from numpy import array\n",
    "\n",
    "lst_output=[]\n",
    "n_steps=100\n",
    "i=0\n",
    "while(i<30):\n",
    "    \n",
    "    if(len(temp_input)>100):\n",
    "        #print(temp_input)\n",
    "        x_input=np.array(temp_input[1:])\n",
    "        print(\"{} day input {}\".format(i,x_input))\n",
    "        x_input=x_input.reshape(1,-1)\n",
    "        x_input = x_input.reshape((1, n_steps, 1))\n",
    "        #print(x_input)\n",
    "        yhat = model.predict(x_input, verbose=0)\n",
    "        print(\"{} day output {}\".format(i,yhat))\n",
    "        temp_input.extend(yhat[0].tolist())\n",
    "        temp_input=temp_input[1:]\n",
    "        #print(temp_input)\n",
    "        lst_output.extend(yhat.tolist())\n",
    "        i=i+1\n",
    "    else:\n",
    "        x_input = x_input.reshape((1, n_steps,1))\n",
    "        yhat = model.predict(x_input, verbose=0)\n",
    "        print(yhat[0])\n",
    "        temp_input.extend(yhat[0].tolist())\n",
    "        print(len(temp_input))\n",
    "        lst_output.extend(yhat.tolist())\n",
    "        i=i+1\n",
    "    \n",
    "\n",
    "print(lst_output)"
   ],
   "outputs": [
    {
     "output_type": "stream",
     "name": "stdout",
     "text": [
      "[0.94021744]\n",
      "101\n",
      "1 day input [0.79535802 0.78903704 0.81148971 0.79963786 0.83726749 0.83753086\n",
      " 0.8596214  0.85053498 0.83624691 0.84691358 0.85695473 0.84444444\n",
      " 0.82841152 0.80352263 0.79325103 0.79950617 0.78910288 0.78363786\n",
      " 0.80431276 0.78781893 0.78992593 0.77642798 0.78801646 0.78633745\n",
      " 0.80144856 0.80036214 0.80375309 0.79005761 0.81530864 0.82584362\n",
      " 0.83822222 0.84079012 0.80388477 0.81504527 0.80049383 0.82847737\n",
      " 0.84220576 0.85244444 0.85731687 0.87331687 0.85843621 0.86406584\n",
      " 0.86301235 0.88862551 0.91611523 0.93231276 0.92503704 0.89619753\n",
      " 0.87802469 0.89254321 0.92533333 0.92691358 0.91147325 0.89112757\n",
      " 0.89573663 0.91706996 0.92375309 0.91130864 0.92082305 0.933893\n",
      " 0.93603292 0.97033745 0.97362963 0.99101235 1.         0.98916872\n",
      " 0.97777778 0.97145679 0.94235391 0.95588477 0.93899588 0.93366255\n",
      " 0.9326749  0.90139918 0.85968724 0.88836214 0.88832922 0.8999177\n",
      " 0.92526749 0.92533333 0.9251358  0.93800823 0.9607572  0.9458107\n",
      " 0.94307819 0.92892181 0.92171193 0.89297119 0.93517695 0.96395062\n",
      " 0.94906996 0.94386831 0.94041152 0.91226337 0.87907819 0.91213169\n",
      " 0.94090535 0.93830453 0.94271605 0.94021744]\n",
      "1 day output [[0.9427662]]\n",
      "2 day input [0.78903704 0.81148971 0.79963786 0.83726749 0.83753086 0.8596214\n",
      " 0.85053498 0.83624691 0.84691358 0.85695473 0.84444444 0.82841152\n",
      " 0.80352263 0.79325103 0.79950617 0.78910288 0.78363786 0.80431276\n",
      " 0.78781893 0.78992593 0.77642798 0.78801646 0.78633745 0.80144856\n",
      " 0.80036214 0.80375309 0.79005761 0.81530864 0.82584362 0.83822222\n",
      " 0.84079012 0.80388477 0.81504527 0.80049383 0.82847737 0.84220576\n",
      " 0.85244444 0.85731687 0.87331687 0.85843621 0.86406584 0.86301235\n",
      " 0.88862551 0.91611523 0.93231276 0.92503704 0.89619753 0.87802469\n",
      " 0.89254321 0.92533333 0.92691358 0.91147325 0.89112757 0.89573663\n",
      " 0.91706996 0.92375309 0.91130864 0.92082305 0.933893   0.93603292\n",
      " 0.97033745 0.97362963 0.99101235 1.         0.98916872 0.97777778\n",
      " 0.97145679 0.94235391 0.95588477 0.93899588 0.93366255 0.9326749\n",
      " 0.90139918 0.85968724 0.88836214 0.88832922 0.8999177  0.92526749\n",
      " 0.92533333 0.9251358  0.93800823 0.9607572  0.9458107  0.94307819\n",
      " 0.92892181 0.92171193 0.89297119 0.93517695 0.96395062 0.94906996\n",
      " 0.94386831 0.94041152 0.91226337 0.87907819 0.91213169 0.94090535\n",
      " 0.93830453 0.94271605 0.94021744 0.94276619]\n",
      "2 day output [[0.9455106]]\n",
      "3 day input [0.81148971 0.79963786 0.83726749 0.83753086 0.8596214  0.85053498\n",
      " 0.83624691 0.84691358 0.85695473 0.84444444 0.82841152 0.80352263\n",
      " 0.79325103 0.79950617 0.78910288 0.78363786 0.80431276 0.78781893\n",
      " 0.78992593 0.77642798 0.78801646 0.78633745 0.80144856 0.80036214\n",
      " 0.80375309 0.79005761 0.81530864 0.82584362 0.83822222 0.84079012\n",
      " 0.80388477 0.81504527 0.80049383 0.82847737 0.84220576 0.85244444\n",
      " 0.85731687 0.87331687 0.85843621 0.86406584 0.86301235 0.88862551\n",
      " 0.91611523 0.93231276 0.92503704 0.89619753 0.87802469 0.89254321\n",
      " 0.92533333 0.92691358 0.91147325 0.89112757 0.89573663 0.91706996\n",
      " 0.92375309 0.91130864 0.92082305 0.933893   0.93603292 0.97033745\n",
      " 0.97362963 0.99101235 1.         0.98916872 0.97777778 0.97145679\n",
      " 0.94235391 0.95588477 0.93899588 0.93366255 0.9326749  0.90139918\n",
      " 0.85968724 0.88836214 0.88832922 0.8999177  0.92526749 0.92533333\n",
      " 0.9251358  0.93800823 0.9607572  0.9458107  0.94307819 0.92892181\n",
      " 0.92171193 0.89297119 0.93517695 0.96395062 0.94906996 0.94386831\n",
      " 0.94041152 0.91226337 0.87907819 0.91213169 0.94090535 0.93830453\n",
      " 0.94271605 0.94021744 0.94276619 0.94551063]\n",
      "3 day output [[0.94870436]]\n",
      "4 day input [0.79963786 0.83726749 0.83753086 0.8596214  0.85053498 0.83624691\n",
      " 0.84691358 0.85695473 0.84444444 0.82841152 0.80352263 0.79325103\n",
      " 0.79950617 0.78910288 0.78363786 0.80431276 0.78781893 0.78992593\n",
      " 0.77642798 0.78801646 0.78633745 0.80144856 0.80036214 0.80375309\n",
      " 0.79005761 0.81530864 0.82584362 0.83822222 0.84079012 0.80388477\n",
      " 0.81504527 0.80049383 0.82847737 0.84220576 0.85244444 0.85731687\n",
      " 0.87331687 0.85843621 0.86406584 0.86301235 0.88862551 0.91611523\n",
      " 0.93231276 0.92503704 0.89619753 0.87802469 0.89254321 0.92533333\n",
      " 0.92691358 0.91147325 0.89112757 0.89573663 0.91706996 0.92375309\n",
      " 0.91130864 0.92082305 0.933893   0.93603292 0.97033745 0.97362963\n",
      " 0.99101235 1.         0.98916872 0.97777778 0.97145679 0.94235391\n",
      " 0.95588477 0.93899588 0.93366255 0.9326749  0.90139918 0.85968724\n",
      " 0.88836214 0.88832922 0.8999177  0.92526749 0.92533333 0.9251358\n",
      " 0.93800823 0.9607572  0.9458107  0.94307819 0.92892181 0.92171193\n",
      " 0.89297119 0.93517695 0.96395062 0.94906996 0.94386831 0.94041152\n",
      " 0.91226337 0.87907819 0.91213169 0.94090535 0.93830453 0.94271605\n",
      " 0.94021744 0.94276619 0.94551063 0.94870436]\n",
      "4 day output [[0.9520037]]\n",
      "5 day input [0.83726749 0.83753086 0.8596214  0.85053498 0.83624691 0.84691358\n",
      " 0.85695473 0.84444444 0.82841152 0.80352263 0.79325103 0.79950617\n",
      " 0.78910288 0.78363786 0.80431276 0.78781893 0.78992593 0.77642798\n",
      " 0.78801646 0.78633745 0.80144856 0.80036214 0.80375309 0.79005761\n",
      " 0.81530864 0.82584362 0.83822222 0.84079012 0.80388477 0.81504527\n",
      " 0.80049383 0.82847737 0.84220576 0.85244444 0.85731687 0.87331687\n",
      " 0.85843621 0.86406584 0.86301235 0.88862551 0.91611523 0.93231276\n",
      " 0.92503704 0.89619753 0.87802469 0.89254321 0.92533333 0.92691358\n",
      " 0.91147325 0.89112757 0.89573663 0.91706996 0.92375309 0.91130864\n",
      " 0.92082305 0.933893   0.93603292 0.97033745 0.97362963 0.99101235\n",
      " 1.         0.98916872 0.97777778 0.97145679 0.94235391 0.95588477\n",
      " 0.93899588 0.93366255 0.9326749  0.90139918 0.85968724 0.88836214\n",
      " 0.88832922 0.8999177  0.92526749 0.92533333 0.9251358  0.93800823\n",
      " 0.9607572  0.9458107  0.94307819 0.92892181 0.92171193 0.89297119\n",
      " 0.93517695 0.96395062 0.94906996 0.94386831 0.94041152 0.91226337\n",
      " 0.87907819 0.91213169 0.94090535 0.93830453 0.94271605 0.94021744\n",
      " 0.94276619 0.94551063 0.94870436 0.95200372]\n",
      "5 day output [[0.9552493]]\n",
      "6 day input [0.83753086 0.8596214  0.85053498 0.83624691 0.84691358 0.85695473\n",
      " 0.84444444 0.82841152 0.80352263 0.79325103 0.79950617 0.78910288\n",
      " 0.78363786 0.80431276 0.78781893 0.78992593 0.77642798 0.78801646\n",
      " 0.78633745 0.80144856 0.80036214 0.80375309 0.79005761 0.81530864\n",
      " 0.82584362 0.83822222 0.84079012 0.80388477 0.81504527 0.80049383\n",
      " 0.82847737 0.84220576 0.85244444 0.85731687 0.87331687 0.85843621\n",
      " 0.86406584 0.86301235 0.88862551 0.91611523 0.93231276 0.92503704\n",
      " 0.89619753 0.87802469 0.89254321 0.92533333 0.92691358 0.91147325\n",
      " 0.89112757 0.89573663 0.91706996 0.92375309 0.91130864 0.92082305\n",
      " 0.933893   0.93603292 0.97033745 0.97362963 0.99101235 1.\n",
      " 0.98916872 0.97777778 0.97145679 0.94235391 0.95588477 0.93899588\n",
      " 0.93366255 0.9326749  0.90139918 0.85968724 0.88836214 0.88832922\n",
      " 0.8999177  0.92526749 0.92533333 0.9251358  0.93800823 0.9607572\n",
      " 0.9458107  0.94307819 0.92892181 0.92171193 0.89297119 0.93517695\n",
      " 0.96395062 0.94906996 0.94386831 0.94041152 0.91226337 0.87907819\n",
      " 0.91213169 0.94090535 0.93830453 0.94271605 0.94021744 0.94276619\n",
      " 0.94551063 0.94870436 0.95200372 0.95524931]\n",
      "6 day output [[0.95844585]]\n",
      "7 day input [0.8596214  0.85053498 0.83624691 0.84691358 0.85695473 0.84444444\n",
      " 0.82841152 0.80352263 0.79325103 0.79950617 0.78910288 0.78363786\n",
      " 0.80431276 0.78781893 0.78992593 0.77642798 0.78801646 0.78633745\n",
      " 0.80144856 0.80036214 0.80375309 0.79005761 0.81530864 0.82584362\n",
      " 0.83822222 0.84079012 0.80388477 0.81504527 0.80049383 0.82847737\n",
      " 0.84220576 0.85244444 0.85731687 0.87331687 0.85843621 0.86406584\n",
      " 0.86301235 0.88862551 0.91611523 0.93231276 0.92503704 0.89619753\n",
      " 0.87802469 0.89254321 0.92533333 0.92691358 0.91147325 0.89112757\n",
      " 0.89573663 0.91706996 0.92375309 0.91130864 0.92082305 0.933893\n",
      " 0.93603292 0.97033745 0.97362963 0.99101235 1.         0.98916872\n",
      " 0.97777778 0.97145679 0.94235391 0.95588477 0.93899588 0.93366255\n",
      " 0.9326749  0.90139918 0.85968724 0.88836214 0.88832922 0.8999177\n",
      " 0.92526749 0.92533333 0.9251358  0.93800823 0.9607572  0.9458107\n",
      " 0.94307819 0.92892181 0.92171193 0.89297119 0.93517695 0.96395062\n",
      " 0.94906996 0.94386831 0.94041152 0.91226337 0.87907819 0.91213169\n",
      " 0.94090535 0.93830453 0.94271605 0.94021744 0.94276619 0.94551063\n",
      " 0.94870436 0.95200372 0.95524931 0.95844585]\n",
      "7 day output [[0.9616376]]\n",
      "8 day input [0.85053498 0.83624691 0.84691358 0.85695473 0.84444444 0.82841152\n",
      " 0.80352263 0.79325103 0.79950617 0.78910288 0.78363786 0.80431276\n",
      " 0.78781893 0.78992593 0.77642798 0.78801646 0.78633745 0.80144856\n",
      " 0.80036214 0.80375309 0.79005761 0.81530864 0.82584362 0.83822222\n",
      " 0.84079012 0.80388477 0.81504527 0.80049383 0.82847737 0.84220576\n",
      " 0.85244444 0.85731687 0.87331687 0.85843621 0.86406584 0.86301235\n",
      " 0.88862551 0.91611523 0.93231276 0.92503704 0.89619753 0.87802469\n",
      " 0.89254321 0.92533333 0.92691358 0.91147325 0.89112757 0.89573663\n",
      " 0.91706996 0.92375309 0.91130864 0.92082305 0.933893   0.93603292\n",
      " 0.97033745 0.97362963 0.99101235 1.         0.98916872 0.97777778\n",
      " 0.97145679 0.94235391 0.95588477 0.93899588 0.93366255 0.9326749\n",
      " 0.90139918 0.85968724 0.88836214 0.88832922 0.8999177  0.92526749\n",
      " 0.92533333 0.9251358  0.93800823 0.9607572  0.9458107  0.94307819\n",
      " 0.92892181 0.92171193 0.89297119 0.93517695 0.96395062 0.94906996\n",
      " 0.94386831 0.94041152 0.91226337 0.87907819 0.91213169 0.94090535\n",
      " 0.93830453 0.94271605 0.94021744 0.94276619 0.94551063 0.94870436\n",
      " 0.95200372 0.95524931 0.95844585 0.96163762]\n"
     ]
    },
    {
     "output_type": "stream",
     "name": "stdout",
     "text": [
      "8 day output [[0.9648563]]\n",
      "9 day input [0.83624691 0.84691358 0.85695473 0.84444444 0.82841152 0.80352263\n",
      " 0.79325103 0.79950617 0.78910288 0.78363786 0.80431276 0.78781893\n",
      " 0.78992593 0.77642798 0.78801646 0.78633745 0.80144856 0.80036214\n",
      " 0.80375309 0.79005761 0.81530864 0.82584362 0.83822222 0.84079012\n",
      " 0.80388477 0.81504527 0.80049383 0.82847737 0.84220576 0.85244444\n",
      " 0.85731687 0.87331687 0.85843621 0.86406584 0.86301235 0.88862551\n",
      " 0.91611523 0.93231276 0.92503704 0.89619753 0.87802469 0.89254321\n",
      " 0.92533333 0.92691358 0.91147325 0.89112757 0.89573663 0.91706996\n",
      " 0.92375309 0.91130864 0.92082305 0.933893   0.93603292 0.97033745\n",
      " 0.97362963 0.99101235 1.         0.98916872 0.97777778 0.97145679\n",
      " 0.94235391 0.95588477 0.93899588 0.93366255 0.9326749  0.90139918\n",
      " 0.85968724 0.88836214 0.88832922 0.8999177  0.92526749 0.92533333\n",
      " 0.9251358  0.93800823 0.9607572  0.9458107  0.94307819 0.92892181\n",
      " 0.92171193 0.89297119 0.93517695 0.96395062 0.94906996 0.94386831\n",
      " 0.94041152 0.91226337 0.87907819 0.91213169 0.94090535 0.93830453\n",
      " 0.94271605 0.94021744 0.94276619 0.94551063 0.94870436 0.95200372\n",
      " 0.95524931 0.95844585 0.96163762 0.96485633]\n",
      "9 day output [[0.9681083]]\n",
      "10 day input [0.84691358 0.85695473 0.84444444 0.82841152 0.80352263 0.79325103\n",
      " 0.79950617 0.78910288 0.78363786 0.80431276 0.78781893 0.78992593\n",
      " 0.77642798 0.78801646 0.78633745 0.80144856 0.80036214 0.80375309\n",
      " 0.79005761 0.81530864 0.82584362 0.83822222 0.84079012 0.80388477\n",
      " 0.81504527 0.80049383 0.82847737 0.84220576 0.85244444 0.85731687\n",
      " 0.87331687 0.85843621 0.86406584 0.86301235 0.88862551 0.91611523\n",
      " 0.93231276 0.92503704 0.89619753 0.87802469 0.89254321 0.92533333\n",
      " 0.92691358 0.91147325 0.89112757 0.89573663 0.91706996 0.92375309\n",
      " 0.91130864 0.92082305 0.933893   0.93603292 0.97033745 0.97362963\n",
      " 0.99101235 1.         0.98916872 0.97777778 0.97145679 0.94235391\n",
      " 0.95588477 0.93899588 0.93366255 0.9326749  0.90139918 0.85968724\n",
      " 0.88836214 0.88832922 0.8999177  0.92526749 0.92533333 0.9251358\n",
      " 0.93800823 0.9607572  0.9458107  0.94307819 0.92892181 0.92171193\n",
      " 0.89297119 0.93517695 0.96395062 0.94906996 0.94386831 0.94041152\n",
      " 0.91226337 0.87907819 0.91213169 0.94090535 0.93830453 0.94271605\n",
      " 0.94021744 0.94276619 0.94551063 0.94870436 0.95200372 0.95524931\n",
      " 0.95844585 0.96163762 0.96485633 0.9681083 ]\n",
      "10 day output [[0.9713816]]\n",
      "11 day input [0.85695473 0.84444444 0.82841152 0.80352263 0.79325103 0.79950617\n",
      " 0.78910288 0.78363786 0.80431276 0.78781893 0.78992593 0.77642798\n",
      " 0.78801646 0.78633745 0.80144856 0.80036214 0.80375309 0.79005761\n",
      " 0.81530864 0.82584362 0.83822222 0.84079012 0.80388477 0.81504527\n",
      " 0.80049383 0.82847737 0.84220576 0.85244444 0.85731687 0.87331687\n",
      " 0.85843621 0.86406584 0.86301235 0.88862551 0.91611523 0.93231276\n",
      " 0.92503704 0.89619753 0.87802469 0.89254321 0.92533333 0.92691358\n",
      " 0.91147325 0.89112757 0.89573663 0.91706996 0.92375309 0.91130864\n",
      " 0.92082305 0.933893   0.93603292 0.97033745 0.97362963 0.99101235\n",
      " 1.         0.98916872 0.97777778 0.97145679 0.94235391 0.95588477\n",
      " 0.93899588 0.93366255 0.9326749  0.90139918 0.85968724 0.88836214\n",
      " 0.88832922 0.8999177  0.92526749 0.92533333 0.9251358  0.93800823\n",
      " 0.9607572  0.9458107  0.94307819 0.92892181 0.92171193 0.89297119\n",
      " 0.93517695 0.96395062 0.94906996 0.94386831 0.94041152 0.91226337\n",
      " 0.87907819 0.91213169 0.94090535 0.93830453 0.94271605 0.94021744\n",
      " 0.94276619 0.94551063 0.94870436 0.95200372 0.95524931 0.95844585\n",
      " 0.96163762 0.96485633 0.9681083  0.9713816 ]\n",
      "11 day output [[0.97465706]]\n",
      "12 day input [0.84444444 0.82841152 0.80352263 0.79325103 0.79950617 0.78910288\n",
      " 0.78363786 0.80431276 0.78781893 0.78992593 0.77642798 0.78801646\n",
      " 0.78633745 0.80144856 0.80036214 0.80375309 0.79005761 0.81530864\n",
      " 0.82584362 0.83822222 0.84079012 0.80388477 0.81504527 0.80049383\n",
      " 0.82847737 0.84220576 0.85244444 0.85731687 0.87331687 0.85843621\n",
      " 0.86406584 0.86301235 0.88862551 0.91611523 0.93231276 0.92503704\n",
      " 0.89619753 0.87802469 0.89254321 0.92533333 0.92691358 0.91147325\n",
      " 0.89112757 0.89573663 0.91706996 0.92375309 0.91130864 0.92082305\n",
      " 0.933893   0.93603292 0.97033745 0.97362963 0.99101235 1.\n",
      " 0.98916872 0.97777778 0.97145679 0.94235391 0.95588477 0.93899588\n",
      " 0.93366255 0.9326749  0.90139918 0.85968724 0.88836214 0.88832922\n",
      " 0.8999177  0.92526749 0.92533333 0.9251358  0.93800823 0.9607572\n",
      " 0.9458107  0.94307819 0.92892181 0.92171193 0.89297119 0.93517695\n",
      " 0.96395062 0.94906996 0.94386831 0.94041152 0.91226337 0.87907819\n",
      " 0.91213169 0.94090535 0.93830453 0.94271605 0.94021744 0.94276619\n",
      " 0.94551063 0.94870436 0.95200372 0.95524931 0.95844585 0.96163762\n",
      " 0.96485633 0.9681083  0.9713816  0.97465706]\n",
      "12 day output [[0.9779148]]\n",
      "13 day input [0.82841152 0.80352263 0.79325103 0.79950617 0.78910288 0.78363786\n",
      " 0.80431276 0.78781893 0.78992593 0.77642798 0.78801646 0.78633745\n",
      " 0.80144856 0.80036214 0.80375309 0.79005761 0.81530864 0.82584362\n",
      " 0.83822222 0.84079012 0.80388477 0.81504527 0.80049383 0.82847737\n",
      " 0.84220576 0.85244444 0.85731687 0.87331687 0.85843621 0.86406584\n",
      " 0.86301235 0.88862551 0.91611523 0.93231276 0.92503704 0.89619753\n",
      " 0.87802469 0.89254321 0.92533333 0.92691358 0.91147325 0.89112757\n",
      " 0.89573663 0.91706996 0.92375309 0.91130864 0.92082305 0.933893\n",
      " 0.93603292 0.97033745 0.97362963 0.99101235 1.         0.98916872\n",
      " 0.97777778 0.97145679 0.94235391 0.95588477 0.93899588 0.93366255\n",
      " 0.9326749  0.90139918 0.85968724 0.88836214 0.88832922 0.8999177\n",
      " 0.92526749 0.92533333 0.9251358  0.93800823 0.9607572  0.9458107\n",
      " 0.94307819 0.92892181 0.92171193 0.89297119 0.93517695 0.96395062\n",
      " 0.94906996 0.94386831 0.94041152 0.91226337 0.87907819 0.91213169\n",
      " 0.94090535 0.93830453 0.94271605 0.94021744 0.94276619 0.94551063\n",
      " 0.94870436 0.95200372 0.95524931 0.95844585 0.96163762 0.96485633\n",
      " 0.9681083  0.9713816  0.97465706 0.97791481]\n",
      "13 day output [[0.9811384]]\n",
      "14 day input [0.80352263 0.79325103 0.79950617 0.78910288 0.78363786 0.80431276\n",
      " 0.78781893 0.78992593 0.77642798 0.78801646 0.78633745 0.80144856\n",
      " 0.80036214 0.80375309 0.79005761 0.81530864 0.82584362 0.83822222\n",
      " 0.84079012 0.80388477 0.81504527 0.80049383 0.82847737 0.84220576\n",
      " 0.85244444 0.85731687 0.87331687 0.85843621 0.86406584 0.86301235\n",
      " 0.88862551 0.91611523 0.93231276 0.92503704 0.89619753 0.87802469\n",
      " 0.89254321 0.92533333 0.92691358 0.91147325 0.89112757 0.89573663\n",
      " 0.91706996 0.92375309 0.91130864 0.92082305 0.933893   0.93603292\n",
      " 0.97033745 0.97362963 0.99101235 1.         0.98916872 0.97777778\n",
      " 0.97145679 0.94235391 0.95588477 0.93899588 0.93366255 0.9326749\n",
      " 0.90139918 0.85968724 0.88836214 0.88832922 0.8999177  0.92526749\n",
      " 0.92533333 0.9251358  0.93800823 0.9607572  0.9458107  0.94307819\n",
      " 0.92892181 0.92171193 0.89297119 0.93517695 0.96395062 0.94906996\n",
      " 0.94386831 0.94041152 0.91226337 0.87907819 0.91213169 0.94090535\n",
      " 0.93830453 0.94271605 0.94021744 0.94276619 0.94551063 0.94870436\n",
      " 0.95200372 0.95524931 0.95844585 0.96163762 0.96485633 0.9681083\n",
      " 0.9713816  0.97465706 0.97791481 0.98113841]\n",
      "14 day output [[0.9843144]]\n",
      "15 day input [0.79325103 0.79950617 0.78910288 0.78363786 0.80431276 0.78781893\n",
      " 0.78992593 0.77642798 0.78801646 0.78633745 0.80144856 0.80036214\n",
      " 0.80375309 0.79005761 0.81530864 0.82584362 0.83822222 0.84079012\n",
      " 0.80388477 0.81504527 0.80049383 0.82847737 0.84220576 0.85244444\n",
      " 0.85731687 0.87331687 0.85843621 0.86406584 0.86301235 0.88862551\n",
      " 0.91611523 0.93231276 0.92503704 0.89619753 0.87802469 0.89254321\n",
      " 0.92533333 0.92691358 0.91147325 0.89112757 0.89573663 0.91706996\n",
      " 0.92375309 0.91130864 0.92082305 0.933893   0.93603292 0.97033745\n",
      " 0.97362963 0.99101235 1.         0.98916872 0.97777778 0.97145679\n",
      " 0.94235391 0.95588477 0.93899588 0.93366255 0.9326749  0.90139918\n",
      " 0.85968724 0.88836214 0.88832922 0.8999177  0.92526749 0.92533333\n",
      " 0.9251358  0.93800823 0.9607572  0.9458107  0.94307819 0.92892181\n",
      " 0.92171193 0.89297119 0.93517695 0.96395062 0.94906996 0.94386831\n",
      " 0.94041152 0.91226337 0.87907819 0.91213169 0.94090535 0.93830453\n",
      " 0.94271605 0.94021744 0.94276619 0.94551063 0.94870436 0.95200372\n",
      " 0.95524931 0.95844585 0.96163762 0.96485633 0.9681083  0.9713816\n",
      " 0.97465706 0.97791481 0.98113841 0.98431438]\n",
      "15 day output [[0.98743194]]\n",
      "16 day input [0.79950617 0.78910288 0.78363786 0.80431276 0.78781893 0.78992593\n",
      " 0.77642798 0.78801646 0.78633745 0.80144856 0.80036214 0.80375309\n",
      " 0.79005761 0.81530864 0.82584362 0.83822222 0.84079012 0.80388477\n",
      " 0.81504527 0.80049383 0.82847737 0.84220576 0.85244444 0.85731687\n",
      " 0.87331687 0.85843621 0.86406584 0.86301235 0.88862551 0.91611523\n",
      " 0.93231276 0.92503704 0.89619753 0.87802469 0.89254321 0.92533333\n",
      " 0.92691358 0.91147325 0.89112757 0.89573663 0.91706996 0.92375309\n",
      " 0.91130864 0.92082305 0.933893   0.93603292 0.97033745 0.97362963\n",
      " 0.99101235 1.         0.98916872 0.97777778 0.97145679 0.94235391\n",
      " 0.95588477 0.93899588 0.93366255 0.9326749  0.90139918 0.85968724\n",
      " 0.88836214 0.88832922 0.8999177  0.92526749 0.92533333 0.9251358\n",
      " 0.93800823 0.9607572  0.9458107  0.94307819 0.92892181 0.92171193\n",
      " 0.89297119 0.93517695 0.96395062 0.94906996 0.94386831 0.94041152\n",
      " 0.91226337 0.87907819 0.91213169 0.94090535 0.93830453 0.94271605\n",
      " 0.94021744 0.94276619 0.94551063 0.94870436 0.95200372 0.95524931\n",
      " 0.95844585 0.96163762 0.96485633 0.9681083  0.9713816  0.97465706\n",
      " 0.97791481 0.98113841 0.98431438 0.98743194]\n"
     ]
    },
    {
     "output_type": "stream",
     "name": "stdout",
     "text": [
      "16 day output [[0.990482]]\n",
      "17 day input [0.78910288 0.78363786 0.80431276 0.78781893 0.78992593 0.77642798\n",
      " 0.78801646 0.78633745 0.80144856 0.80036214 0.80375309 0.79005761\n",
      " 0.81530864 0.82584362 0.83822222 0.84079012 0.80388477 0.81504527\n",
      " 0.80049383 0.82847737 0.84220576 0.85244444 0.85731687 0.87331687\n",
      " 0.85843621 0.86406584 0.86301235 0.88862551 0.91611523 0.93231276\n",
      " 0.92503704 0.89619753 0.87802469 0.89254321 0.92533333 0.92691358\n",
      " 0.91147325 0.89112757 0.89573663 0.91706996 0.92375309 0.91130864\n",
      " 0.92082305 0.933893   0.93603292 0.97033745 0.97362963 0.99101235\n",
      " 1.         0.98916872 0.97777778 0.97145679 0.94235391 0.95588477\n",
      " 0.93899588 0.93366255 0.9326749  0.90139918 0.85968724 0.88836214\n",
      " 0.88832922 0.8999177  0.92526749 0.92533333 0.9251358  0.93800823\n",
      " 0.9607572  0.9458107  0.94307819 0.92892181 0.92171193 0.89297119\n",
      " 0.93517695 0.96395062 0.94906996 0.94386831 0.94041152 0.91226337\n",
      " 0.87907819 0.91213169 0.94090535 0.93830453 0.94271605 0.94021744\n",
      " 0.94276619 0.94551063 0.94870436 0.95200372 0.95524931 0.95844585\n",
      " 0.96163762 0.96485633 0.9681083  0.9713816  0.97465706 0.97791481\n",
      " 0.98113841 0.98431438 0.98743194 0.99048197]\n",
      "17 day output [[0.99345696]]\n",
      "18 day input [0.78363786 0.80431276 0.78781893 0.78992593 0.77642798 0.78801646\n",
      " 0.78633745 0.80144856 0.80036214 0.80375309 0.79005761 0.81530864\n",
      " 0.82584362 0.83822222 0.84079012 0.80388477 0.81504527 0.80049383\n",
      " 0.82847737 0.84220576 0.85244444 0.85731687 0.87331687 0.85843621\n",
      " 0.86406584 0.86301235 0.88862551 0.91611523 0.93231276 0.92503704\n",
      " 0.89619753 0.87802469 0.89254321 0.92533333 0.92691358 0.91147325\n",
      " 0.89112757 0.89573663 0.91706996 0.92375309 0.91130864 0.92082305\n",
      " 0.933893   0.93603292 0.97033745 0.97362963 0.99101235 1.\n",
      " 0.98916872 0.97777778 0.97145679 0.94235391 0.95588477 0.93899588\n",
      " 0.93366255 0.9326749  0.90139918 0.85968724 0.88836214 0.88832922\n",
      " 0.8999177  0.92526749 0.92533333 0.9251358  0.93800823 0.9607572\n",
      " 0.9458107  0.94307819 0.92892181 0.92171193 0.89297119 0.93517695\n",
      " 0.96395062 0.94906996 0.94386831 0.94041152 0.91226337 0.87907819\n",
      " 0.91213169 0.94090535 0.93830453 0.94271605 0.94021744 0.94276619\n",
      " 0.94551063 0.94870436 0.95200372 0.95524931 0.95844585 0.96163762\n",
      " 0.96485633 0.9681083  0.9713816  0.97465706 0.97791481 0.98113841\n",
      " 0.98431438 0.98743194 0.99048197 0.99345696]\n",
      "18 day output [[0.9963501]]\n",
      "19 day input [0.80431276 0.78781893 0.78992593 0.77642798 0.78801646 0.78633745\n",
      " 0.80144856 0.80036214 0.80375309 0.79005761 0.81530864 0.82584362\n",
      " 0.83822222 0.84079012 0.80388477 0.81504527 0.80049383 0.82847737\n",
      " 0.84220576 0.85244444 0.85731687 0.87331687 0.85843621 0.86406584\n",
      " 0.86301235 0.88862551 0.91611523 0.93231276 0.92503704 0.89619753\n",
      " 0.87802469 0.89254321 0.92533333 0.92691358 0.91147325 0.89112757\n",
      " 0.89573663 0.91706996 0.92375309 0.91130864 0.92082305 0.933893\n",
      " 0.93603292 0.97033745 0.97362963 0.99101235 1.         0.98916872\n",
      " 0.97777778 0.97145679 0.94235391 0.95588477 0.93899588 0.93366255\n",
      " 0.9326749  0.90139918 0.85968724 0.88836214 0.88832922 0.8999177\n",
      " 0.92526749 0.92533333 0.9251358  0.93800823 0.9607572  0.9458107\n",
      " 0.94307819 0.92892181 0.92171193 0.89297119 0.93517695 0.96395062\n",
      " 0.94906996 0.94386831 0.94041152 0.91226337 0.87907819 0.91213169\n",
      " 0.94090535 0.93830453 0.94271605 0.94021744 0.94276619 0.94551063\n",
      " 0.94870436 0.95200372 0.95524931 0.95844585 0.96163762 0.96485633\n",
      " 0.9681083  0.9713816  0.97465706 0.97791481 0.98113841 0.98431438\n",
      " 0.98743194 0.99048197 0.99345696 0.99635011]\n",
      "19 day output [[0.9991556]]\n",
      "20 day input [0.78781893 0.78992593 0.77642798 0.78801646 0.78633745 0.80144856\n",
      " 0.80036214 0.80375309 0.79005761 0.81530864 0.82584362 0.83822222\n",
      " 0.84079012 0.80388477 0.81504527 0.80049383 0.82847737 0.84220576\n",
      " 0.85244444 0.85731687 0.87331687 0.85843621 0.86406584 0.86301235\n",
      " 0.88862551 0.91611523 0.93231276 0.92503704 0.89619753 0.87802469\n",
      " 0.89254321 0.92533333 0.92691358 0.91147325 0.89112757 0.89573663\n",
      " 0.91706996 0.92375309 0.91130864 0.92082305 0.933893   0.93603292\n",
      " 0.97033745 0.97362963 0.99101235 1.         0.98916872 0.97777778\n",
      " 0.97145679 0.94235391 0.95588477 0.93899588 0.93366255 0.9326749\n",
      " 0.90139918 0.85968724 0.88836214 0.88832922 0.8999177  0.92526749\n",
      " 0.92533333 0.9251358  0.93800823 0.9607572  0.9458107  0.94307819\n",
      " 0.92892181 0.92171193 0.89297119 0.93517695 0.96395062 0.94906996\n",
      " 0.94386831 0.94041152 0.91226337 0.87907819 0.91213169 0.94090535\n",
      " 0.93830453 0.94271605 0.94021744 0.94276619 0.94551063 0.94870436\n",
      " 0.95200372 0.95524931 0.95844585 0.96163762 0.96485633 0.9681083\n",
      " 0.9713816  0.97465706 0.97791481 0.98113841 0.98431438 0.98743194\n",
      " 0.99048197 0.99345696 0.99635011 0.99915558]\n",
      "20 day output [[1.0018691]]\n",
      "21 day input [0.78992593 0.77642798 0.78801646 0.78633745 0.80144856 0.80036214\n",
      " 0.80375309 0.79005761 0.81530864 0.82584362 0.83822222 0.84079012\n",
      " 0.80388477 0.81504527 0.80049383 0.82847737 0.84220576 0.85244444\n",
      " 0.85731687 0.87331687 0.85843621 0.86406584 0.86301235 0.88862551\n",
      " 0.91611523 0.93231276 0.92503704 0.89619753 0.87802469 0.89254321\n",
      " 0.92533333 0.92691358 0.91147325 0.89112757 0.89573663 0.91706996\n",
      " 0.92375309 0.91130864 0.92082305 0.933893   0.93603292 0.97033745\n",
      " 0.97362963 0.99101235 1.         0.98916872 0.97777778 0.97145679\n",
      " 0.94235391 0.95588477 0.93899588 0.93366255 0.9326749  0.90139918\n",
      " 0.85968724 0.88836214 0.88832922 0.8999177  0.92526749 0.92533333\n",
      " 0.9251358  0.93800823 0.9607572  0.9458107  0.94307819 0.92892181\n",
      " 0.92171193 0.89297119 0.93517695 0.96395062 0.94906996 0.94386831\n",
      " 0.94041152 0.91226337 0.87907819 0.91213169 0.94090535 0.93830453\n",
      " 0.94271605 0.94021744 0.94276619 0.94551063 0.94870436 0.95200372\n",
      " 0.95524931 0.95844585 0.96163762 0.96485633 0.9681083  0.9713816\n",
      " 0.97465706 0.97791481 0.98113841 0.98431438 0.98743194 0.99048197\n",
      " 0.99345696 0.99635011 0.99915558 1.00186908]\n",
      "21 day output [[1.0044861]]\n",
      "22 day input [0.77642798 0.78801646 0.78633745 0.80144856 0.80036214 0.80375309\n",
      " 0.79005761 0.81530864 0.82584362 0.83822222 0.84079012 0.80388477\n",
      " 0.81504527 0.80049383 0.82847737 0.84220576 0.85244444 0.85731687\n",
      " 0.87331687 0.85843621 0.86406584 0.86301235 0.88862551 0.91611523\n",
      " 0.93231276 0.92503704 0.89619753 0.87802469 0.89254321 0.92533333\n",
      " 0.92691358 0.91147325 0.89112757 0.89573663 0.91706996 0.92375309\n",
      " 0.91130864 0.92082305 0.933893   0.93603292 0.97033745 0.97362963\n",
      " 0.99101235 1.         0.98916872 0.97777778 0.97145679 0.94235391\n",
      " 0.95588477 0.93899588 0.93366255 0.9326749  0.90139918 0.85968724\n",
      " 0.88836214 0.88832922 0.8999177  0.92526749 0.92533333 0.9251358\n",
      " 0.93800823 0.9607572  0.9458107  0.94307819 0.92892181 0.92171193\n",
      " 0.89297119 0.93517695 0.96395062 0.94906996 0.94386831 0.94041152\n",
      " 0.91226337 0.87907819 0.91213169 0.94090535 0.93830453 0.94271605\n",
      " 0.94021744 0.94276619 0.94551063 0.94870436 0.95200372 0.95524931\n",
      " 0.95844585 0.96163762 0.96485633 0.9681083  0.9713816  0.97465706\n",
      " 0.97791481 0.98113841 0.98431438 0.98743194 0.99048197 0.99345696\n",
      " 0.99635011 0.99915558 1.00186908 1.00448608]\n",
      "22 day output [[1.0070045]]\n",
      "23 day input [0.78801646 0.78633745 0.80144856 0.80036214 0.80375309 0.79005761\n",
      " 0.81530864 0.82584362 0.83822222 0.84079012 0.80388477 0.81504527\n",
      " 0.80049383 0.82847737 0.84220576 0.85244444 0.85731687 0.87331687\n",
      " 0.85843621 0.86406584 0.86301235 0.88862551 0.91611523 0.93231276\n",
      " 0.92503704 0.89619753 0.87802469 0.89254321 0.92533333 0.92691358\n",
      " 0.91147325 0.89112757 0.89573663 0.91706996 0.92375309 0.91130864\n",
      " 0.92082305 0.933893   0.93603292 0.97033745 0.97362963 0.99101235\n",
      " 1.         0.98916872 0.97777778 0.97145679 0.94235391 0.95588477\n",
      " 0.93899588 0.93366255 0.9326749  0.90139918 0.85968724 0.88836214\n",
      " 0.88832922 0.8999177  0.92526749 0.92533333 0.9251358  0.93800823\n",
      " 0.9607572  0.9458107  0.94307819 0.92892181 0.92171193 0.89297119\n",
      " 0.93517695 0.96395062 0.94906996 0.94386831 0.94041152 0.91226337\n",
      " 0.87907819 0.91213169 0.94090535 0.93830453 0.94271605 0.94021744\n",
      " 0.94276619 0.94551063 0.94870436 0.95200372 0.95524931 0.95844585\n",
      " 0.96163762 0.96485633 0.9681083  0.9713816  0.97465706 0.97791481\n",
      " 0.98113841 0.98431438 0.98743194 0.99048197 0.99345696 0.99635011\n",
      " 0.99915558 1.00186908 1.00448608 1.0070045 ]\n",
      "23 day output [[1.0094225]]\n",
      "24 day input [0.78633745 0.80144856 0.80036214 0.80375309 0.79005761 0.81530864\n",
      " 0.82584362 0.83822222 0.84079012 0.80388477 0.81504527 0.80049383\n",
      " 0.82847737 0.84220576 0.85244444 0.85731687 0.87331687 0.85843621\n",
      " 0.86406584 0.86301235 0.88862551 0.91611523 0.93231276 0.92503704\n",
      " 0.89619753 0.87802469 0.89254321 0.92533333 0.92691358 0.91147325\n",
      " 0.89112757 0.89573663 0.91706996 0.92375309 0.91130864 0.92082305\n",
      " 0.933893   0.93603292 0.97033745 0.97362963 0.99101235 1.\n",
      " 0.98916872 0.97777778 0.97145679 0.94235391 0.95588477 0.93899588\n",
      " 0.93366255 0.9326749  0.90139918 0.85968724 0.88836214 0.88832922\n",
      " 0.8999177  0.92526749 0.92533333 0.9251358  0.93800823 0.9607572\n",
      " 0.9458107  0.94307819 0.92892181 0.92171193 0.89297119 0.93517695\n",
      " 0.96395062 0.94906996 0.94386831 0.94041152 0.91226337 0.87907819\n",
      " 0.91213169 0.94090535 0.93830453 0.94271605 0.94021744 0.94276619\n",
      " 0.94551063 0.94870436 0.95200372 0.95524931 0.95844585 0.96163762\n",
      " 0.96485633 0.9681083  0.9713816  0.97465706 0.97791481 0.98113841\n",
      " 0.98431438 0.98743194 0.99048197 0.99345696 0.99635011 0.99915558\n",
      " 1.00186908 1.00448608 1.0070045  1.00942254]\n"
     ]
    },
    {
     "output_type": "stream",
     "name": "stdout",
     "text": [
      "24 day output [[1.0117384]]\n",
      "25 day input [0.80144856 0.80036214 0.80375309 0.79005761 0.81530864 0.82584362\n",
      " 0.83822222 0.84079012 0.80388477 0.81504527 0.80049383 0.82847737\n",
      " 0.84220576 0.85244444 0.85731687 0.87331687 0.85843621 0.86406584\n",
      " 0.86301235 0.88862551 0.91611523 0.93231276 0.92503704 0.89619753\n",
      " 0.87802469 0.89254321 0.92533333 0.92691358 0.91147325 0.89112757\n",
      " 0.89573663 0.91706996 0.92375309 0.91130864 0.92082305 0.933893\n",
      " 0.93603292 0.97033745 0.97362963 0.99101235 1.         0.98916872\n",
      " 0.97777778 0.97145679 0.94235391 0.95588477 0.93899588 0.93366255\n",
      " 0.9326749  0.90139918 0.85968724 0.88836214 0.88832922 0.8999177\n",
      " 0.92526749 0.92533333 0.9251358  0.93800823 0.9607572  0.9458107\n",
      " 0.94307819 0.92892181 0.92171193 0.89297119 0.93517695 0.96395062\n",
      " 0.94906996 0.94386831 0.94041152 0.91226337 0.87907819 0.91213169\n",
      " 0.94090535 0.93830453 0.94271605 0.94021744 0.94276619 0.94551063\n",
      " 0.94870436 0.95200372 0.95524931 0.95844585 0.96163762 0.96485633\n",
      " 0.9681083  0.9713816  0.97465706 0.97791481 0.98113841 0.98431438\n",
      " 0.98743194 0.99048197 0.99345696 0.99635011 0.99915558 1.00186908\n",
      " 1.00448608 1.0070045  1.00942254 1.01173842]\n",
      "25 day output [[1.0139515]]\n",
      "26 day input [0.80036214 0.80375309 0.79005761 0.81530864 0.82584362 0.83822222\n",
      " 0.84079012 0.80388477 0.81504527 0.80049383 0.82847737 0.84220576\n",
      " 0.85244444 0.85731687 0.87331687 0.85843621 0.86406584 0.86301235\n",
      " 0.88862551 0.91611523 0.93231276 0.92503704 0.89619753 0.87802469\n",
      " 0.89254321 0.92533333 0.92691358 0.91147325 0.89112757 0.89573663\n",
      " 0.91706996 0.92375309 0.91130864 0.92082305 0.933893   0.93603292\n",
      " 0.97033745 0.97362963 0.99101235 1.         0.98916872 0.97777778\n",
      " 0.97145679 0.94235391 0.95588477 0.93899588 0.93366255 0.9326749\n",
      " 0.90139918 0.85968724 0.88836214 0.88832922 0.8999177  0.92526749\n",
      " 0.92533333 0.9251358  0.93800823 0.9607572  0.9458107  0.94307819\n",
      " 0.92892181 0.92171193 0.89297119 0.93517695 0.96395062 0.94906996\n",
      " 0.94386831 0.94041152 0.91226337 0.87907819 0.91213169 0.94090535\n",
      " 0.93830453 0.94271605 0.94021744 0.94276619 0.94551063 0.94870436\n",
      " 0.95200372 0.95524931 0.95844585 0.96163762 0.96485633 0.9681083\n",
      " 0.9713816  0.97465706 0.97791481 0.98113841 0.98431438 0.98743194\n",
      " 0.99048197 0.99345696 0.99635011 0.99915558 1.00186908 1.00448608\n",
      " 1.0070045  1.00942254 1.01173842 1.01395154]\n",
      "26 day output [[1.0160623]]\n",
      "27 day input [0.80375309 0.79005761 0.81530864 0.82584362 0.83822222 0.84079012\n",
      " 0.80388477 0.81504527 0.80049383 0.82847737 0.84220576 0.85244444\n",
      " 0.85731687 0.87331687 0.85843621 0.86406584 0.86301235 0.88862551\n",
      " 0.91611523 0.93231276 0.92503704 0.89619753 0.87802469 0.89254321\n",
      " 0.92533333 0.92691358 0.91147325 0.89112757 0.89573663 0.91706996\n",
      " 0.92375309 0.91130864 0.92082305 0.933893   0.93603292 0.97033745\n",
      " 0.97362963 0.99101235 1.         0.98916872 0.97777778 0.97145679\n",
      " 0.94235391 0.95588477 0.93899588 0.93366255 0.9326749  0.90139918\n",
      " 0.85968724 0.88836214 0.88832922 0.8999177  0.92526749 0.92533333\n",
      " 0.9251358  0.93800823 0.9607572  0.9458107  0.94307819 0.92892181\n",
      " 0.92171193 0.89297119 0.93517695 0.96395062 0.94906996 0.94386831\n",
      " 0.94041152 0.91226337 0.87907819 0.91213169 0.94090535 0.93830453\n",
      " 0.94271605 0.94021744 0.94276619 0.94551063 0.94870436 0.95200372\n",
      " 0.95524931 0.95844585 0.96163762 0.96485633 0.9681083  0.9713816\n",
      " 0.97465706 0.97791481 0.98113841 0.98431438 0.98743194 0.99048197\n",
      " 0.99345696 0.99635011 0.99915558 1.00186908 1.00448608 1.0070045\n",
      " 1.00942254 1.01173842 1.01395154 1.01606226]\n",
      "27 day output [[1.0180702]]\n",
      "28 day input [0.79005761 0.81530864 0.82584362 0.83822222 0.84079012 0.80388477\n",
      " 0.81504527 0.80049383 0.82847737 0.84220576 0.85244444 0.85731687\n",
      " 0.87331687 0.85843621 0.86406584 0.86301235 0.88862551 0.91611523\n",
      " 0.93231276 0.92503704 0.89619753 0.87802469 0.89254321 0.92533333\n",
      " 0.92691358 0.91147325 0.89112757 0.89573663 0.91706996 0.92375309\n",
      " 0.91130864 0.92082305 0.933893   0.93603292 0.97033745 0.97362963\n",
      " 0.99101235 1.         0.98916872 0.97777778 0.97145679 0.94235391\n",
      " 0.95588477 0.93899588 0.93366255 0.9326749  0.90139918 0.85968724\n",
      " 0.88836214 0.88832922 0.8999177  0.92526749 0.92533333 0.9251358\n",
      " 0.93800823 0.9607572  0.9458107  0.94307819 0.92892181 0.92171193\n",
      " 0.89297119 0.93517695 0.96395062 0.94906996 0.94386831 0.94041152\n",
      " 0.91226337 0.87907819 0.91213169 0.94090535 0.93830453 0.94271605\n",
      " 0.94021744 0.94276619 0.94551063 0.94870436 0.95200372 0.95524931\n",
      " 0.95844585 0.96163762 0.96485633 0.9681083  0.9713816  0.97465706\n",
      " 0.97791481 0.98113841 0.98431438 0.98743194 0.99048197 0.99345696\n",
      " 0.99635011 0.99915558 1.00186908 1.00448608 1.0070045  1.00942254\n",
      " 1.01173842 1.01395154 1.01606226 1.01807022]\n",
      "28 day output [[1.0199766]]\n",
      "29 day input [0.81530864 0.82584362 0.83822222 0.84079012 0.80388477 0.81504527\n",
      " 0.80049383 0.82847737 0.84220576 0.85244444 0.85731687 0.87331687\n",
      " 0.85843621 0.86406584 0.86301235 0.88862551 0.91611523 0.93231276\n",
      " 0.92503704 0.89619753 0.87802469 0.89254321 0.92533333 0.92691358\n",
      " 0.91147325 0.89112757 0.89573663 0.91706996 0.92375309 0.91130864\n",
      " 0.92082305 0.933893   0.93603292 0.97033745 0.97362963 0.99101235\n",
      " 1.         0.98916872 0.97777778 0.97145679 0.94235391 0.95588477\n",
      " 0.93899588 0.93366255 0.9326749  0.90139918 0.85968724 0.88836214\n",
      " 0.88832922 0.8999177  0.92526749 0.92533333 0.9251358  0.93800823\n",
      " 0.9607572  0.9458107  0.94307819 0.92892181 0.92171193 0.89297119\n",
      " 0.93517695 0.96395062 0.94906996 0.94386831 0.94041152 0.91226337\n",
      " 0.87907819 0.91213169 0.94090535 0.93830453 0.94271605 0.94021744\n",
      " 0.94276619 0.94551063 0.94870436 0.95200372 0.95524931 0.95844585\n",
      " 0.96163762 0.96485633 0.9681083  0.9713816  0.97465706 0.97791481\n",
      " 0.98113841 0.98431438 0.98743194 0.99048197 0.99345696 0.99635011\n",
      " 0.99915558 1.00186908 1.00448608 1.0070045  1.00942254 1.01173842\n",
      " 1.01395154 1.01606226 1.01807022 1.01997662]\n",
      "29 day output [[1.0217826]]\n",
      "[[0.9402174353599548], [0.9427661895751953], [0.9455106258392334], [0.9487043619155884], [0.9520037174224854], [0.9552493095397949], [0.9584458470344543], [0.9616376161575317], [0.9648563265800476], [0.9681082963943481], [0.9713816046714783], [0.9746570587158203], [0.9779148101806641], [0.9811384081840515], [0.9843143820762634], [0.9874319434165955], [0.990481972694397], [0.9934569597244263], [0.996350109577179], [0.999155580997467], [1.0018690824508667], [1.004486083984375], [1.0070044994354248], [1.0094225406646729], [1.0117384195327759], [1.0139515399932861], [1.0160622596740723], [1.0180702209472656], [1.0199766159057617], [1.021782636642456]]\n"
     ]
    }
   ],
   "metadata": {}
  },
  {
   "cell_type": "code",
   "execution_count": 252,
   "source": [
    "day_new=np.arange(1,101)\n",
    "day_pred=np.arange(101,131)"
   ],
   "outputs": [],
   "metadata": {}
  },
  {
   "cell_type": "code",
   "execution_count": 253,
   "source": [
    "import matplotlib.pyplot as plt"
   ],
   "outputs": [],
   "metadata": {}
  },
  {
   "cell_type": "code",
   "execution_count": 254,
   "source": [
    "len(gs_data1)"
   ],
   "outputs": [
    {
     "output_type": "execute_result",
     "data": {
      "text/plain": [
       "2909"
      ]
     },
     "metadata": {},
     "execution_count": 254
    }
   ],
   "metadata": {}
  },
  {
   "cell_type": "code",
   "execution_count": 256,
   "source": [
    "plt.plot(day_new,scaler.inverse_transform(gs_data1[2809:]))\n",
    "plt.plot(day_pred,scaler.inverse_transform(lst_output))"
   ],
   "outputs": [
    {
     "output_type": "execute_result",
     "data": {
      "text/plain": [
       "[<matplotlib.lines.Line2D at 0x7f9342c43ac0>]"
      ]
     },
     "metadata": {},
     "execution_count": 256
    },
    {
     "output_type": "display_data",
     "data": {
      "text/plain": [
       "<Figure size 432x288 with 1 Axes>"
      ],
      "image/png": "[encoded data removed]"
     },
     "metadata": {}
    }
   ],
   "metadata": {}
  },
  {
   "cell_type": "code",
   "execution_count": 259,
   "source": [
    "gs_data3=gs_data1.tolist()\n",
    "gs_data3.extend(lst_output)\n",
    "plt.plot(gs_data3[2700:])"
   ],
   "outputs": [
    {
     "output_type": "execute_result",
     "data": {
      "text/plain": [
       "[<matplotlib.lines.Line2D at 0x7f9342a8dc10>]"
      ]
     },
     "metadata": {},
     "execution_count": 259
    },
    {
     "output_type": "display_data",
     "data": {
      "text/plain": [
       "<Figure size 432x288 with 1 Axes>"
      ],
      "image/png": "[encoded data removed]"
     },
     "metadata": {}
    }
   ],
   "metadata": {}
  },
  {
   "cell_type": "code",
   "execution_count": 260,
   "source": [
    "gs_data3=scaler.inverse_transform(gs_data3).tolist()"
   ],
   "outputs": [],
   "metadata": {}
  },
  {
   "cell_type": "code",
   "execution_count": 261,
   "source": [
    "plt.plot(gs_data3)"
   ],
   "outputs": [
    {
     "output_type": "execute_result",
     "data": {
      "text/plain": [
       "[<matplotlib.lines.Line2D at 0x7f9342a4c670>]"
      ]
     },
     "metadata": {},
     "execution_count": 261
    },
    {
     "output_type": "display_data",
     "data": {
      "text/plain": [
       "<Figure size 432x288 with 1 Axes>"
      ],
      "image/png": "[encoded data removed]"
     },
     "metadata": {}
    }
   ],
   "metadata": {}
  },
  {
   "cell_type": "markdown",
   "source": [
    "## Morgan Stanley"
   ],
   "metadata": {}
  },
  {
   "cell_type": "code",
   "execution_count": 268,
   "source": [
    "ms_data = pdr.get_data_tiingo('MS', start='JAN-01-2010',api_key=key)"
   ],
   "outputs": [
    {
     "output_type": "stream",
     "name": "stderr",
     "text": [
      "/home/swattik/.local/lib/python3.9/site-packages/pandas_datareader/tiingo.py:234: FutureWarning: In a future version of pandas all arguments of concat except for the argument 'objs' will be keyword-only\n",
      "  return pd.concat(dfs, self._concat_axis)\n"
     ]
    }
   ],
   "metadata": {}
  },
  {
   "cell_type": "code",
   "execution_count": 269,
   "source": [
    "ms_data.to_csv('MS.csv')"
   ],
   "outputs": [],
   "metadata": {}
  },
  {
   "cell_type": "code",
   "execution_count": 193,
   "source": [
    "ms=pd.read_csv('MS.csv')\n",
    "ms.head()"
   ],
   "outputs": [
    {
     "output_type": "execute_result",
     "data": {
      "text/plain": [
       "  symbol                       date  close    high    low   open    volume  \\\n",
       "0     MS  2010-01-04 00:00:00+00:00  30.91  31.968  30.63  30.70  20371000   \n",
       "1     MS  2010-01-05 00:00:00+00:00  32.04  32.130  30.93  31.01  22523400   \n",
       "2     MS  2010-01-06 00:00:00+00:00  32.45  32.590  31.79  31.97  17028500   \n",
       "3     MS  2010-01-07 00:00:00+00:00  32.92  33.270  32.27  32.46  18693000   \n",
       "4     MS  2010-01-08 00:00:00+00:00  32.25  32.820  31.98  32.60  15993400   \n",
       "\n",
       "    adjClose    adjHigh     adjLow    adjOpen  adjVolume  divCash  splitFactor  \n",
       "0  25.518330  26.391782  25.287171  25.344961   20371000      0.0          1.0  \n",
       "1  26.451223  26.525524  25.534842  25.600887   22523400      0.0          1.0  \n",
       "2  26.789706  26.905286  26.244831  26.393433   17028500      0.0          1.0  \n",
       "3  27.177724  27.466673  26.641104  26.797962   18693000      0.0          1.0  \n",
       "4  26.624593  27.095167  26.401689  26.913542   15993400      0.0          1.0  "
      ],
      "text/html": [
       "<div>\n",
       "<style scoped>\n",
       "    .dataframe tbody tr th:only-of-type {\n",
       "        vertical-align: middle;\n",
       "    }\n",
       "\n",
       "    .dataframe tbody tr th {\n",
       "        vertical-align: top;\n",
       "    }\n",
       "\n",
       "    .dataframe thead th {\n",
       "        text-align: right;\n",
       "    }\n",
       "</style>\n",
       "<table border=\"1\" class=\"dataframe\">\n",
       "  <thead>\n",
       "    <tr style=\"text-align: right;\">\n",
       "      <th></th>\n",
       "      <th>symbol</th>\n",
       "      <th>date</th>\n",
       "      <th>close</th>\n",
       "      <th>high</th>\n",
       "      <th>low</th>\n",
       "      <th>open</th>\n",
       "      <th>volume</th>\n",
       "      <th>adjClose</th>\n",
       "      <th>adjHigh</th>\n",
       "      <th>adjLow</th>\n",
       "      <th>adjOpen</th>\n",
       "      <th>adjVolume</th>\n",
       "      <th>divCash</th>\n",
       "      <th>splitFactor</th>\n",
       "    </tr>\n",
       "  </thead>\n",
       "  <tbody>\n",
       "    <tr>\n",
       "      <th>0</th>\n",
       "      <td>MS</td>\n",
       "      <td>2010-01-04 00:00:00+00:00</td>\n",
       "      <td>30.91</td>\n",
       "      <td>31.968</td>\n",
       "      <td>30.63</td>\n",
       "      <td>30.70</td>\n",
       "      <td>20371000</td>\n",
       "      <td>25.518330</td>\n",
       "      <td>26.391782</td>\n",
       "      <td>25.287171</td>\n",
       "      <td>25.344961</td>\n",
       "      <td>20371000</td>\n",
       "      <td>0.0</td>\n",
       "      <td>1.0</td>\n",
       "    </tr>\n",
       "    <tr>\n",
       "      <th>1</th>\n",
       "      <td>MS</td>\n",
       "      <td>2010-01-05 00:00:00+00:00</td>\n",
       "      <td>32.04</td>\n",
       "      <td>32.130</td>\n",
       "      <td>30.93</td>\n",
       "      <td>31.01</td>\n",
       "      <td>22523400</td>\n",
       "      <td>26.451223</td>\n",
       "      <td>26.525524</td>\n",
       "      <td>25.534842</td>\n",
       "      <td>25.600887</td>\n",
       "      <td>22523400</td>\n",
       "      <td>0.0</td>\n",
       "      <td>1.0</td>\n",
       "    </tr>\n",
       "    <tr>\n",
       "      <th>2</th>\n",
       "      <td>MS</td>\n",
       "      <td>2010-01-06 00:00:00+00:00</td>\n",
       "      <td>32.45</td>\n",
       "      <td>32.590</td>\n",
       "      <td>31.79</td>\n",
       "      <td>31.97</td>\n",
       "      <td>17028500</td>\n",
       "      <td>26.789706</td>\n",
       "      <td>26.905286</td>\n",
       "      <td>26.244831</td>\n",
       "      <td>26.393433</td>\n",
       "      <td>17028500</td>\n",
       "      <td>0.0</td>\n",
       "      <td>1.0</td>\n",
       "    </tr>\n",
       "    <tr>\n",
       "      <th>3</th>\n",
       "      <td>MS</td>\n",
       "      <td>2010-01-07 00:00:00+00:00</td>\n",
       "      <td>32.92</td>\n",
       "      <td>33.270</td>\n",
       "      <td>32.27</td>\n",
       "      <td>32.46</td>\n",
       "      <td>18693000</td>\n",
       "      <td>27.177724</td>\n",
       "      <td>27.466673</td>\n",
       "      <td>26.641104</td>\n",
       "      <td>26.797962</td>\n",
       "      <td>18693000</td>\n",
       "      <td>0.0</td>\n",
       "      <td>1.0</td>\n",
       "    </tr>\n",
       "    <tr>\n",
       "      <th>4</th>\n",
       "      <td>MS</td>\n",
       "      <td>2010-01-08 00:00:00+00:00</td>\n",
       "      <td>32.25</td>\n",
       "      <td>32.820</td>\n",
       "      <td>31.98</td>\n",
       "      <td>32.60</td>\n",
       "      <td>15993400</td>\n",
       "      <td>26.624593</td>\n",
       "      <td>27.095167</td>\n",
       "      <td>26.401689</td>\n",
       "      <td>26.913542</td>\n",
       "      <td>15993400</td>\n",
       "      <td>0.0</td>\n",
       "      <td>1.0</td>\n",
       "    </tr>\n",
       "  </tbody>\n",
       "</table>\n",
       "</div>"
      ]
     },
     "metadata": {},
     "execution_count": 193
    }
   ],
   "metadata": {
    "scrolled": false
   }
  },
  {
   "cell_type": "code",
   "execution_count": 194,
   "source": [
    "ms.tail()"
   ],
   "outputs": [
    {
     "output_type": "execute_result",
     "data": {
      "text/plain": [
       "     symbol                       date  close   high    low   open    volume  \\\n",
       "2904     MS  2021-07-19 00:00:00+00:00  89.35  89.69  87.58  89.51  14042974   \n",
       "2905     MS  2021-07-20 00:00:00+00:00  92.32  93.60  89.00  89.14  11522283   \n",
       "2906     MS  2021-07-21 00:00:00+00:00  95.68  96.05  93.18  93.24  14116881   \n",
       "2907     MS  2021-07-22 00:00:00+00:00  95.57  96.23  94.84  95.42   9235275   \n",
       "2908     MS  2021-07-23 00:00:00+00:00  94.55  97.17  94.19  96.28  13222822   \n",
       "\n",
       "      adjClose  adjHigh  adjLow  adjOpen  adjVolume  divCash  splitFactor  \n",
       "2904     89.35    89.69   87.58    89.51   14042974      0.0          1.0  \n",
       "2905     92.32    93.60   89.00    89.14   11522283      0.0          1.0  \n",
       "2906     95.68    96.05   93.18    93.24   14116881      0.0          1.0  \n",
       "2907     95.57    96.23   94.84    95.42    9235275      0.0          1.0  \n",
       "2908     94.55    97.17   94.19    96.28   13222822      0.0          1.0  "
      ],
      "text/html": [
       "<div>\n",
       "<style scoped>\n",
       "    .dataframe tbody tr th:only-of-type {\n",
       "        vertical-align: middle;\n",
       "    }\n",
       "\n",
       "    .dataframe tbody tr th {\n",
       "        vertical-align: top;\n",
       "    }\n",
       "\n",
       "    .dataframe thead th {\n",
       "        text-align: right;\n",
       "    }\n",
       "</style>\n",
       "<table border=\"1\" class=\"dataframe\">\n",
       "  <thead>\n",
       "    <tr style=\"text-align: right;\">\n",
       "      <th></th>\n",
       "      <th>symbol</th>\n",
       "      <th>date</th>\n",
       "      <th>close</th>\n",
       "      <th>high</th>\n",
       "      <th>low</th>\n",
       "      <th>open</th>\n",
       "      <th>volume</th>\n",
       "      <th>adjClose</th>\n",
       "      <th>adjHigh</th>\n",
       "      <th>adjLow</th>\n",
       "      <th>adjOpen</th>\n",
       "      <th>adjVolume</th>\n",
       "      <th>divCash</th>\n",
       "      <th>splitFactor</th>\n",
       "    </tr>\n",
       "  </thead>\n",
       "  <tbody>\n",
       "    <tr>\n",
       "      <th>2904</th>\n",
       "      <td>MS</td>\n",
       "      <td>2021-07-19 00:00:00+00:00</td>\n",
       "      <td>89.35</td>\n",
       "      <td>89.69</td>\n",
       "      <td>87.58</td>\n",
       "      <td>89.51</td>\n",
       "      <td>14042974</td>\n",
       "      <td>89.35</td>\n",
       "      <td>89.69</td>\n",
       "      <td>87.58</td>\n",
       "      <td>89.51</td>\n",
       "      <td>14042974</td>\n",
       "      <td>0.0</td>\n",
       "      <td>1.0</td>\n",
       "    </tr>\n",
       "    <tr>\n",
       "      <th>2905</th>\n",
       "      <td>MS</td>\n",
       "      <td>2021-07-20 00:00:00+00:00</td>\n",
       "      <td>92.32</td>\n",
       "      <td>93.60</td>\n",
       "      <td>89.00</td>\n",
       "      <td>89.14</td>\n",
       "      <td>11522283</td>\n",
       "      <td>92.32</td>\n",
       "      <td>93.60</td>\n",
       "      <td>89.00</td>\n",
       "      <td>89.14</td>\n",
       "      <td>11522283</td>\n",
       "      <td>0.0</td>\n",
       "      <td>1.0</td>\n",
       "    </tr>\n",
       "    <tr>\n",
       "      <th>2906</th>\n",
       "      <td>MS</td>\n",
       "      <td>2021-07-21 00:00:00+00:00</td>\n",
       "      <td>95.68</td>\n",
       "      <td>96.05</td>\n",
       "      <td>93.18</td>\n",
       "      <td>93.24</td>\n",
       "      <td>14116881</td>\n",
       "      <td>95.68</td>\n",
       "      <td>96.05</td>\n",
       "      <td>93.18</td>\n",
       "      <td>93.24</td>\n",
       "      <td>14116881</td>\n",
       "      <td>0.0</td>\n",
       "      <td>1.0</td>\n",
       "    </tr>\n",
       "    <tr>\n",
       "      <th>2907</th>\n",
       "      <td>MS</td>\n",
       "      <td>2021-07-22 00:00:00+00:00</td>\n",
       "      <td>95.57</td>\n",
       "      <td>96.23</td>\n",
       "      <td>94.84</td>\n",
       "      <td>95.42</td>\n",
       "      <td>9235275</td>\n",
       "      <td>95.57</td>\n",
       "      <td>96.23</td>\n",
       "      <td>94.84</td>\n",
       "      <td>95.42</td>\n",
       "      <td>9235275</td>\n",
       "      <td>0.0</td>\n",
       "      <td>1.0</td>\n",
       "    </tr>\n",
       "    <tr>\n",
       "      <th>2908</th>\n",
       "      <td>MS</td>\n",
       "      <td>2021-07-23 00:00:00+00:00</td>\n",
       "      <td>94.55</td>\n",
       "      <td>97.17</td>\n",
       "      <td>94.19</td>\n",
       "      <td>96.28</td>\n",
       "      <td>13222822</td>\n",
       "      <td>94.55</td>\n",
       "      <td>97.17</td>\n",
       "      <td>94.19</td>\n",
       "      <td>96.28</td>\n",
       "      <td>13222822</td>\n",
       "      <td>0.0</td>\n",
       "      <td>1.0</td>\n",
       "    </tr>\n",
       "  </tbody>\n",
       "</table>\n",
       "</div>"
      ]
     },
     "metadata": {},
     "execution_count": 194
    }
   ],
   "metadata": {
    "scrolled": true
   }
  },
  {
   "cell_type": "code",
   "execution_count": 195,
   "source": [
    "print('Total Days = ',gs_data.shape)"
   ],
   "outputs": [
    {
     "output_type": "stream",
     "name": "stdout",
     "text": [
      "Total Days =  (2909, 15)\n"
     ]
    }
   ],
   "metadata": {}
  },
  {
   "cell_type": "code",
   "execution_count": 196,
   "source": [
    "plt.figure(figsize=(15,6))\n",
    "sns.set()\n",
    "plt.title(\"Morgan Stanley's Stock Price\")\n",
    "\n",
    "plt.ylabel('Close Price-USD')\n",
    "plt.plot(ms[\"close\"])"
   ],
   "outputs": [
    {
     "output_type": "execute_result",
     "data": {
      "text/plain": [
       "[<matplotlib.lines.Line2D at 0x7f611329d6a0>]"
      ]
     },
     "metadata": {},
     "execution_count": 196
    },
    {
     "output_type": "display_data",
     "data": {
      "text/plain": [
       "<Figure size 1080x432 with 1 Axes>"
      ],
      "image/png": "[encoded data removed]"
     },
     "metadata": {}
    }
   ],
   "metadata": {}
  },
  {
   "cell_type": "code",
   "execution_count": 197,
   "source": [
    "ms[['divCash','splitFactor']]"
   ],
   "outputs": [
    {
     "output_type": "execute_result",
     "data": {
      "text/plain": [
       "      divCash  splitFactor\n",
       "0         0.0          1.0\n",
       "1         0.0          1.0\n",
       "2         0.0          1.0\n",
       "3         0.0          1.0\n",
       "4         0.0          1.0\n",
       "...       ...          ...\n",
       "2904      0.0          1.0\n",
       "2905      0.0          1.0\n",
       "2906      0.0          1.0\n",
       "2907      0.0          1.0\n",
       "2908      0.0          1.0\n",
       "\n",
       "[2909 rows x 2 columns]"
      ],
      "text/html": [
       "<div>\n",
       "<style scoped>\n",
       "    .dataframe tbody tr th:only-of-type {\n",
       "        vertical-align: middle;\n",
       "    }\n",
       "\n",
       "    .dataframe tbody tr th {\n",
       "        vertical-align: top;\n",
       "    }\n",
       "\n",
       "    .dataframe thead th {\n",
       "        text-align: right;\n",
       "    }\n",
       "</style>\n",
       "<table border=\"1\" class=\"dataframe\">\n",
       "  <thead>\n",
       "    <tr style=\"text-align: right;\">\n",
       "      <th></th>\n",
       "      <th>divCash</th>\n",
       "      <th>splitFactor</th>\n",
       "    </tr>\n",
       "  </thead>\n",
       "  <tbody>\n",
       "    <tr>\n",
       "      <th>0</th>\n",
       "      <td>0.0</td>\n",
       "      <td>1.0</td>\n",
       "    </tr>\n",
       "    <tr>\n",
       "      <th>1</th>\n",
       "      <td>0.0</td>\n",
       "      <td>1.0</td>\n",
       "    </tr>\n",
       "    <tr>\n",
       "      <th>2</th>\n",
       "      <td>0.0</td>\n",
       "      <td>1.0</td>\n",
       "    </tr>\n",
       "    <tr>\n",
       "      <th>3</th>\n",
       "      <td>0.0</td>\n",
       "      <td>1.0</td>\n",
       "    </tr>\n",
       "    <tr>\n",
       "      <th>4</th>\n",
       "      <td>0.0</td>\n",
       "      <td>1.0</td>\n",
       "    </tr>\n",
       "    <tr>\n",
       "      <th>...</th>\n",
       "      <td>...</td>\n",
       "      <td>...</td>\n",
       "    </tr>\n",
       "    <tr>\n",
       "      <th>2904</th>\n",
       "      <td>0.0</td>\n",
       "      <td>1.0</td>\n",
       "    </tr>\n",
       "    <tr>\n",
       "      <th>2905</th>\n",
       "      <td>0.0</td>\n",
       "      <td>1.0</td>\n",
       "    </tr>\n",
       "    <tr>\n",
       "      <th>2906</th>\n",
       "      <td>0.0</td>\n",
       "      <td>1.0</td>\n",
       "    </tr>\n",
       "    <tr>\n",
       "      <th>2907</th>\n",
       "      <td>0.0</td>\n",
       "      <td>1.0</td>\n",
       "    </tr>\n",
       "    <tr>\n",
       "      <th>2908</th>\n",
       "      <td>0.0</td>\n",
       "      <td>1.0</td>\n",
       "    </tr>\n",
       "  </tbody>\n",
       "</table>\n",
       "<p>2909 rows × 2 columns</p>\n",
       "</div>"
      ]
     },
     "metadata": {},
     "execution_count": 197
    }
   ],
   "metadata": {}
  },
  {
   "cell_type": "markdown",
   "source": [
    "What will be the percentage change/ return of closing stock prices one month into the future "
   ],
   "metadata": {}
  },
  {
   "cell_type": "code",
   "execution_count": 198,
   "source": [
    "ms['Return'] = ms['close'].pct_change(60).shift(-60)\n",
    "List_of_Features = ['open','high','low','close','volume','adjClose','adjHigh','adjLow','adjOpen','adjVolume']"
   ],
   "outputs": [],
   "metadata": {}
  },
  {
   "cell_type": "code",
   "execution_count": 199,
   "source": [
    "X = ms[List_of_Features]\n",
    "y = np.where(ms.Return > 0, 1, 0)"
   ],
   "outputs": [],
   "metadata": {}
  },
  {
   "cell_type": "code",
   "execution_count": 200,
   "source": [
    "X"
   ],
   "outputs": [
    {
     "output_type": "execute_result",
     "data": {
      "text/plain": [
       "       open    high    low  close    volume   adjClose    adjHigh     adjLow  \\\n",
       "0     30.70  31.968  30.63  30.91  20371000  25.518330  26.391782  25.287171   \n",
       "1     31.01  32.130  30.93  32.04  22523400  26.451223  26.525524  25.534842   \n",
       "2     31.97  32.590  31.79  32.45  17028500  26.789706  26.905286  26.244831   \n",
       "3     32.46  33.270  32.27  32.92  18693000  27.177724  27.466673  26.641104   \n",
       "4     32.60  32.820  31.98  32.25  15993400  26.624593  27.095167  26.401689   \n",
       "...     ...     ...    ...    ...       ...        ...        ...        ...   \n",
       "2904  89.51  89.690  87.58  89.35  14042974  89.350000  89.690000  87.580000   \n",
       "2905  89.14  93.600  89.00  92.32  11522283  92.320000  93.600000  89.000000   \n",
       "2906  93.24  96.050  93.18  95.68  14116881  95.680000  96.050000  93.180000   \n",
       "2907  95.42  96.230  94.84  95.57   9235275  95.570000  96.230000  94.840000   \n",
       "2908  96.28  97.170  94.19  94.55  13222822  94.550000  97.170000  94.190000   \n",
       "\n",
       "        adjOpen  adjVolume  \n",
       "0     25.344961   20371000  \n",
       "1     25.600887   22523400  \n",
       "2     26.393433   17028500  \n",
       "3     26.797962   18693000  \n",
       "4     26.913542   15993400  \n",
       "...         ...        ...  \n",
       "2904  89.510000   14042974  \n",
       "2905  89.140000   11522283  \n",
       "2906  93.240000   14116881  \n",
       "2907  95.420000    9235275  \n",
       "2908  96.280000   13222822  \n",
       "\n",
       "[2909 rows x 10 columns]"
      ],
      "text/html": [
       "<div>\n",
       "<style scoped>\n",
       "    .dataframe tbody tr th:only-of-type {\n",
       "        vertical-align: middle;\n",
       "    }\n",
       "\n",
       "    .dataframe tbody tr th {\n",
       "        vertical-align: top;\n",
       "    }\n",
       "\n",
       "    .dataframe thead th {\n",
       "        text-align: right;\n",
       "    }\n",
       "</style>\n",
       "<table border=\"1\" class=\"dataframe\">\n",
       "  <thead>\n",
       "    <tr style=\"text-align: right;\">\n",
       "      <th></th>\n",
       "      <th>open</th>\n",
       "      <th>high</th>\n",
       "      <th>low</th>\n",
       "      <th>close</th>\n",
       "      <th>volume</th>\n",
       "      <th>adjClose</th>\n",
       "      <th>adjHigh</th>\n",
       "      <th>adjLow</th>\n",
       "      <th>adjOpen</th>\n",
       "      <th>adjVolume</th>\n",
       "    </tr>\n",
       "  </thead>\n",
       "  <tbody>\n",
       "    <tr>\n",
       "      <th>0</th>\n",
       "      <td>30.70</td>\n",
       "      <td>31.968</td>\n",
       "      <td>30.63</td>\n",
       "      <td>30.91</td>\n",
       "      <td>20371000</td>\n",
       "      <td>25.518330</td>\n",
       "      <td>26.391782</td>\n",
       "      <td>25.287171</td>\n",
       "      <td>25.344961</td>\n",
       "      <td>20371000</td>\n",
       "    </tr>\n",
       "    <tr>\n",
       "      <th>1</th>\n",
       "      <td>31.01</td>\n",
       "      <td>32.130</td>\n",
       "      <td>30.93</td>\n",
       "      <td>32.04</td>\n",
       "      <td>22523400</td>\n",
       "      <td>26.451223</td>\n",
       "      <td>26.525524</td>\n",
       "      <td>25.534842</td>\n",
       "      <td>25.600887</td>\n",
       "      <td>22523400</td>\n",
       "    </tr>\n",
       "    <tr>\n",
       "      <th>2</th>\n",
       "      <td>31.97</td>\n",
       "      <td>32.590</td>\n",
       "      <td>31.79</td>\n",
       "      <td>32.45</td>\n",
       "      <td>17028500</td>\n",
       "      <td>26.789706</td>\n",
       "      <td>26.905286</td>\n",
       "      <td>26.244831</td>\n",
       "      <td>26.393433</td>\n",
       "      <td>17028500</td>\n",
       "    </tr>\n",
       "    <tr>\n",
       "      <th>3</th>\n",
       "      <td>32.46</td>\n",
       "      <td>33.270</td>\n",
       "      <td>32.27</td>\n",
       "      <td>32.92</td>\n",
       "      <td>18693000</td>\n",
       "      <td>27.177724</td>\n",
       "      <td>27.466673</td>\n",
       "      <td>26.641104</td>\n",
       "      <td>26.797962</td>\n",
       "      <td>18693000</td>\n",
       "    </tr>\n",
       "    <tr>\n",
       "      <th>4</th>\n",
       "      <td>32.60</td>\n",
       "      <td>32.820</td>\n",
       "      <td>31.98</td>\n",
       "      <td>32.25</td>\n",
       "      <td>15993400</td>\n",
       "      <td>26.624593</td>\n",
       "      <td>27.095167</td>\n",
       "      <td>26.401689</td>\n",
       "      <td>26.913542</td>\n",
       "      <td>15993400</td>\n",
       "    </tr>\n",
       "    <tr>\n",
       "      <th>...</th>\n",
       "      <td>...</td>\n",
       "      <td>...</td>\n",
       "      <td>...</td>\n",
       "      <td>...</td>\n",
       "      <td>...</td>\n",
       "      <td>...</td>\n",
       "      <td>...</td>\n",
       "      <td>...</td>\n",
       "      <td>...</td>\n",
       "      <td>...</td>\n",
       "    </tr>\n",
       "    <tr>\n",
       "      <th>2904</th>\n",
       "      <td>89.51</td>\n",
       "      <td>89.690</td>\n",
       "      <td>87.58</td>\n",
       "      <td>89.35</td>\n",
       "      <td>14042974</td>\n",
       "      <td>89.350000</td>\n",
       "      <td>89.690000</td>\n",
       "      <td>87.580000</td>\n",
       "      <td>89.510000</td>\n",
       "      <td>14042974</td>\n",
       "    </tr>\n",
       "    <tr>\n",
       "      <th>2905</th>\n",
       "      <td>89.14</td>\n",
       "      <td>93.600</td>\n",
       "      <td>89.00</td>\n",
       "      <td>92.32</td>\n",
       "      <td>11522283</td>\n",
       "      <td>92.320000</td>\n",
       "      <td>93.600000</td>\n",
       "      <td>89.000000</td>\n",
       "      <td>89.140000</td>\n",
       "      <td>11522283</td>\n",
       "    </tr>\n",
       "    <tr>\n",
       "      <th>2906</th>\n",
       "      <td>93.24</td>\n",
       "      <td>96.050</td>\n",
       "      <td>93.18</td>\n",
       "      <td>95.68</td>\n",
       "      <td>14116881</td>\n",
       "      <td>95.680000</td>\n",
       "      <td>96.050000</td>\n",
       "      <td>93.180000</td>\n",
       "      <td>93.240000</td>\n",
       "      <td>14116881</td>\n",
       "    </tr>\n",
       "    <tr>\n",
       "      <th>2907</th>\n",
       "      <td>95.42</td>\n",
       "      <td>96.230</td>\n",
       "      <td>94.84</td>\n",
       "      <td>95.57</td>\n",
       "      <td>9235275</td>\n",
       "      <td>95.570000</td>\n",
       "      <td>96.230000</td>\n",
       "      <td>94.840000</td>\n",
       "      <td>95.420000</td>\n",
       "      <td>9235275</td>\n",
       "    </tr>\n",
       "    <tr>\n",
       "      <th>2908</th>\n",
       "      <td>96.28</td>\n",
       "      <td>97.170</td>\n",
       "      <td>94.19</td>\n",
       "      <td>94.55</td>\n",
       "      <td>13222822</td>\n",
       "      <td>94.550000</td>\n",
       "      <td>97.170000</td>\n",
       "      <td>94.190000</td>\n",
       "      <td>96.280000</td>\n",
       "      <td>13222822</td>\n",
       "    </tr>\n",
       "  </tbody>\n",
       "</table>\n",
       "<p>2909 rows × 10 columns</p>\n",
       "</div>"
      ]
     },
     "metadata": {},
     "execution_count": 200
    }
   ],
   "metadata": {
    "scrolled": true
   }
  },
  {
   "cell_type": "code",
   "execution_count": 201,
   "source": [
    "y"
   ],
   "outputs": [
    {
     "output_type": "execute_result",
     "data": {
      "text/plain": [
       "array([0, 0, 0, ..., 0, 0, 0])"
      ]
     },
     "metadata": {},
     "execution_count": 201
    }
   ],
   "metadata": {}
  },
  {
   "cell_type": "code",
   "execution_count": 202,
   "source": [
    "ms"
   ],
   "outputs": [
    {
     "output_type": "execute_result",
     "data": {
      "text/plain": [
       "     symbol                       date  close    high    low   open    volume  \\\n",
       "0        MS  2010-01-04 00:00:00+00:00  30.91  31.968  30.63  30.70  20371000   \n",
       "1        MS  2010-01-05 00:00:00+00:00  32.04  32.130  30.93  31.01  22523400   \n",
       "2        MS  2010-01-06 00:00:00+00:00  32.45  32.590  31.79  31.97  17028500   \n",
       "3        MS  2010-01-07 00:00:00+00:00  32.92  33.270  32.27  32.46  18693000   \n",
       "4        MS  2010-01-08 00:00:00+00:00  32.25  32.820  31.98  32.60  15993400   \n",
       "...     ...                        ...    ...     ...    ...    ...       ...   \n",
       "2904     MS  2021-07-19 00:00:00+00:00  89.35  89.690  87.58  89.51  14042974   \n",
       "2905     MS  2021-07-20 00:00:00+00:00  92.32  93.600  89.00  89.14  11522283   \n",
       "2906     MS  2021-07-21 00:00:00+00:00  95.68  96.050  93.18  93.24  14116881   \n",
       "2907     MS  2021-07-22 00:00:00+00:00  95.57  96.230  94.84  95.42   9235275   \n",
       "2908     MS  2021-07-23 00:00:00+00:00  94.55  97.170  94.19  96.28  13222822   \n",
       "\n",
       "       adjClose    adjHigh     adjLow    adjOpen  adjVolume  divCash  \\\n",
       "0     25.518330  26.391782  25.287171  25.344961   20371000      0.0   \n",
       "1     26.451223  26.525524  25.534842  25.600887   22523400      0.0   \n",
       "2     26.789706  26.905286  26.244831  26.393433   17028500      0.0   \n",
       "3     27.177724  27.466673  26.641104  26.797962   18693000      0.0   \n",
       "4     26.624593  27.095167  26.401689  26.913542   15993400      0.0   \n",
       "...         ...        ...        ...        ...        ...      ...   \n",
       "2904  89.350000  89.690000  87.580000  89.510000   14042974      0.0   \n",
       "2905  92.320000  93.600000  89.000000  89.140000   11522283      0.0   \n",
       "2906  95.680000  96.050000  93.180000  93.240000   14116881      0.0   \n",
       "2907  95.570000  96.230000  94.840000  95.420000    9235275      0.0   \n",
       "2908  94.550000  97.170000  94.190000  96.280000   13222822      0.0   \n",
       "\n",
       "      splitFactor    Return  \n",
       "0             1.0 -0.052410  \n",
       "1             1.0 -0.088639  \n",
       "2             1.0 -0.097381  \n",
       "3             1.0 -0.108141  \n",
       "4             1.0 -0.069147  \n",
       "...           ...       ...  \n",
       "2904          1.0       NaN  \n",
       "2905          1.0       NaN  \n",
       "2906          1.0       NaN  \n",
       "2907          1.0       NaN  \n",
       "2908          1.0       NaN  \n",
       "\n",
       "[2909 rows x 15 columns]"
      ],
      "text/html": [
       "<div>\n",
       "<style scoped>\n",
       "    .dataframe tbody tr th:only-of-type {\n",
       "        vertical-align: middle;\n",
       "    }\n",
       "\n",
       "    .dataframe tbody tr th {\n",
       "        vertical-align: top;\n",
       "    }\n",
       "\n",
       "    .dataframe thead th {\n",
       "        text-align: right;\n",
       "    }\n",
       "</style>\n",
       "<table border=\"1\" class=\"dataframe\">\n",
       "  <thead>\n",
       "    <tr style=\"text-align: right;\">\n",
       "      <th></th>\n",
       "      <th>symbol</th>\n",
       "      <th>date</th>\n",
       "      <th>close</th>\n",
       "      <th>high</th>\n",
       "      <th>low</th>\n",
       "      <th>open</th>\n",
       "      <th>volume</th>\n",
       "      <th>adjClose</th>\n",
       "      <th>adjHigh</th>\n",
       "      <th>adjLow</th>\n",
       "      <th>adjOpen</th>\n",
       "      <th>adjVolume</th>\n",
       "      <th>divCash</th>\n",
       "      <th>splitFactor</th>\n",
       "      <th>Return</th>\n",
       "    </tr>\n",
       "  </thead>\n",
       "  <tbody>\n",
       "    <tr>\n",
       "      <th>0</th>\n",
       "      <td>MS</td>\n",
       "      <td>2010-01-04 00:00:00+00:00</td>\n",
       "      <td>30.91</td>\n",
       "      <td>31.968</td>\n",
       "      <td>30.63</td>\n",
       "      <td>30.70</td>\n",
       "      <td>20371000</td>\n",
       "      <td>25.518330</td>\n",
       "      <td>26.391782</td>\n",
       "      <td>25.287171</td>\n",
       "      <td>25.344961</td>\n",
       "      <td>20371000</td>\n",
       "      <td>0.0</td>\n",
       "      <td>1.0</td>\n",
       "      <td>-0.052410</td>\n",
       "    </tr>\n",
       "    <tr>\n",
       "      <th>1</th>\n",
       "      <td>MS</td>\n",
       "      <td>2010-01-05 00:00:00+00:00</td>\n",
       "      <td>32.04</td>\n",
       "      <td>32.130</td>\n",
       "      <td>30.93</td>\n",
       "      <td>31.01</td>\n",
       "      <td>22523400</td>\n",
       "      <td>26.451223</td>\n",
       "      <td>26.525524</td>\n",
       "      <td>25.534842</td>\n",
       "      <td>25.600887</td>\n",
       "      <td>22523400</td>\n",
       "      <td>0.0</td>\n",
       "      <td>1.0</td>\n",
       "      <td>-0.088639</td>\n",
       "    </tr>\n",
       "    <tr>\n",
       "      <th>2</th>\n",
       "      <td>MS</td>\n",
       "      <td>2010-01-06 00:00:00+00:00</td>\n",
       "      <td>32.45</td>\n",
       "      <td>32.590</td>\n",
       "      <td>31.79</td>\n",
       "      <td>31.97</td>\n",
       "      <td>17028500</td>\n",
       "      <td>26.789706</td>\n",
       "      <td>26.905286</td>\n",
       "      <td>26.244831</td>\n",
       "      <td>26.393433</td>\n",
       "      <td>17028500</td>\n",
       "      <td>0.0</td>\n",
       "      <td>1.0</td>\n",
       "      <td>-0.097381</td>\n",
       "    </tr>\n",
       "    <tr>\n",
       "      <th>3</th>\n",
       "      <td>MS</td>\n",
       "      <td>2010-01-07 00:00:00+00:00</td>\n",
       "      <td>32.92</td>\n",
       "      <td>33.270</td>\n",
       "      <td>32.27</td>\n",
       "      <td>32.46</td>\n",
       "      <td>18693000</td>\n",
       "      <td>27.177724</td>\n",
       "      <td>27.466673</td>\n",
       "      <td>26.641104</td>\n",
       "      <td>26.797962</td>\n",
       "      <td>18693000</td>\n",
       "      <td>0.0</td>\n",
       "      <td>1.0</td>\n",
       "      <td>-0.108141</td>\n",
       "    </tr>\n",
       "    <tr>\n",
       "      <th>4</th>\n",
       "      <td>MS</td>\n",
       "      <td>2010-01-08 00:00:00+00:00</td>\n",
       "      <td>32.25</td>\n",
       "      <td>32.820</td>\n",
       "      <td>31.98</td>\n",
       "      <td>32.60</td>\n",
       "      <td>15993400</td>\n",
       "      <td>26.624593</td>\n",
       "      <td>27.095167</td>\n",
       "      <td>26.401689</td>\n",
       "      <td>26.913542</td>\n",
       "      <td>15993400</td>\n",
       "      <td>0.0</td>\n",
       "      <td>1.0</td>\n",
       "      <td>-0.069147</td>\n",
       "    </tr>\n",
       "    <tr>\n",
       "      <th>...</th>\n",
       "      <td>...</td>\n",
       "      <td>...</td>\n",
       "      <td>...</td>\n",
       "      <td>...</td>\n",
       "      <td>...</td>\n",
       "      <td>...</td>\n",
       "      <td>...</td>\n",
       "      <td>...</td>\n",
       "      <td>...</td>\n",
       "      <td>...</td>\n",
       "      <td>...</td>\n",
       "      <td>...</td>\n",
       "      <td>...</td>\n",
       "      <td>...</td>\n",
       "      <td>...</td>\n",
       "    </tr>\n",
       "    <tr>\n",
       "      <th>2904</th>\n",
       "      <td>MS</td>\n",
       "      <td>2021-07-19 00:00:00+00:00</td>\n",
       "      <td>89.35</td>\n",
       "      <td>89.690</td>\n",
       "      <td>87.58</td>\n",
       "      <td>89.51</td>\n",
       "      <td>14042974</td>\n",
       "      <td>89.350000</td>\n",
       "      <td>89.690000</td>\n",
       "      <td>87.580000</td>\n",
       "      <td>89.510000</td>\n",
       "      <td>14042974</td>\n",
       "      <td>0.0</td>\n",
       "      <td>1.0</td>\n",
       "      <td>NaN</td>\n",
       "    </tr>\n",
       "    <tr>\n",
       "      <th>2905</th>\n",
       "      <td>MS</td>\n",
       "      <td>2021-07-20 00:00:00+00:00</td>\n",
       "      <td>92.32</td>\n",
       "      <td>93.600</td>\n",
       "      <td>89.00</td>\n",
       "      <td>89.14</td>\n",
       "      <td>11522283</td>\n",
       "      <td>92.320000</td>\n",
       "      <td>93.600000</td>\n",
       "      <td>89.000000</td>\n",
       "      <td>89.140000</td>\n",
       "      <td>11522283</td>\n",
       "      <td>0.0</td>\n",
       "      <td>1.0</td>\n",
       "      <td>NaN</td>\n",
       "    </tr>\n",
       "    <tr>\n",
       "      <th>2906</th>\n",
       "      <td>MS</td>\n",
       "      <td>2021-07-21 00:00:00+00:00</td>\n",
       "      <td>95.68</td>\n",
       "      <td>96.050</td>\n",
       "      <td>93.18</td>\n",
       "      <td>93.24</td>\n",
       "      <td>14116881</td>\n",
       "      <td>95.680000</td>\n",
       "      <td>96.050000</td>\n",
       "      <td>93.180000</td>\n",
       "      <td>93.240000</td>\n",
       "      <td>14116881</td>\n",
       "      <td>0.0</td>\n",
       "      <td>1.0</td>\n",
       "      <td>NaN</td>\n",
       "    </tr>\n",
       "    <tr>\n",
       "      <th>2907</th>\n",
       "      <td>MS</td>\n",
       "      <td>2021-07-22 00:00:00+00:00</td>\n",
       "      <td>95.57</td>\n",
       "      <td>96.230</td>\n",
       "      <td>94.84</td>\n",
       "      <td>95.42</td>\n",
       "      <td>9235275</td>\n",
       "      <td>95.570000</td>\n",
       "      <td>96.230000</td>\n",
       "      <td>94.840000</td>\n",
       "      <td>95.420000</td>\n",
       "      <td>9235275</td>\n",
       "      <td>0.0</td>\n",
       "      <td>1.0</td>\n",
       "      <td>NaN</td>\n",
       "    </tr>\n",
       "    <tr>\n",
       "      <th>2908</th>\n",
       "      <td>MS</td>\n",
       "      <td>2021-07-23 00:00:00+00:00</td>\n",
       "      <td>94.55</td>\n",
       "      <td>97.170</td>\n",
       "      <td>94.19</td>\n",
       "      <td>96.28</td>\n",
       "      <td>13222822</td>\n",
       "      <td>94.550000</td>\n",
       "      <td>97.170000</td>\n",
       "      <td>94.190000</td>\n",
       "      <td>96.280000</td>\n",
       "      <td>13222822</td>\n",
       "      <td>0.0</td>\n",
       "      <td>1.0</td>\n",
       "      <td>NaN</td>\n",
       "    </tr>\n",
       "  </tbody>\n",
       "</table>\n",
       "<p>2909 rows × 15 columns</p>\n",
       "</div>"
      ]
     },
     "metadata": {},
     "execution_count": 202
    }
   ],
   "metadata": {}
  },
  {
   "cell_type": "code",
   "execution_count": 203,
   "source": [
    "X_train,X_test,y_train,y_test = train_test_split(X,y,test_size = 0.3, random_state = 42)\n",
    "print(X_train.shape)\n",
    "print(X_test.shape)\n",
    "print(y_train.shape)\n",
    "print(y_test.shape)"
   ],
   "outputs": [
    {
     "output_type": "stream",
     "name": "stdout",
     "text": [
      "(2036, 10)\n",
      "(873, 10)\n",
      "(2036,)\n",
      "(873,)\n"
     ]
    }
   ],
   "metadata": {}
  },
  {
   "cell_type": "markdown",
   "source": [
    "min_samples_leaf specifies the minimum number of samples required to be at a leaf node."
   ],
   "metadata": {}
  },
  {
   "cell_type": "code",
   "execution_count": 204,
   "source": [
    "treeClassifier = DecisionTreeClassifier(max_depth = 3, min_samples_leaf = 6)\n",
    "treeClassifier.fit(X_train,y_train)"
   ],
   "outputs": [
    {
     "output_type": "execute_result",
     "data": {
      "text/plain": [
       "DecisionTreeClassifier(max_depth=3, min_samples_leaf=6)"
      ]
     },
     "metadata": {},
     "execution_count": 204
    }
   ],
   "metadata": {}
  },
  {
   "cell_type": "code",
   "execution_count": 205,
   "source": [
    "y_pred = treeClassifier.predict(X_test)"
   ],
   "outputs": [],
   "metadata": {}
  },
  {
   "cell_type": "code",
   "execution_count": 206,
   "source": [
    "from sklearn.metrics import classification_report\n",
    "report = classification_report(y_test,y_pred)\n",
    "print(report)"
   ],
   "outputs": [
    {
     "output_type": "stream",
     "name": "stdout",
     "text": [
      "              precision    recall  f1-score   support\n",
      "\n",
      "           0       0.61      0.37      0.46       352\n",
      "           1       0.66      0.84      0.74       521\n",
      "\n",
      "    accuracy                           0.65       873\n",
      "   macro avg       0.64      0.61      0.60       873\n",
      "weighted avg       0.64      0.65      0.63       873\n",
      "\n"
     ]
    }
   ],
   "metadata": {}
  },
  {
   "cell_type": "code",
   "execution_count": 207,
   "source": [
    "data =tree.export_graphviz(treeClassifier,filled=True,feature_names=List_of_Features,class_names = np.array(['0','1'])) \n",
    "graphviz.Source(data)"
   ],
   "outputs": [
    {
     "output_type": "execute_result",
     "data": {
      "text/plain": [
       "<graphviz.files.Source at 0x7f61132b3d60>"
      ],
      "image/svg+xml": "<?xml version=\"1.0\" encoding=\"UTF-8\" standalone=\"no\"?>\n<!DOCTYPE svg PUBLIC \"-//W3C//DTD SVG 1.1//EN\"\n \"http://www.w3.org/Graphics/SVG/1.1/DTD/svg11.dtd\">\n<!-- Generated by graphviz version 2.48.0 (0)\n -->\n<!-- Title: Tree Pages: 1 -->\n<svg width=\"895pt\" height=\"433pt\"\n viewBox=\"0.00 0.00 895.00 433.00\" xmlns=\"http://www.w3.org/2000/svg\" xmlns:xlink=\"http://www.w3.org/1999/xlink\">\n<g id=\"graph0\" class=\"graph\" transform=\"scale(1 1) rotate(0) translate(4 429)\">\n<title>Tree</title>\n<polygon fill=\"white\" stroke=\"transparent\" points=\"-4,4 -4,-429 891,-429 891,4 -4,4\"/>\n<!-- 0 -->\n<g id=\"node1\" class=\"node\">\n<title>0</title>\n<polygon fill=\"#b8dcf6\" stroke=\"black\" points=\"664,-425 506,-425 506,-342 664,-342 664,-425\"/>\n<text text-anchor=\"middle\" x=\"585\" y=\"-409.8\" font-family=\"Times,serif\" font-size=\"14.00\">adjHigh &lt;= 41.317</text>\n<text text-anchor=\"middle\" x=\"585\" y=\"-394.8\" font-family=\"Times,serif\" font-size=\"14.00\">gini = 0.476</text>\n<text text-anchor=\"middle\" x=\"585\" y=\"-379.8\" font-family=\"Times,serif\" font-size=\"14.00\">samples = 2036</text>\n<text text-anchor=\"middle\" x=\"585\" y=\"-364.8\" font-family=\"Times,serif\" font-size=\"14.00\">value = [794, 1242]</text>\n<text text-anchor=\"middle\" x=\"585\" y=\"-349.8\" font-family=\"Times,serif\" font-size=\"14.00\">class = 1</text>\n</g>\n<!-- 1 -->\n<g id=\"node2\" class=\"node\">\n<title>1</title>\n<polygon fill=\"#9bcef2\" stroke=\"black\" points=\"501.5,-306 350.5,-306 350.5,-223 501.5,-223 501.5,-306\"/>\n<text text-anchor=\"middle\" x=\"426\" y=\"-290.8\" font-family=\"Times,serif\" font-size=\"14.00\">adjClose &lt;= 13.04</text>\n<text text-anchor=\"middle\" x=\"426\" y=\"-275.8\" font-family=\"Times,serif\" font-size=\"14.00\">gini = 0.443</text>\n<text text-anchor=\"middle\" x=\"426\" y=\"-260.8\" font-family=\"Times,serif\" font-size=\"14.00\">samples = 1438</text>\n<text text-anchor=\"middle\" x=\"426\" y=\"-245.8\" font-family=\"Times,serif\" font-size=\"14.00\">value = [477, 961]</text>\n<text text-anchor=\"middle\" x=\"426\" y=\"-230.8\" font-family=\"Times,serif\" font-size=\"14.00\">class = 1</text>\n</g>\n<!-- 0&#45;&gt;1 -->\n<g id=\"edge1\" class=\"edge\">\n<title>0&#45;&gt;1</title>\n<path fill=\"none\" stroke=\"black\" d=\"M529.84,-341.91C516.76,-332.29 502.72,-321.95 489.32,-312.09\"/>\n<polygon fill=\"black\" stroke=\"black\" points=\"491.2,-309.13 481.07,-306.02 487.05,-314.77 491.2,-309.13\"/>\n<text text-anchor=\"middle\" x=\"484.83\" y=\"-327.04\" font-family=\"Times,serif\" font-size=\"14.00\">True</text>\n</g>\n<!-- 8 -->\n<g id=\"node9\" class=\"node\">\n<title>8</title>\n<polygon fill=\"#fcf1e9\" stroke=\"black\" points=\"752,-306 592,-306 592,-223 752,-223 752,-306\"/>\n<text text-anchor=\"middle\" x=\"672\" y=\"-290.8\" font-family=\"Times,serif\" font-size=\"14.00\">adjClose &lt;= 83.615</text>\n<text text-anchor=\"middle\" x=\"672\" y=\"-275.8\" font-family=\"Times,serif\" font-size=\"14.00\">gini = 0.498</text>\n<text text-anchor=\"middle\" x=\"672\" y=\"-260.8\" font-family=\"Times,serif\" font-size=\"14.00\">samples = 598</text>\n<text text-anchor=\"middle\" x=\"672\" y=\"-245.8\" font-family=\"Times,serif\" font-size=\"14.00\">value = [317, 281]</text>\n<text text-anchor=\"middle\" x=\"672\" y=\"-230.8\" font-family=\"Times,serif\" font-size=\"14.00\">class = 0</text>\n</g>\n<!-- 0&#45;&gt;8 -->\n<g id=\"edge8\" class=\"edge\">\n<title>0&#45;&gt;8</title>\n<path fill=\"none\" stroke=\"black\" d=\"M615.18,-341.91C621.86,-332.92 629.01,-323.32 635.9,-314.05\"/>\n<polygon fill=\"black\" stroke=\"black\" points=\"638.71,-316.13 641.87,-306.02 633.09,-311.96 638.71,-316.13\"/>\n<text text-anchor=\"middle\" x=\"645.51\" y=\"-327.05\" font-family=\"Times,serif\" font-size=\"14.00\">False</text>\n</g>\n<!-- 2 -->\n<g id=\"node3\" class=\"node\">\n<title>2</title>\n<polygon fill=\"#3b9ee5\" stroke=\"black\" points=\"258,-187 136,-187 136,-104 258,-104 258,-187\"/>\n<text text-anchor=\"middle\" x=\"197\" y=\"-171.8\" font-family=\"Times,serif\" font-size=\"14.00\">high &lt;= 15.82</text>\n<text text-anchor=\"middle\" x=\"197\" y=\"-156.8\" font-family=\"Times,serif\" font-size=\"14.00\">gini = 0.023</text>\n<text text-anchor=\"middle\" x=\"197\" y=\"-141.8\" font-family=\"Times,serif\" font-size=\"14.00\">samples = 86</text>\n<text text-anchor=\"middle\" x=\"197\" y=\"-126.8\" font-family=\"Times,serif\" font-size=\"14.00\">value = [1, 85]</text>\n<text text-anchor=\"middle\" x=\"197\" y=\"-111.8\" font-family=\"Times,serif\" font-size=\"14.00\">class = 1</text>\n</g>\n<!-- 1&#45;&gt;2 -->\n<g id=\"edge2\" class=\"edge\">\n<title>1&#45;&gt;2</title>\n<path fill=\"none\" stroke=\"black\" d=\"M350.38,-224.87C323.58,-211.17 293.55,-195.83 267.21,-182.37\"/>\n<polygon fill=\"black\" stroke=\"black\" points=\"268.56,-179.13 258.06,-177.7 265.38,-185.37 268.56,-179.13\"/>\n</g>\n<!-- 5 -->\n<g id=\"node6\" class=\"node\">\n<title>5</title>\n<polygon fill=\"#a5d2f3\" stroke=\"black\" points=\"503.5,-187 348.5,-187 348.5,-104 503.5,-104 503.5,-187\"/>\n<text text-anchor=\"middle\" x=\"426\" y=\"-171.8\" font-family=\"Times,serif\" font-size=\"14.00\">adjHigh &lt;= 35.669</text>\n<text text-anchor=\"middle\" x=\"426\" y=\"-156.8\" font-family=\"Times,serif\" font-size=\"14.00\">gini = 0.456</text>\n<text text-anchor=\"middle\" x=\"426\" y=\"-141.8\" font-family=\"Times,serif\" font-size=\"14.00\">samples = 1352</text>\n<text text-anchor=\"middle\" x=\"426\" y=\"-126.8\" font-family=\"Times,serif\" font-size=\"14.00\">value = [476, 876]</text>\n<text text-anchor=\"middle\" x=\"426\" y=\"-111.8\" font-family=\"Times,serif\" font-size=\"14.00\">class = 1</text>\n</g>\n<!-- 1&#45;&gt;5 -->\n<g id=\"edge5\" class=\"edge\">\n<title>1&#45;&gt;5</title>\n<path fill=\"none\" stroke=\"black\" d=\"M426,-222.91C426,-214.65 426,-205.86 426,-197.3\"/>\n<polygon fill=\"black\" stroke=\"black\" points=\"429.5,-197.02 426,-187.02 422.5,-197.02 429.5,-197.02\"/>\n</g>\n<!-- 3 -->\n<g id=\"node4\" class=\"node\">\n<title>3</title>\n<polygon fill=\"#399de5\" stroke=\"black\" points=\"122,-68 0,-68 0,0 122,0 122,-68\"/>\n<text text-anchor=\"middle\" x=\"61\" y=\"-52.8\" font-family=\"Times,serif\" font-size=\"14.00\">gini = 0.0</text>\n<text text-anchor=\"middle\" x=\"61\" y=\"-37.8\" font-family=\"Times,serif\" font-size=\"14.00\">samples = 79</text>\n<text text-anchor=\"middle\" x=\"61\" y=\"-22.8\" font-family=\"Times,serif\" font-size=\"14.00\">value = [0, 79]</text>\n<text text-anchor=\"middle\" x=\"61\" y=\"-7.8\" font-family=\"Times,serif\" font-size=\"14.00\">class = 1</text>\n</g>\n<!-- 2&#45;&gt;3 -->\n<g id=\"edge3\" class=\"edge\">\n<title>2&#45;&gt;3</title>\n<path fill=\"none\" stroke=\"black\" d=\"M146.36,-103.73C134.58,-94.24 122.05,-84.16 110.33,-74.72\"/>\n<polygon fill=\"black\" stroke=\"black\" points=\"112.34,-71.84 102.36,-68.3 107.95,-77.3 112.34,-71.84\"/>\n</g>\n<!-- 4 -->\n<g id=\"node5\" class=\"node\">\n<title>4</title>\n<polygon fill=\"#5aade9\" stroke=\"black\" points=\"253.5,-68 140.5,-68 140.5,0 253.5,0 253.5,-68\"/>\n<text text-anchor=\"middle\" x=\"197\" y=\"-52.8\" font-family=\"Times,serif\" font-size=\"14.00\">gini = 0.245</text>\n<text text-anchor=\"middle\" x=\"197\" y=\"-37.8\" font-family=\"Times,serif\" font-size=\"14.00\">samples = 7</text>\n<text text-anchor=\"middle\" x=\"197\" y=\"-22.8\" font-family=\"Times,serif\" font-size=\"14.00\">value = [1, 6]</text>\n<text text-anchor=\"middle\" x=\"197\" y=\"-7.8\" font-family=\"Times,serif\" font-size=\"14.00\">class = 1</text>\n</g>\n<!-- 2&#45;&gt;4 -->\n<g id=\"edge4\" class=\"edge\">\n<title>2&#45;&gt;4</title>\n<path fill=\"none\" stroke=\"black\" d=\"M197,-103.73C197,-95.52 197,-86.86 197,-78.56\"/>\n<polygon fill=\"black\" stroke=\"black\" points=\"200.5,-78.3 197,-68.3 193.5,-78.3 200.5,-78.3\"/>\n</g>\n<!-- 6 -->\n<g id=\"node7\" class=\"node\">\n<title>6</title>\n<polygon fill=\"#b7dbf6\" stroke=\"black\" points=\"420.5,-68 271.5,-68 271.5,0 420.5,0 420.5,-68\"/>\n<text text-anchor=\"middle\" x=\"346\" y=\"-52.8\" font-family=\"Times,serif\" font-size=\"14.00\">gini = 0.475</text>\n<text text-anchor=\"middle\" x=\"346\" y=\"-37.8\" font-family=\"Times,serif\" font-size=\"14.00\">samples = 1127</text>\n<text text-anchor=\"middle\" x=\"346\" y=\"-22.8\" font-family=\"Times,serif\" font-size=\"14.00\">value = [438, 689]</text>\n<text text-anchor=\"middle\" x=\"346\" y=\"-7.8\" font-family=\"Times,serif\" font-size=\"14.00\">class = 1</text>\n</g>\n<!-- 5&#45;&gt;6 -->\n<g id=\"edge6\" class=\"edge\">\n<title>5&#45;&gt;6</title>\n<path fill=\"none\" stroke=\"black\" d=\"M396.21,-103.73C389.75,-94.88 382.9,-85.51 376.41,-76.63\"/>\n<polygon fill=\"black\" stroke=\"black\" points=\"379.05,-74.31 370.33,-68.3 373.4,-78.44 379.05,-74.31\"/>\n</g>\n<!-- 7 -->\n<g id=\"node8\" class=\"node\">\n<title>7</title>\n<polygon fill=\"#61b1ea\" stroke=\"black\" points=\"579,-68 439,-68 439,0 579,0 579,-68\"/>\n<text text-anchor=\"middle\" x=\"509\" y=\"-52.8\" font-family=\"Times,serif\" font-size=\"14.00\">gini = 0.281</text>\n<text text-anchor=\"middle\" x=\"509\" y=\"-37.8\" font-family=\"Times,serif\" font-size=\"14.00\">samples = 225</text>\n<text text-anchor=\"middle\" x=\"509\" y=\"-22.8\" font-family=\"Times,serif\" font-size=\"14.00\">value = [38, 187]</text>\n<text text-anchor=\"middle\" x=\"509\" y=\"-7.8\" font-family=\"Times,serif\" font-size=\"14.00\">class = 1</text>\n</g>\n<!-- 5&#45;&gt;7 -->\n<g id=\"edge7\" class=\"edge\">\n<title>5&#45;&gt;7</title>\n<path fill=\"none\" stroke=\"black\" d=\"M456.91,-103.73C463.68,-94.79 470.86,-85.32 477.65,-76.36\"/>\n<polygon fill=\"black\" stroke=\"black\" points=\"480.51,-78.38 483.76,-68.3 474.93,-74.15 480.51,-78.38\"/>\n</g>\n<!-- 9 -->\n<g id=\"node10\" class=\"node\">\n<title>9</title>\n<polygon fill=\"#fcfeff\" stroke=\"black\" points=\"747,-187 597,-187 597,-104 747,-104 747,-187\"/>\n<text text-anchor=\"middle\" x=\"672\" y=\"-171.8\" font-family=\"Times,serif\" font-size=\"14.00\">adjLow &lt;= 54.411</text>\n<text text-anchor=\"middle\" x=\"672\" y=\"-156.8\" font-family=\"Times,serif\" font-size=\"14.00\">gini = 0.5</text>\n<text text-anchor=\"middle\" x=\"672\" y=\"-141.8\" font-family=\"Times,serif\" font-size=\"14.00\">samples = 558</text>\n<text text-anchor=\"middle\" x=\"672\" y=\"-126.8\" font-family=\"Times,serif\" font-size=\"14.00\">value = [277, 281]</text>\n<text text-anchor=\"middle\" x=\"672\" y=\"-111.8\" font-family=\"Times,serif\" font-size=\"14.00\">class = 1</text>\n</g>\n<!-- 8&#45;&gt;9 -->\n<g id=\"edge9\" class=\"edge\">\n<title>8&#45;&gt;9</title>\n<path fill=\"none\" stroke=\"black\" d=\"M672,-222.91C672,-214.65 672,-205.86 672,-197.3\"/>\n<polygon fill=\"black\" stroke=\"black\" points=\"675.5,-197.02 672,-187.02 668.5,-197.02 675.5,-197.02\"/>\n</g>\n<!-- 12 -->\n<g id=\"node13\" class=\"node\">\n<title>12</title>\n<polygon fill=\"#e58139\" stroke=\"black\" points=\"887,-179.5 765,-179.5 765,-111.5 887,-111.5 887,-179.5\"/>\n<text text-anchor=\"middle\" x=\"826\" y=\"-164.3\" font-family=\"Times,serif\" font-size=\"14.00\">gini = 0.0</text>\n<text text-anchor=\"middle\" x=\"826\" y=\"-149.3\" font-family=\"Times,serif\" font-size=\"14.00\">samples = 40</text>\n<text text-anchor=\"middle\" x=\"826\" y=\"-134.3\" font-family=\"Times,serif\" font-size=\"14.00\">value = [40, 0]</text>\n<text text-anchor=\"middle\" x=\"826\" y=\"-119.3\" font-family=\"Times,serif\" font-size=\"14.00\">class = 0</text>\n</g>\n<!-- 8&#45;&gt;12 -->\n<g id=\"edge12\" class=\"edge\">\n<title>8&#45;&gt;12</title>\n<path fill=\"none\" stroke=\"black\" d=\"M725.43,-222.91C741.26,-210.88 758.56,-197.73 774.28,-185.79\"/>\n<polygon fill=\"black\" stroke=\"black\" points=\"776.5,-188.5 782.34,-179.67 772.26,-182.93 776.5,-188.5\"/>\n</g>\n<!-- 10 -->\n<g id=\"node11\" class=\"node\">\n<title>10</title>\n<polygon fill=\"#f8ddca\" stroke=\"black\" points=\"746.5,-68 597.5,-68 597.5,0 746.5,0 746.5,-68\"/>\n<text text-anchor=\"middle\" x=\"672\" y=\"-52.8\" font-family=\"Times,serif\" font-size=\"14.00\">gini = 0.488</text>\n<text text-anchor=\"middle\" x=\"672\" y=\"-37.8\" font-family=\"Times,serif\" font-size=\"14.00\">samples = 475</text>\n<text text-anchor=\"middle\" x=\"672\" y=\"-22.8\" font-family=\"Times,serif\" font-size=\"14.00\">value = [274, 201]</text>\n<text text-anchor=\"middle\" x=\"672\" y=\"-7.8\" font-family=\"Times,serif\" font-size=\"14.00\">class = 0</text>\n</g>\n<!-- 9&#45;&gt;10 -->\n<g id=\"edge10\" class=\"edge\">\n<title>9&#45;&gt;10</title>\n<path fill=\"none\" stroke=\"black\" d=\"M672,-103.73C672,-95.52 672,-86.86 672,-78.56\"/>\n<polygon fill=\"black\" stroke=\"black\" points=\"675.5,-78.3 672,-68.3 668.5,-78.3 675.5,-78.3\"/>\n</g>\n<!-- 11 -->\n<g id=\"node12\" class=\"node\">\n<title>11</title>\n<polygon fill=\"#40a1e6\" stroke=\"black\" points=\"887,-68 765,-68 765,0 887,0 887,-68\"/>\n<text text-anchor=\"middle\" x=\"826\" y=\"-52.8\" font-family=\"Times,serif\" font-size=\"14.00\">gini = 0.07</text>\n<text text-anchor=\"middle\" x=\"826\" y=\"-37.8\" font-family=\"Times,serif\" font-size=\"14.00\">samples = 83</text>\n<text text-anchor=\"middle\" x=\"826\" y=\"-22.8\" font-family=\"Times,serif\" font-size=\"14.00\">value = [3, 80]</text>\n<text text-anchor=\"middle\" x=\"826\" y=\"-7.8\" font-family=\"Times,serif\" font-size=\"14.00\">class = 1</text>\n</g>\n<!-- 9&#45;&gt;11 -->\n<g id=\"edge11\" class=\"edge\">\n<title>9&#45;&gt;11</title>\n<path fill=\"none\" stroke=\"black\" d=\"M729.34,-103.73C742.94,-94.06 757.41,-83.77 770.91,-74.17\"/>\n<polygon fill=\"black\" stroke=\"black\" points=\"773.05,-76.95 779.17,-68.3 768.99,-71.24 773.05,-76.95\"/>\n</g>\n</g>\n</svg>\n"
     },
     "metadata": {},
     "execution_count": 207
    }
   ],
   "metadata": {}
  },
  {
   "cell_type": "code",
   "execution_count": 208,
   "source": [
    "from sklearn.metrics import (roc_curve, auc, roc_auc_score,\n",
    "                             confusion_matrix)\n",
    "import itertools"
   ],
   "outputs": [],
   "metadata": {}
  },
  {
   "cell_type": "markdown",
   "source": [
    "#Prints the AUC scores for training and testing data\n",
    "   #and returns testing score"
   ],
   "metadata": {}
  },
  {
   "cell_type": "code",
   "execution_count": 209,
   "source": [
    "def get_auc_scores(clf, X_train, X_test, y_train, y_test):\n",
    "    y_train_score = clf.predict_proba(X_train)[:, 1]\n",
    "    y_test_score = clf.predict_proba(X_test)[:, 1] \n",
    "    auc_train = roc_auc_score(y_train, y_train_score)\n",
    "    auc_test = roc_auc_score(y_test, y_test_score) \n",
    "    \n",
    " \n",
    "    return y_test_score"
   ],
   "outputs": [],
   "metadata": {}
  },
  {
   "cell_type": "markdown",
   "source": [
    " “””Plot ROC curve for testing data”””"
   ],
   "metadata": {}
  },
  {
   "cell_type": "code",
   "execution_count": 210,
   "source": [
    "def plot_roc_curve(y_test, y_test_score):\n",
    "    fpr, tpr, _ = roc_curve(y_test, y_test_score)\n",
    "    roc_auc = auc(fpr, tpr) \n",
    "    plt.figure()\n",
    "    plt.plot(fpr, tpr, label  = \"ROC curve (area = %0.2f)\" % roc_auc)\n",
    "    plt.plot([0, 1], [0, 1])\n",
    "    plt.xlim([0.0, 1.0])\n",
    "    plt.ylim([0.0, 1.05])\n",
    "    plt.xlabel(\"False Positive Rate\")\n",
    "    plt.ylabel(\"True Positive Rate\")\n",
    "    plt.title(\"Receiver operating characteristic\")\n",
    "    plt.legend(loc=\"lower right\")\n",
    "    plt.show()"
   ],
   "outputs": [],
   "metadata": {}
  },
  {
   "cell_type": "code",
   "execution_count": 211,
   "source": [
    "y_test_score = get_auc_scores(treeClassifier, X_train, X_test, y_train, y_test)"
   ],
   "outputs": [],
   "metadata": {}
  },
  {
   "cell_type": "code",
   "execution_count": 212,
   "source": [
    "plot_roc_curve(y_test, y_test_score)"
   ],
   "outputs": [
    {
     "output_type": "display_data",
     "data": {
      "text/plain": [
       "<Figure size 432x288 with 1 Axes>"
      ],
      "image/png": "[encoded data removed]"
     },
     "metadata": {}
    }
   ],
   "metadata": {}
  },
  {
   "cell_type": "code",
   "execution_count": 213,
   "source": [
    "ms1=ms.reset_index()['close']"
   ],
   "outputs": [],
   "metadata": {}
  },
  {
   "cell_type": "code",
   "execution_count": 214,
   "source": [
    "ms1"
   ],
   "outputs": [
    {
     "output_type": "execute_result",
     "data": {
      "text/plain": [
       "0       30.91\n",
       "1       32.04\n",
       "2       32.45\n",
       "3       32.92\n",
       "4       32.25\n",
       "        ...  \n",
       "2904    89.35\n",
       "2905    92.32\n",
       "2906    95.68\n",
       "2907    95.57\n",
       "2908    94.55\n",
       "Name: close, Length: 2909, dtype: float64"
      ]
     },
     "metadata": {},
     "execution_count": 214
    }
   ],
   "metadata": {
    "scrolled": true
   }
  },
  {
   "cell_type": "code",
   "execution_count": 215,
   "source": [
    "from sklearn.preprocessing import MinMaxScaler\n",
    "scaler=MinMaxScaler(feature_range=(0,1))\n",
    "ms1=scaler.fit_transform(np.array(ms1).reshape(-1,1))"
   ],
   "outputs": [],
   "metadata": {}
  },
  {
   "cell_type": "code",
   "execution_count": 216,
   "source": [
    "training_size=int(len(ms1)*0.65)\n",
    "test_size=len(ms1)-training_size\n",
    "train_data,test_data=ms1[0:training_size,:],ms1[training_size:len(ms1),:1]"
   ],
   "outputs": [],
   "metadata": {}
  },
  {
   "cell_type": "code",
   "execution_count": 217,
   "source": [
    "training_size,test_size"
   ],
   "outputs": [
    {
     "output_type": "execute_result",
     "data": {
      "text/plain": [
       "(1890, 1019)"
      ]
     },
     "metadata": {},
     "execution_count": 217
    }
   ],
   "metadata": {}
  },
  {
   "cell_type": "code",
   "execution_count": 218,
   "source": [
    "time_step = 100\n",
    "X_train, y_train = create_dataset(train_data, time_step)\n",
    "X_test, y_test = create_dataset(test_data, time_step)"
   ],
   "outputs": [],
   "metadata": {}
  },
  {
   "cell_type": "code",
   "execution_count": 219,
   "source": [
    "print(X_train.shape), print(y_train.shape)"
   ],
   "outputs": [
    {
     "output_type": "stream",
     "name": "stdout",
     "text": [
      "(1789, 100)\n",
      "(1789,)\n"
     ]
    },
    {
     "output_type": "execute_result",
     "data": {
      "text/plain": [
       "(None, None)"
      ]
     },
     "metadata": {},
     "execution_count": 219
    }
   ],
   "metadata": {}
  },
  {
   "cell_type": "code",
   "execution_count": 220,
   "source": [
    "print(X_test.shape), print(y_test.shape)"
   ],
   "outputs": [
    {
     "output_type": "stream",
     "name": "stdout",
     "text": [
      "(918, 100)\n",
      "(918,)\n"
     ]
    },
    {
     "output_type": "execute_result",
     "data": {
      "text/plain": [
       "(None, None)"
      ]
     },
     "metadata": {},
     "execution_count": 220
    }
   ],
   "metadata": {}
  },
  {
   "cell_type": "code",
   "execution_count": 221,
   "source": [
    "X_train =X_train.reshape(X_train.shape[0],X_train.shape[1] , 1)\n",
    "X_test = X_test.reshape(X_test.shape[0],X_test.shape[1] , 1)"
   ],
   "outputs": [],
   "metadata": {}
  },
  {
   "cell_type": "code",
   "execution_count": 228,
   "source": [
    "model.fit(X_train,y_train,validation_data=(X_test,y_test),epochs=100,batch_size=64,verbose=1)\n"
   ],
   "outputs": [
    {
     "output_type": "stream",
     "name": "stdout",
     "text": [
      "Epoch 1/100\n",
      "28/28 [==============================] - 29s 676ms/step - loss: 0.0085 - val_loss: 0.0099\n",
      "Epoch 2/100\n",
      "28/28 [==============================] - 13s 461ms/step - loss: 7.5174e-04 - val_loss: 0.0019\n",
      "Epoch 3/100\n",
      "28/28 [==============================] - 13s 473ms/step - loss: 4.1165e-04 - val_loss: 0.0015\n",
      "Epoch 4/100\n",
      "28/28 [==============================] - 11s 378ms/step - loss: 3.1977e-04 - val_loss: 0.0015\n",
      "Epoch 5/100\n",
      "28/28 [==============================] - 11s 406ms/step - loss: 3.1961e-04 - val_loss: 0.0014\n",
      "Epoch 6/100\n",
      "28/28 [==============================] - 11s 391ms/step - loss: 2.8841e-04 - val_loss: 0.0014\n",
      "Epoch 7/100\n",
      "28/28 [==============================] - 10s 345ms/step - loss: 2.7869e-04 - val_loss: 0.0015\n",
      "Epoch 8/100\n",
      "28/28 [==============================] - 13s 465ms/step - loss: 2.5935e-04 - val_loss: 0.0014\n",
      "Epoch 9/100\n",
      "28/28 [==============================] - 13s 467ms/step - loss: 2.6231e-04 - val_loss: 0.0012\n",
      "Epoch 10/100\n",
      "28/28 [==============================] - 12s 413ms/step - loss: 2.5133e-04 - val_loss: 0.0012\n",
      "Epoch 11/100\n",
      "28/28 [==============================] - 13s 478ms/step - loss: 2.3379e-04 - val_loss: 0.0011\n",
      "Epoch 12/100\n",
      "28/28 [==============================] - 13s 479ms/step - loss: 2.4001e-04 - val_loss: 0.0011\n",
      "Epoch 13/100\n",
      "28/28 [==============================] - 15s 514ms/step - loss: 2.2285e-04 - val_loss: 0.0011\n",
      "Epoch 14/100\n",
      "28/28 [==============================] - 15s 522ms/step - loss: 2.3038e-04 - val_loss: 0.0013\n",
      "Epoch 15/100\n",
      "28/28 [==============================] - 11s 401ms/step - loss: 2.1405e-04 - val_loss: 0.0011\n",
      "Epoch 16/100\n",
      "28/28 [==============================] - 10s 355ms/step - loss: 2.0625e-04 - val_loss: 0.0011\n",
      "Epoch 17/100\n",
      "28/28 [==============================] - 11s 410ms/step - loss: 2.1143e-04 - val_loss: 8.6453e-04\n",
      "Epoch 18/100\n",
      "28/28 [==============================] - 12s 430ms/step - loss: 2.1002e-04 - val_loss: 8.1953e-04\n",
      "Epoch 19/100\n",
      "28/28 [==============================] - 12s 446ms/step - loss: 1.9113e-04 - val_loss: 8.6213e-04\n",
      "Epoch 20/100\n",
      "28/28 [==============================] - 11s 382ms/step - loss: 1.8920e-04 - val_loss: 7.6208e-04\n",
      "Epoch 21/100\n",
      "28/28 [==============================] - 10s 370ms/step - loss: 1.7992e-04 - val_loss: 9.1745e-04\n",
      "Epoch 22/100\n",
      "28/28 [==============================] - 11s 402ms/step - loss: 1.7481e-04 - val_loss: 7.2076e-04\n",
      "Epoch 23/100\n",
      "28/28 [==============================] - 11s 384ms/step - loss: 1.9045e-04 - val_loss: 7.3765e-04\n",
      "Epoch 24/100\n",
      "28/28 [==============================] - 11s 385ms/step - loss: 1.7167e-04 - val_loss: 9.5578e-04\n",
      "Epoch 25/100\n",
      "28/28 [==============================] - 11s 405ms/step - loss: 1.6300e-04 - val_loss: 7.2121e-04\n",
      "Epoch 26/100\n",
      "28/28 [==============================] - 11s 388ms/step - loss: 1.6215e-04 - val_loss: 6.3623e-04\n",
      "Epoch 27/100\n",
      "28/28 [==============================] - 14s 487ms/step - loss: 1.6253e-04 - val_loss: 0.0011\n",
      "Epoch 28/100\n",
      "28/28 [==============================] - 14s 488ms/step - loss: 1.5575e-04 - val_loss: 7.6640e-04\n",
      "Epoch 29/100\n",
      "28/28 [==============================] - 11s 381ms/step - loss: 1.4981e-04 - val_loss: 5.7543e-04\n",
      "Epoch 30/100\n",
      "28/28 [==============================] - 11s 393ms/step - loss: 1.4706e-04 - val_loss: 5.3992e-04\n",
      "Epoch 31/100\n",
      "28/28 [==============================] - 12s 420ms/step - loss: 1.4406e-04 - val_loss: 5.3837e-04\n",
      "Epoch 32/100\n",
      "28/28 [==============================] - 14s 509ms/step - loss: 1.4647e-04 - val_loss: 5.8751e-04\n",
      "Epoch 33/100\n",
      "28/28 [==============================] - 13s 471ms/step - loss: 1.3830e-04 - val_loss: 5.8902e-04\n",
      "Epoch 34/100\n",
      "28/28 [==============================] - 14s 471ms/step - loss: 1.4219e-04 - val_loss: 5.9100e-04\n",
      "Epoch 35/100\n",
      "28/28 [==============================] - 13s 473ms/step - loss: 1.5175e-04 - val_loss: 6.5091e-04\n",
      "Epoch 36/100\n",
      "28/28 [==============================] - 11s 394ms/step - loss: 1.3310e-04 - val_loss: 4.5158e-04\n",
      "Epoch 37/100\n",
      "28/28 [==============================] - 11s 382ms/step - loss: 1.4091e-04 - val_loss: 4.5792e-04\n",
      "Epoch 38/100\n",
      "28/28 [==============================] - 11s 386ms/step - loss: 1.2683e-04 - val_loss: 5.7511e-04\n",
      "Epoch 39/100\n",
      "28/28 [==============================] - 11s 384ms/step - loss: 1.2329e-04 - val_loss: 4.4217e-04\n",
      "Epoch 40/100\n",
      "28/28 [==============================] - 11s 393ms/step - loss: 1.2826e-04 - val_loss: 5.2888e-04\n",
      "Epoch 41/100\n",
      "28/28 [==============================] - 11s 389ms/step - loss: 1.2102e-04 - val_loss: 4.7181e-04\n",
      "Epoch 42/100\n",
      "28/28 [==============================] - 11s 396ms/step - loss: 1.1727e-04 - val_loss: 3.8881e-04\n",
      "Epoch 43/100\n",
      "28/28 [==============================] - 11s 391ms/step - loss: 1.1281e-04 - val_loss: 4.8328e-04\n",
      "Epoch 44/100\n",
      "28/28 [==============================] - 15s 532ms/step - loss: 1.1564e-04 - val_loss: 4.4411e-04\n",
      "Epoch 45/100\n",
      "28/28 [==============================] - 13s 468ms/step - loss: 1.1484e-04 - val_loss: 3.6077e-04\n",
      "Epoch 46/100\n",
      "28/28 [==============================] - 11s 406ms/step - loss: 1.0730e-04 - val_loss: 3.5334e-04\n",
      "Epoch 47/100\n",
      "28/28 [==============================] - 11s 397ms/step - loss: 1.0118e-04 - val_loss: 4.2766e-04\n",
      "Epoch 48/100\n",
      "28/28 [==============================] - 12s 422ms/step - loss: 1.2717e-04 - val_loss: 4.5080e-04\n",
      "Epoch 49/100\n",
      "28/28 [==============================] - 10s 345ms/step - loss: 1.0522e-04 - val_loss: 3.5001e-04\n",
      "Epoch 50/100\n",
      "28/28 [==============================] - 10s 357ms/step - loss: 9.8030e-05 - val_loss: 3.3075e-04\n",
      "Epoch 51/100\n",
      "28/28 [==============================] - 15s 553ms/step - loss: 9.9941e-05 - val_loss: 3.2552e-04\n",
      "Epoch 52/100\n",
      "28/28 [==============================] - 10s 375ms/step - loss: 9.8016e-05 - val_loss: 3.1879e-04\n",
      "Epoch 53/100\n",
      "28/28 [==============================] - 10s 366ms/step - loss: 1.0534e-04 - val_loss: 3.6171e-04\n",
      "Epoch 54/100\n",
      "28/28 [==============================] - 10s 358ms/step - loss: 1.0721e-04 - val_loss: 3.2767e-04\n",
      "Epoch 55/100\n",
      "28/28 [==============================] - 11s 391ms/step - loss: 9.3382e-05 - val_loss: 3.1307e-04\n",
      "Epoch 56/100\n",
      "28/28 [==============================] - 11s 388ms/step - loss: 9.1795e-05 - val_loss: 3.7640e-04\n",
      "Epoch 57/100\n",
      "28/28 [==============================] - 10s 366ms/step - loss: 9.0998e-05 - val_loss: 3.0493e-04\n",
      "Epoch 58/100\n",
      "28/28 [==============================] - 10s 352ms/step - loss: 9.5384e-05 - val_loss: 4.1957e-04\n",
      "Epoch 59/100\n",
      "28/28 [==============================] - 14s 493ms/step - loss: 9.0080e-05 - val_loss: 2.9154e-04\n",
      "Epoch 60/100\n",
      "28/28 [==============================] - 11s 403ms/step - loss: 8.5574e-05 - val_loss: 3.6149e-04\n",
      "Epoch 61/100\n",
      "28/28 [==============================] - 9s 336ms/step - loss: 9.2311e-05 - val_loss: 4.0082e-04\n",
      "Epoch 62/100\n",
      "28/28 [==============================] - 11s 376ms/step - loss: 8.6974e-05 - val_loss: 3.8501e-04\n",
      "Epoch 63/100\n",
      "28/28 [==============================] - 10s 366ms/step - loss: 9.2921e-05 - val_loss: 3.2910e-04\n",
      "Epoch 64/100\n",
      "28/28 [==============================] - 11s 386ms/step - loss: 7.9849e-05 - val_loss: 2.7930e-04\n",
      "Epoch 65/100\n",
      "28/28 [==============================] - 10s 372ms/step - loss: 7.9342e-05 - val_loss: 2.6545e-04\n",
      "Epoch 66/100\n",
      "28/28 [==============================] - 10s 355ms/step - loss: 9.3518e-05 - val_loss: 4.9721e-04\n",
      "Epoch 67/100\n",
      "28/28 [==============================] - 11s 386ms/step - loss: 8.1747e-05 - val_loss: 2.6332e-04\n",
      "Epoch 68/100\n",
      "28/28 [==============================] - 10s 353ms/step - loss: 7.8628e-05 - val_loss: 2.7241e-04\n",
      "Epoch 69/100\n",
      "28/28 [==============================] - 10s 365ms/step - loss: 8.4770e-05 - val_loss: 3.0775e-04\n",
      "Epoch 70/100\n",
      "28/28 [==============================] - 9s 339ms/step - loss: 8.4386e-05 - val_loss: 2.6210e-04\n",
      "Epoch 71/100\n",
      "28/28 [==============================] - 10s 350ms/step - loss: 7.7056e-05 - val_loss: 2.7717e-04\n",
      "Epoch 72/100\n",
      "28/28 [==============================] - 10s 353ms/step - loss: 7.6048e-05 - val_loss: 2.4237e-04\n",
      "Epoch 73/100\n",
      "28/28 [==============================] - 11s 383ms/step - loss: 8.2835e-05 - val_loss: 2.3922e-04\n",
      "Epoch 74/100\n",
      "28/28 [==============================] - 9s 333ms/step - loss: 7.6264e-05 - val_loss: 2.3294e-04\n",
      "Epoch 75/100\n"
     ]
    },
    {
     "output_type": "stream",
     "name": "stdout",
     "text": [
      "28/28 [==============================] - 11s 397ms/step - loss: 7.1540e-05 - val_loss: 3.7644e-04\n",
      "Epoch 76/100\n",
      "28/28 [==============================] - 10s 350ms/step - loss: 7.1490e-05 - val_loss: 2.5392e-04\n",
      "Epoch 77/100\n",
      "28/28 [==============================] - 10s 365ms/step - loss: 7.2217e-05 - val_loss: 2.4290e-04\n",
      "Epoch 78/100\n",
      "28/28 [==============================] - 10s 374ms/step - loss: 6.8019e-05 - val_loss: 2.2845e-04\n",
      "Epoch 79/100\n",
      "28/28 [==============================] - 10s 354ms/step - loss: 6.8342e-05 - val_loss: 3.0054e-04\n",
      "Epoch 80/100\n",
      "28/28 [==============================] - 10s 342ms/step - loss: 7.1153e-05 - val_loss: 2.4925e-04\n",
      "Epoch 81/100\n",
      "28/28 [==============================] - 10s 376ms/step - loss: 6.5653e-05 - val_loss: 2.1574e-04\n",
      "Epoch 82/100\n",
      "28/28 [==============================] - 9s 329ms/step - loss: 7.1471e-05 - val_loss: 4.6158e-04\n",
      "Epoch 83/100\n",
      "28/28 [==============================] - 11s 379ms/step - loss: 8.3254e-05 - val_loss: 3.8287e-04\n",
      "Epoch 84/100\n",
      "28/28 [==============================] - 10s 374ms/step - loss: 6.9392e-05 - val_loss: 5.1810e-04\n",
      "Epoch 85/100\n",
      "28/28 [==============================] - 11s 379ms/step - loss: 7.5133e-05 - val_loss: 2.0349e-04\n",
      "Epoch 86/100\n",
      "28/28 [==============================] - 10s 365ms/step - loss: 6.2182e-05 - val_loss: 2.0023e-04\n",
      "Epoch 87/100\n",
      "28/28 [==============================] - 11s 392ms/step - loss: 6.4030e-05 - val_loss: 2.0021e-04\n",
      "Epoch 88/100\n",
      "28/28 [==============================] - 10s 345ms/step - loss: 6.1675e-05 - val_loss: 1.9886e-04\n",
      "Epoch 89/100\n",
      "28/28 [==============================] - 9s 321ms/step - loss: 6.3629e-05 - val_loss: 2.0127e-04\n",
      "Epoch 90/100\n",
      "28/28 [==============================] - 10s 368ms/step - loss: 6.0854e-05 - val_loss: 2.1079e-04\n",
      "Epoch 91/100\n",
      "28/28 [==============================] - 10s 351ms/step - loss: 6.0245e-05 - val_loss: 1.9202e-04\n",
      "Epoch 92/100\n",
      "28/28 [==============================] - 10s 366ms/step - loss: 6.5918e-05 - val_loss: 1.9774e-04\n",
      "Epoch 93/100\n",
      "28/28 [==============================] - 10s 367ms/step - loss: 5.9407e-05 - val_loss: 2.6981e-04\n",
      "Epoch 94/100\n",
      "28/28 [==============================] - 10s 365ms/step - loss: 6.1711e-05 - val_loss: 2.0746e-04\n",
      "Epoch 95/100\n",
      "28/28 [==============================] - 10s 372ms/step - loss: 5.9745e-05 - val_loss: 1.8812e-04\n",
      "Epoch 96/100\n",
      "28/28 [==============================] - 11s 377ms/step - loss: 5.4918e-05 - val_loss: 2.3849e-04\n",
      "Epoch 97/100\n",
      "28/28 [==============================] - 10s 375ms/step - loss: 5.8129e-05 - val_loss: 1.8022e-04\n",
      "Epoch 98/100\n",
      "28/28 [==============================] - 11s 382ms/step - loss: 5.6640e-05 - val_loss: 2.1801e-04\n",
      "Epoch 99/100\n",
      "28/28 [==============================] - 11s 394ms/step - loss: 5.7942e-05 - val_loss: 2.2478e-04\n",
      "Epoch 100/100\n",
      "28/28 [==============================] - 11s 391ms/step - loss: 5.2429e-05 - val_loss: 1.7702e-04\n"
     ]
    },
    {
     "output_type": "execute_result",
     "data": {
      "text/plain": [
       "<tensorflow.python.keras.callbacks.History at 0x7f60d7e91430>"
      ]
     },
     "metadata": {},
     "execution_count": 228
    }
   ],
   "metadata": {
    "scrolled": true
   }
  },
  {
   "cell_type": "code",
   "execution_count": 230,
   "source": [
    "### Lets Do the prediction and check performance metrics\n",
    "train_predict=model.predict(X_train)\n",
    "test_predict=model.predict(X_test)"
   ],
   "outputs": [],
   "metadata": {}
  },
  {
   "cell_type": "code",
   "execution_count": 231,
   "source": [
    "##Transformback to original form\n",
    "train_predict=scaler.inverse_transform(train_predict)\n",
    "test_predict=scaler.inverse_transform(test_predict)"
   ],
   "outputs": [],
   "metadata": {}
  },
  {
   "cell_type": "code",
   "execution_count": 232,
   "source": [
    "\n",
    "\n",
    "### Calculate RMSE performance metrics\n",
    "import math\n",
    "from sklearn.metrics import mean_squared_error\n",
    "math.sqrt(mean_squared_error(y_train,train_predict))\n",
    "\n"
   ],
   "outputs": [
    {
     "output_type": "execute_result",
     "data": {
      "text/plain": [
       "29.150992345522813"
      ]
     },
     "metadata": {},
     "execution_count": 232
    }
   ],
   "metadata": {}
  },
  {
   "cell_type": "code",
   "execution_count": 234,
   "source": [
    "### Test Data RMSE\n",
    "math.sqrt(mean_squared_error(y_test,test_predict))"
   ],
   "outputs": [
    {
     "output_type": "execute_result",
     "data": {
      "text/plain": [
       "54.447182986113134"
      ]
     },
     "metadata": {},
     "execution_count": 234
    }
   ],
   "metadata": {}
  },
  {
   "cell_type": "code",
   "execution_count": 237,
   "source": [
    "\n",
    "\n",
    "### Plotting \n",
    "# shift train predictions for plotting\n",
    "look_back=100\n",
    "trainPredictPlot = np.empty_like(ms1)\n",
    "trainPredictPlot[:, :] = np.nan\n",
    "trainPredictPlot[look_back:len(train_predict)+look_back, :] = train_predict\n",
    "# shift test predictions for plotting\n",
    "testPredictPlot = np.empty_like(ms1)\n",
    "testPredictPlot[:, :] = np.nan\n",
    "testPredictPlot[len(train_predict)+(look_back*2)+1:len(ms1)-1, :] = test_predict\n",
    "# plot baseline and predictions\n",
    "plt.figure(figsize=(15,6))\n",
    "plt.plot(scaler.inverse_transform(ms1))\n",
    "plt.plot(trainPredictPlot)\n",
    "plt.plot(testPredictPlot)\n",
    "plt.show()\n",
    "\n"
   ],
   "outputs": [
    {
     "output_type": "display_data",
     "data": {
      "text/plain": [
       "<Figure size 1080x432 with 1 Axes>"
      ],
      "image/png": "[encoded data removed]"
     },
     "metadata": {}
    }
   ],
   "metadata": {}
  },
  {
   "cell_type": "code",
   "execution_count": 238,
   "source": [
    "len(test_data)"
   ],
   "outputs": [
    {
     "output_type": "execute_result",
     "data": {
      "text/plain": [
       "1019"
      ]
     },
     "metadata": {},
     "execution_count": 238
    }
   ],
   "metadata": {}
  },
  {
   "cell_type": "code",
   "execution_count": 240,
   "source": [
    "x_input=test_data[919:].reshape(1,-1)\n",
    "x_input.shape"
   ],
   "outputs": [
    {
     "output_type": "execute_result",
     "data": {
      "text/plain": [
       "(1, 100)"
      ]
     },
     "metadata": {},
     "execution_count": 240
    }
   ],
   "metadata": {}
  },
  {
   "cell_type": "code",
   "execution_count": 241,
   "source": [
    "temp_input=list(x_input)\n",
    "temp_input=temp_input[0].tolist()"
   ],
   "outputs": [],
   "metadata": {}
  },
  {
   "cell_type": "code",
   "execution_count": 242,
   "source": [
    "\n",
    "\n",
    "# demonstrate prediction for next 10 days\n",
    "from numpy import array\n",
    "\n",
    "lst_output=[]\n",
    "n_steps=100\n",
    "i=0\n",
    "while(i<30):\n",
    "    \n",
    "    if(len(temp_input)>100):\n",
    "        #print(temp_input)\n",
    "        x_input=np.array(temp_input[1:])\n",
    "        print(\"{} day input {}\".format(i,x_input))\n",
    "        x_input=x_input.reshape(1,-1)\n",
    "        x_input = x_input.reshape((1, n_steps, 1))\n",
    "        #print(x_input)\n",
    "        yhat = model.predict(x_input, verbose=0)\n",
    "        print(\"{} day output {}\".format(i,yhat))\n",
    "        temp_input.extend(yhat[0].tolist())\n",
    "        temp_input=temp_input[1:]\n",
    "        #print(temp_input)\n",
    "        lst_output.extend(yhat.tolist())\n",
    "        i=i+1\n",
    "    else:\n",
    "        x_input = x_input.reshape((1, n_steps,1))\n",
    "        yhat = model.predict(x_input, verbose=0)\n",
    "        print(yhat[0])\n",
    "        temp_input.extend(yhat[0].tolist())\n",
    "        print(len(temp_input))\n",
    "        lst_output.extend(yhat.tolist())\n",
    "        i=i+1\n",
    "    \n",
    "\n",
    "print(lst_output)\n",
    "\n"
   ],
   "outputs": [
    {
     "output_type": "stream",
     "name": "stdout",
     "text": [
      "[0.98016626]\n",
      "101\n",
      "1 day input [0.82513202 0.82225156 0.825012   0.82201152 0.84889582 0.85081613\n",
      " 0.86389822 0.8581373  0.84229477 0.8581373  0.85909746 0.84709554\n",
      " 0.83485358 0.8012482  0.8037686  0.81337014 0.81156985 0.78636582\n",
      " 0.80088814 0.7837254  0.79044647 0.78780605 0.80088814 0.80028805\n",
      " 0.81421027 0.82045127 0.81397024 0.80616899 0.82129141 0.82165146\n",
      " 0.79488718 0.81216995 0.77928469 0.80280845 0.79128661 0.82321171\n",
      " 0.83005281 0.83533365 0.84457513 0.85549688 0.84241479 0.84133461\n",
      " 0.84349496 0.86593855 0.89378301 0.90422468 0.88946231 0.87085934\n",
      " 0.85597696 0.87013922 0.900024   0.90890542 0.89546327 0.88442151\n",
      " 0.88946231 0.9119059  0.9281085  0.9181469  0.92402784 0.93542967\n",
      " 0.94323092 0.95715314 0.96495439 0.97203553 0.9793567  0.97035526\n",
      " 0.96531445 0.96387422 0.95199232 0.95643303 0.94047048 0.94023044\n",
      " 0.9450312  0.90674508 0.86089774 0.8831013  0.88022084 0.88226116\n",
      " 0.89678349 0.91262602 0.90422468 0.93951032 0.95211234 0.95607297\n",
      " 0.95619299 0.9343495  0.93218915 0.90350456 0.93578973 0.96483437\n",
      " 0.97035526 0.96135382 0.96339414 0.94683149 0.92402784 0.95967355\n",
      " 1.         0.99867979 0.98643783 0.98016626]\n",
      "1 day output [[0.9782644]]\n",
      "2 day input [0.82225156 0.825012   0.82201152 0.84889582 0.85081613 0.86389822\n",
      " 0.8581373  0.84229477 0.8581373  0.85909746 0.84709554 0.83485358\n",
      " 0.8012482  0.8037686  0.81337014 0.81156985 0.78636582 0.80088814\n",
      " 0.7837254  0.79044647 0.78780605 0.80088814 0.80028805 0.81421027\n",
      " 0.82045127 0.81397024 0.80616899 0.82129141 0.82165146 0.79488718\n",
      " 0.81216995 0.77928469 0.80280845 0.79128661 0.82321171 0.83005281\n",
      " 0.83533365 0.84457513 0.85549688 0.84241479 0.84133461 0.84349496\n",
      " 0.86593855 0.89378301 0.90422468 0.88946231 0.87085934 0.85597696\n",
      " 0.87013922 0.900024   0.90890542 0.89546327 0.88442151 0.88946231\n",
      " 0.9119059  0.9281085  0.9181469  0.92402784 0.93542967 0.94323092\n",
      " 0.95715314 0.96495439 0.97203553 0.9793567  0.97035526 0.96531445\n",
      " 0.96387422 0.95199232 0.95643303 0.94047048 0.94023044 0.9450312\n",
      " 0.90674508 0.86089774 0.8831013  0.88022084 0.88226116 0.89678349\n",
      " 0.91262602 0.90422468 0.93951032 0.95211234 0.95607297 0.95619299\n",
      " 0.9343495  0.93218915 0.90350456 0.93578973 0.96483437 0.97035526\n",
      " 0.96135382 0.96339414 0.94683149 0.92402784 0.95967355 1.\n",
      " 0.99867979 0.98643783 0.98016626 0.97826439]\n",
      "2 day output [[0.9804661]]\n",
      "3 day input [0.825012   0.82201152 0.84889582 0.85081613 0.86389822 0.8581373\n",
      " 0.84229477 0.8581373  0.85909746 0.84709554 0.83485358 0.8012482\n",
      " 0.8037686  0.81337014 0.81156985 0.78636582 0.80088814 0.7837254\n",
      " 0.79044647 0.78780605 0.80088814 0.80028805 0.81421027 0.82045127\n",
      " 0.81397024 0.80616899 0.82129141 0.82165146 0.79488718 0.81216995\n",
      " 0.77928469 0.80280845 0.79128661 0.82321171 0.83005281 0.83533365\n",
      " 0.84457513 0.85549688 0.84241479 0.84133461 0.84349496 0.86593855\n",
      " 0.89378301 0.90422468 0.88946231 0.87085934 0.85597696 0.87013922\n",
      " 0.900024   0.90890542 0.89546327 0.88442151 0.88946231 0.9119059\n",
      " 0.9281085  0.9181469  0.92402784 0.93542967 0.94323092 0.95715314\n",
      " 0.96495439 0.97203553 0.9793567  0.97035526 0.96531445 0.96387422\n",
      " 0.95199232 0.95643303 0.94047048 0.94023044 0.9450312  0.90674508\n",
      " 0.86089774 0.8831013  0.88022084 0.88226116 0.89678349 0.91262602\n",
      " 0.90422468 0.93951032 0.95211234 0.95607297 0.95619299 0.9343495\n",
      " 0.93218915 0.90350456 0.93578973 0.96483437 0.97035526 0.96135382\n",
      " 0.96339414 0.94683149 0.92402784 0.95967355 1.         0.99867979\n",
      " 0.98643783 0.98016626 0.97826439 0.98046613]\n",
      "3 day output [[0.98580915]]\n",
      "4 day input [0.82201152 0.84889582 0.85081613 0.86389822 0.8581373  0.84229477\n",
      " 0.8581373  0.85909746 0.84709554 0.83485358 0.8012482  0.8037686\n",
      " 0.81337014 0.81156985 0.78636582 0.80088814 0.7837254  0.79044647\n",
      " 0.78780605 0.80088814 0.80028805 0.81421027 0.82045127 0.81397024\n",
      " 0.80616899 0.82129141 0.82165146 0.79488718 0.81216995 0.77928469\n",
      " 0.80280845 0.79128661 0.82321171 0.83005281 0.83533365 0.84457513\n",
      " 0.85549688 0.84241479 0.84133461 0.84349496 0.86593855 0.89378301\n",
      " 0.90422468 0.88946231 0.87085934 0.85597696 0.87013922 0.900024\n",
      " 0.90890542 0.89546327 0.88442151 0.88946231 0.9119059  0.9281085\n",
      " 0.9181469  0.92402784 0.93542967 0.94323092 0.95715314 0.96495439\n",
      " 0.97203553 0.9793567  0.97035526 0.96531445 0.96387422 0.95199232\n",
      " 0.95643303 0.94047048 0.94023044 0.9450312  0.90674508 0.86089774\n",
      " 0.8831013  0.88022084 0.88226116 0.89678349 0.91262602 0.90422468\n",
      " 0.93951032 0.95211234 0.95607297 0.95619299 0.9343495  0.93218915\n",
      " 0.90350456 0.93578973 0.96483437 0.97035526 0.96135382 0.96339414\n",
      " 0.94683149 0.92402784 0.95967355 1.         0.99867979 0.98643783\n",
      " 0.98016626 0.97826439 0.98046613 0.98580915]\n",
      "4 day output [[0.99267906]]\n",
      "5 day input [0.84889582 0.85081613 0.86389822 0.8581373  0.84229477 0.8581373\n",
      " 0.85909746 0.84709554 0.83485358 0.8012482  0.8037686  0.81337014\n",
      " 0.81156985 0.78636582 0.80088814 0.7837254  0.79044647 0.78780605\n",
      " 0.80088814 0.80028805 0.81421027 0.82045127 0.81397024 0.80616899\n",
      " 0.82129141 0.82165146 0.79488718 0.81216995 0.77928469 0.80280845\n",
      " 0.79128661 0.82321171 0.83005281 0.83533365 0.84457513 0.85549688\n",
      " 0.84241479 0.84133461 0.84349496 0.86593855 0.89378301 0.90422468\n",
      " 0.88946231 0.87085934 0.85597696 0.87013922 0.900024   0.90890542\n",
      " 0.89546327 0.88442151 0.88946231 0.9119059  0.9281085  0.9181469\n",
      " 0.92402784 0.93542967 0.94323092 0.95715314 0.96495439 0.97203553\n",
      " 0.9793567  0.97035526 0.96531445 0.96387422 0.95199232 0.95643303\n",
      " 0.94047048 0.94023044 0.9450312  0.90674508 0.86089774 0.8831013\n",
      " 0.88022084 0.88226116 0.89678349 0.91262602 0.90422468 0.93951032\n",
      " 0.95211234 0.95607297 0.95619299 0.9343495  0.93218915 0.90350456\n",
      " 0.93578973 0.96483437 0.97035526 0.96135382 0.96339414 0.94683149\n",
      " 0.92402784 0.95967355 1.         0.99867979 0.98643783 0.98016626\n",
      " 0.97826439 0.98046613 0.98580915 0.99267906]\n",
      "5 day output [[0.99941844]]\n",
      "6 day input [0.85081613 0.86389822 0.8581373  0.84229477 0.8581373  0.85909746\n",
      " 0.84709554 0.83485358 0.8012482  0.8037686  0.81337014 0.81156985\n",
      " 0.78636582 0.80088814 0.7837254  0.79044647 0.78780605 0.80088814\n",
      " 0.80028805 0.81421027 0.82045127 0.81397024 0.80616899 0.82129141\n",
      " 0.82165146 0.79488718 0.81216995 0.77928469 0.80280845 0.79128661\n",
      " 0.82321171 0.83005281 0.83533365 0.84457513 0.85549688 0.84241479\n",
      " 0.84133461 0.84349496 0.86593855 0.89378301 0.90422468 0.88946231\n",
      " 0.87085934 0.85597696 0.87013922 0.900024   0.90890542 0.89546327\n",
      " 0.88442151 0.88946231 0.9119059  0.9281085  0.9181469  0.92402784\n",
      " 0.93542967 0.94323092 0.95715314 0.96495439 0.97203553 0.9793567\n",
      " 0.97035526 0.96531445 0.96387422 0.95199232 0.95643303 0.94047048\n",
      " 0.94023044 0.9450312  0.90674508 0.86089774 0.8831013  0.88022084\n",
      " 0.88226116 0.89678349 0.91262602 0.90422468 0.93951032 0.95211234\n",
      " 0.95607297 0.95619299 0.9343495  0.93218915 0.90350456 0.93578973\n",
      " 0.96483437 0.97035526 0.96135382 0.96339414 0.94683149 0.92402784\n",
      " 0.95967355 1.         0.99867979 0.98643783 0.98016626 0.97826439\n",
      " 0.98046613 0.98580915 0.99267906 0.99941844]\n",
      "6 day output [[1.0049213]]\n",
      "7 day input [0.86389822 0.8581373  0.84229477 0.8581373  0.85909746 0.84709554\n",
      " 0.83485358 0.8012482  0.8037686  0.81337014 0.81156985 0.78636582\n",
      " 0.80088814 0.7837254  0.79044647 0.78780605 0.80088814 0.80028805\n",
      " 0.81421027 0.82045127 0.81397024 0.80616899 0.82129141 0.82165146\n",
      " 0.79488718 0.81216995 0.77928469 0.80280845 0.79128661 0.82321171\n",
      " 0.83005281 0.83533365 0.84457513 0.85549688 0.84241479 0.84133461\n",
      " 0.84349496 0.86593855 0.89378301 0.90422468 0.88946231 0.87085934\n",
      " 0.85597696 0.87013922 0.900024   0.90890542 0.89546327 0.88442151\n",
      " 0.88946231 0.9119059  0.9281085  0.9181469  0.92402784 0.93542967\n",
      " 0.94323092 0.95715314 0.96495439 0.97203553 0.9793567  0.97035526\n",
      " 0.96531445 0.96387422 0.95199232 0.95643303 0.94047048 0.94023044\n",
      " 0.9450312  0.90674508 0.86089774 0.8831013  0.88022084 0.88226116\n",
      " 0.89678349 0.91262602 0.90422468 0.93951032 0.95211234 0.95607297\n",
      " 0.95619299 0.9343495  0.93218915 0.90350456 0.93578973 0.96483437\n",
      " 0.97035526 0.96135382 0.96339414 0.94683149 0.92402784 0.95967355\n",
      " 1.         0.99867979 0.98643783 0.98016626 0.97826439 0.98046613\n",
      " 0.98580915 0.99267906 0.99941844 1.00492132]\n",
      "7 day output [[1.008858]]\n",
      "8 day input [0.8581373  0.84229477 0.8581373  0.85909746 0.84709554 0.83485358\n",
      " 0.8012482  0.8037686  0.81337014 0.81156985 0.78636582 0.80088814\n",
      " 0.7837254  0.79044647 0.78780605 0.80088814 0.80028805 0.81421027\n",
      " 0.82045127 0.81397024 0.80616899 0.82129141 0.82165146 0.79488718\n",
      " 0.81216995 0.77928469 0.80280845 0.79128661 0.82321171 0.83005281\n",
      " 0.83533365 0.84457513 0.85549688 0.84241479 0.84133461 0.84349496\n",
      " 0.86593855 0.89378301 0.90422468 0.88946231 0.87085934 0.85597696\n",
      " 0.87013922 0.900024   0.90890542 0.89546327 0.88442151 0.88946231\n",
      " 0.9119059  0.9281085  0.9181469  0.92402784 0.93542967 0.94323092\n",
      " 0.95715314 0.96495439 0.97203553 0.9793567  0.97035526 0.96531445\n",
      " 0.96387422 0.95199232 0.95643303 0.94047048 0.94023044 0.9450312\n",
      " 0.90674508 0.86089774 0.8831013  0.88022084 0.88226116 0.89678349\n",
      " 0.91262602 0.90422468 0.93951032 0.95211234 0.95607297 0.95619299\n",
      " 0.9343495  0.93218915 0.90350456 0.93578973 0.96483437 0.97035526\n",
      " 0.96135382 0.96339414 0.94683149 0.92402784 0.95967355 1.\n",
      " 0.99867979 0.98643783 0.98016626 0.97826439 0.98046613 0.98580915\n",
      " 0.99267906 0.99941844 1.00492132 1.00885797]\n",
      "8 day output [[1.0115477]]\n",
      "9 day input [0.84229477 0.8581373  0.85909746 0.84709554 0.83485358 0.8012482\n",
      " 0.8037686  0.81337014 0.81156985 0.78636582 0.80088814 0.7837254\n",
      " 0.79044647 0.78780605 0.80088814 0.80028805 0.81421027 0.82045127\n",
      " 0.81397024 0.80616899 0.82129141 0.82165146 0.79488718 0.81216995\n",
      " 0.77928469 0.80280845 0.79128661 0.82321171 0.83005281 0.83533365\n",
      " 0.84457513 0.85549688 0.84241479 0.84133461 0.84349496 0.86593855\n",
      " 0.89378301 0.90422468 0.88946231 0.87085934 0.85597696 0.87013922\n",
      " 0.900024   0.90890542 0.89546327 0.88442151 0.88946231 0.9119059\n",
      " 0.9281085  0.9181469  0.92402784 0.93542967 0.94323092 0.95715314\n",
      " 0.96495439 0.97203553 0.9793567  0.97035526 0.96531445 0.96387422\n",
      " 0.95199232 0.95643303 0.94047048 0.94023044 0.9450312  0.90674508\n",
      " 0.86089774 0.8831013  0.88022084 0.88226116 0.89678349 0.91262602\n",
      " 0.90422468 0.93951032 0.95211234 0.95607297 0.95619299 0.9343495\n",
      " 0.93218915 0.90350456 0.93578973 0.96483437 0.97035526 0.96135382\n",
      " 0.96339414 0.94683149 0.92402784 0.95967355 1.         0.99867979\n",
      " 0.98643783 0.98016626 0.97826439 0.98046613 0.98580915 0.99267906\n",
      " 0.99941844 1.00492132 1.00885797 1.01154768]\n"
     ]
    },
    {
     "output_type": "stream",
     "name": "stdout",
     "text": [
      "9 day output [[1.0136425]]\n",
      "10 day input [0.8581373  0.85909746 0.84709554 0.83485358 0.8012482  0.8037686\n",
      " 0.81337014 0.81156985 0.78636582 0.80088814 0.7837254  0.79044647\n",
      " 0.78780605 0.80088814 0.80028805 0.81421027 0.82045127 0.81397024\n",
      " 0.80616899 0.82129141 0.82165146 0.79488718 0.81216995 0.77928469\n",
      " 0.80280845 0.79128661 0.82321171 0.83005281 0.83533365 0.84457513\n",
      " 0.85549688 0.84241479 0.84133461 0.84349496 0.86593855 0.89378301\n",
      " 0.90422468 0.88946231 0.87085934 0.85597696 0.87013922 0.900024\n",
      " 0.90890542 0.89546327 0.88442151 0.88946231 0.9119059  0.9281085\n",
      " 0.9181469  0.92402784 0.93542967 0.94323092 0.95715314 0.96495439\n",
      " 0.97203553 0.9793567  0.97035526 0.96531445 0.96387422 0.95199232\n",
      " 0.95643303 0.94047048 0.94023044 0.9450312  0.90674508 0.86089774\n",
      " 0.8831013  0.88022084 0.88226116 0.89678349 0.91262602 0.90422468\n",
      " 0.93951032 0.95211234 0.95607297 0.95619299 0.9343495  0.93218915\n",
      " 0.90350456 0.93578973 0.96483437 0.97035526 0.96135382 0.96339414\n",
      " 0.94683149 0.92402784 0.95967355 1.         0.99867979 0.98643783\n",
      " 0.98016626 0.97826439 0.98046613 0.98580915 0.99267906 0.99941844\n",
      " 1.00492132 1.00885797 1.01154768 1.01364255]\n",
      "10 day output [[1.0157906]]\n",
      "11 day input [0.85909746 0.84709554 0.83485358 0.8012482  0.8037686  0.81337014\n",
      " 0.81156985 0.78636582 0.80088814 0.7837254  0.79044647 0.78780605\n",
      " 0.80088814 0.80028805 0.81421027 0.82045127 0.81397024 0.80616899\n",
      " 0.82129141 0.82165146 0.79488718 0.81216995 0.77928469 0.80280845\n",
      " 0.79128661 0.82321171 0.83005281 0.83533365 0.84457513 0.85549688\n",
      " 0.84241479 0.84133461 0.84349496 0.86593855 0.89378301 0.90422468\n",
      " 0.88946231 0.87085934 0.85597696 0.87013922 0.900024   0.90890542\n",
      " 0.89546327 0.88442151 0.88946231 0.9119059  0.9281085  0.9181469\n",
      " 0.92402784 0.93542967 0.94323092 0.95715314 0.96495439 0.97203553\n",
      " 0.9793567  0.97035526 0.96531445 0.96387422 0.95199232 0.95643303\n",
      " 0.94047048 0.94023044 0.9450312  0.90674508 0.86089774 0.8831013\n",
      " 0.88022084 0.88226116 0.89678349 0.91262602 0.90422468 0.93951032\n",
      " 0.95211234 0.95607297 0.95619299 0.9343495  0.93218915 0.90350456\n",
      " 0.93578973 0.96483437 0.97035526 0.96135382 0.96339414 0.94683149\n",
      " 0.92402784 0.95967355 1.         0.99867979 0.98643783 0.98016626\n",
      " 0.97826439 0.98046613 0.98580915 0.99267906 0.99941844 1.00492132\n",
      " 1.00885797 1.01154768 1.01364255 1.01579058]\n",
      "11 day output [[1.018407]]\n",
      "12 day input [0.84709554 0.83485358 0.8012482  0.8037686  0.81337014 0.81156985\n",
      " 0.78636582 0.80088814 0.7837254  0.79044647 0.78780605 0.80088814\n",
      " 0.80028805 0.81421027 0.82045127 0.81397024 0.80616899 0.82129141\n",
      " 0.82165146 0.79488718 0.81216995 0.77928469 0.80280845 0.79128661\n",
      " 0.82321171 0.83005281 0.83533365 0.84457513 0.85549688 0.84241479\n",
      " 0.84133461 0.84349496 0.86593855 0.89378301 0.90422468 0.88946231\n",
      " 0.87085934 0.85597696 0.87013922 0.900024   0.90890542 0.89546327\n",
      " 0.88442151 0.88946231 0.9119059  0.9281085  0.9181469  0.92402784\n",
      " 0.93542967 0.94323092 0.95715314 0.96495439 0.97203553 0.9793567\n",
      " 0.97035526 0.96531445 0.96387422 0.95199232 0.95643303 0.94047048\n",
      " 0.94023044 0.9450312  0.90674508 0.86089774 0.8831013  0.88022084\n",
      " 0.88226116 0.89678349 0.91262602 0.90422468 0.93951032 0.95211234\n",
      " 0.95607297 0.95619299 0.9343495  0.93218915 0.90350456 0.93578973\n",
      " 0.96483437 0.97035526 0.96135382 0.96339414 0.94683149 0.92402784\n",
      " 0.95967355 1.         0.99867979 0.98643783 0.98016626 0.97826439\n",
      " 0.98046613 0.98580915 0.99267906 0.99941844 1.00492132 1.00885797\n",
      " 1.01154768 1.01364255 1.01579058 1.01840699]\n",
      "12 day output [[1.0216006]]\n",
      "13 day input [0.83485358 0.8012482  0.8037686  0.81337014 0.81156985 0.78636582\n",
      " 0.80088814 0.7837254  0.79044647 0.78780605 0.80088814 0.80028805\n",
      " 0.81421027 0.82045127 0.81397024 0.80616899 0.82129141 0.82165146\n",
      " 0.79488718 0.81216995 0.77928469 0.80280845 0.79128661 0.82321171\n",
      " 0.83005281 0.83533365 0.84457513 0.85549688 0.84241479 0.84133461\n",
      " 0.84349496 0.86593855 0.89378301 0.90422468 0.88946231 0.87085934\n",
      " 0.85597696 0.87013922 0.900024   0.90890542 0.89546327 0.88442151\n",
      " 0.88946231 0.9119059  0.9281085  0.9181469  0.92402784 0.93542967\n",
      " 0.94323092 0.95715314 0.96495439 0.97203553 0.9793567  0.97035526\n",
      " 0.96531445 0.96387422 0.95199232 0.95643303 0.94047048 0.94023044\n",
      " 0.9450312  0.90674508 0.86089774 0.8831013  0.88022084 0.88226116\n",
      " 0.89678349 0.91262602 0.90422468 0.93951032 0.95211234 0.95607297\n",
      " 0.95619299 0.9343495  0.93218915 0.90350456 0.93578973 0.96483437\n",
      " 0.97035526 0.96135382 0.96339414 0.94683149 0.92402784 0.95967355\n",
      " 1.         0.99867979 0.98643783 0.98016626 0.97826439 0.98046613\n",
      " 0.98580915 0.99267906 0.99941844 1.00492132 1.00885797 1.01154768\n",
      " 1.01364255 1.01579058 1.01840699 1.0216006 ]\n",
      "13 day output [[1.0252327]]\n",
      "14 day input [0.8012482  0.8037686  0.81337014 0.81156985 0.78636582 0.80088814\n",
      " 0.7837254  0.79044647 0.78780605 0.80088814 0.80028805 0.81421027\n",
      " 0.82045127 0.81397024 0.80616899 0.82129141 0.82165146 0.79488718\n",
      " 0.81216995 0.77928469 0.80280845 0.79128661 0.82321171 0.83005281\n",
      " 0.83533365 0.84457513 0.85549688 0.84241479 0.84133461 0.84349496\n",
      " 0.86593855 0.89378301 0.90422468 0.88946231 0.87085934 0.85597696\n",
      " 0.87013922 0.900024   0.90890542 0.89546327 0.88442151 0.88946231\n",
      " 0.9119059  0.9281085  0.9181469  0.92402784 0.93542967 0.94323092\n",
      " 0.95715314 0.96495439 0.97203553 0.9793567  0.97035526 0.96531445\n",
      " 0.96387422 0.95199232 0.95643303 0.94047048 0.94023044 0.9450312\n",
      " 0.90674508 0.86089774 0.8831013  0.88022084 0.88226116 0.89678349\n",
      " 0.91262602 0.90422468 0.93951032 0.95211234 0.95607297 0.95619299\n",
      " 0.9343495  0.93218915 0.90350456 0.93578973 0.96483437 0.97035526\n",
      " 0.96135382 0.96339414 0.94683149 0.92402784 0.95967355 1.\n",
      " 0.99867979 0.98643783 0.98016626 0.97826439 0.98046613 0.98580915\n",
      " 0.99267906 0.99941844 1.00492132 1.00885797 1.01154768 1.01364255\n",
      " 1.01579058 1.01840699 1.0216006  1.02523267]\n",
      "14 day output [[1.0290446]]\n",
      "15 day input [0.8037686  0.81337014 0.81156985 0.78636582 0.80088814 0.7837254\n",
      " 0.79044647 0.78780605 0.80088814 0.80028805 0.81421027 0.82045127\n",
      " 0.81397024 0.80616899 0.82129141 0.82165146 0.79488718 0.81216995\n",
      " 0.77928469 0.80280845 0.79128661 0.82321171 0.83005281 0.83533365\n",
      " 0.84457513 0.85549688 0.84241479 0.84133461 0.84349496 0.86593855\n",
      " 0.89378301 0.90422468 0.88946231 0.87085934 0.85597696 0.87013922\n",
      " 0.900024   0.90890542 0.89546327 0.88442151 0.88946231 0.9119059\n",
      " 0.9281085  0.9181469  0.92402784 0.93542967 0.94323092 0.95715314\n",
      " 0.96495439 0.97203553 0.9793567  0.97035526 0.96531445 0.96387422\n",
      " 0.95199232 0.95643303 0.94047048 0.94023044 0.9450312  0.90674508\n",
      " 0.86089774 0.8831013  0.88022084 0.88226116 0.89678349 0.91262602\n",
      " 0.90422468 0.93951032 0.95211234 0.95607297 0.95619299 0.9343495\n",
      " 0.93218915 0.90350456 0.93578973 0.96483437 0.97035526 0.96135382\n",
      " 0.96339414 0.94683149 0.92402784 0.95967355 1.         0.99867979\n",
      " 0.98643783 0.98016626 0.97826439 0.98046613 0.98580915 0.99267906\n",
      " 0.99941844 1.00492132 1.00885797 1.01154768 1.01364255 1.01579058\n",
      " 1.01840699 1.0216006  1.02523267 1.02904463]\n",
      "15 day output [[1.0327889]]\n",
      "16 day input [0.81337014 0.81156985 0.78636582 0.80088814 0.7837254  0.79044647\n",
      " 0.78780605 0.80088814 0.80028805 0.81421027 0.82045127 0.81397024\n",
      " 0.80616899 0.82129141 0.82165146 0.79488718 0.81216995 0.77928469\n",
      " 0.80280845 0.79128661 0.82321171 0.83005281 0.83533365 0.84457513\n",
      " 0.85549688 0.84241479 0.84133461 0.84349496 0.86593855 0.89378301\n",
      " 0.90422468 0.88946231 0.87085934 0.85597696 0.87013922 0.900024\n",
      " 0.90890542 0.89546327 0.88442151 0.88946231 0.9119059  0.9281085\n",
      " 0.9181469  0.92402784 0.93542967 0.94323092 0.95715314 0.96495439\n",
      " 0.97203553 0.9793567  0.97035526 0.96531445 0.96387422 0.95199232\n",
      " 0.95643303 0.94047048 0.94023044 0.9450312  0.90674508 0.86089774\n",
      " 0.8831013  0.88022084 0.88226116 0.89678349 0.91262602 0.90422468\n",
      " 0.93951032 0.95211234 0.95607297 0.95619299 0.9343495  0.93218915\n",
      " 0.90350456 0.93578973 0.96483437 0.97035526 0.96135382 0.96339414\n",
      " 0.94683149 0.92402784 0.95967355 1.         0.99867979 0.98643783\n",
      " 0.98016626 0.97826439 0.98046613 0.98580915 0.99267906 0.99941844\n",
      " 1.00492132 1.00885797 1.01154768 1.01364255 1.01579058 1.01840699\n",
      " 1.0216006  1.02523267 1.02904463 1.03278887]\n",
      "16 day output [[1.0363159]]\n",
      "17 day input [0.81156985 0.78636582 0.80088814 0.7837254  0.79044647 0.78780605\n",
      " 0.80088814 0.80028805 0.81421027 0.82045127 0.81397024 0.80616899\n",
      " 0.82129141 0.82165146 0.79488718 0.81216995 0.77928469 0.80280845\n",
      " 0.79128661 0.82321171 0.83005281 0.83533365 0.84457513 0.85549688\n",
      " 0.84241479 0.84133461 0.84349496 0.86593855 0.89378301 0.90422468\n",
      " 0.88946231 0.87085934 0.85597696 0.87013922 0.900024   0.90890542\n",
      " 0.89546327 0.88442151 0.88946231 0.9119059  0.9281085  0.9181469\n",
      " 0.92402784 0.93542967 0.94323092 0.95715314 0.96495439 0.97203553\n",
      " 0.9793567  0.97035526 0.96531445 0.96387422 0.95199232 0.95643303\n",
      " 0.94047048 0.94023044 0.9450312  0.90674508 0.86089774 0.8831013\n",
      " 0.88022084 0.88226116 0.89678349 0.91262602 0.90422468 0.93951032\n",
      " 0.95211234 0.95607297 0.95619299 0.9343495  0.93218915 0.90350456\n",
      " 0.93578973 0.96483437 0.97035526 0.96135382 0.96339414 0.94683149\n",
      " 0.92402784 0.95967355 1.         0.99867979 0.98643783 0.98016626\n",
      " 0.97826439 0.98046613 0.98580915 0.99267906 0.99941844 1.00492132\n",
      " 1.00885797 1.01154768 1.01364255 1.01579058 1.01840699 1.0216006\n",
      " 1.02523267 1.02904463 1.03278887 1.03631592]\n",
      "17 day output [[1.0395942]]\n",
      "18 day input [0.78636582 0.80088814 0.7837254  0.79044647 0.78780605 0.80088814\n",
      " 0.80028805 0.81421027 0.82045127 0.81397024 0.80616899 0.82129141\n",
      " 0.82165146 0.79488718 0.81216995 0.77928469 0.80280845 0.79128661\n",
      " 0.82321171 0.83005281 0.83533365 0.84457513 0.85549688 0.84241479\n",
      " 0.84133461 0.84349496 0.86593855 0.89378301 0.90422468 0.88946231\n",
      " 0.87085934 0.85597696 0.87013922 0.900024   0.90890542 0.89546327\n",
      " 0.88442151 0.88946231 0.9119059  0.9281085  0.9181469  0.92402784\n",
      " 0.93542967 0.94323092 0.95715314 0.96495439 0.97203553 0.9793567\n",
      " 0.97035526 0.96531445 0.96387422 0.95199232 0.95643303 0.94047048\n",
      " 0.94023044 0.9450312  0.90674508 0.86089774 0.8831013  0.88022084\n",
      " 0.88226116 0.89678349 0.91262602 0.90422468 0.93951032 0.95211234\n",
      " 0.95607297 0.95619299 0.9343495  0.93218915 0.90350456 0.93578973\n",
      " 0.96483437 0.97035526 0.96135382 0.96339414 0.94683149 0.92402784\n",
      " 0.95967355 1.         0.99867979 0.98643783 0.98016626 0.97826439\n",
      " 0.98046613 0.98580915 0.99267906 0.99941844 1.00492132 1.00885797\n",
      " 1.01154768 1.01364255 1.01579058 1.01840699 1.0216006  1.02523267\n",
      " 1.02904463 1.03278887 1.03631592 1.03959417]\n",
      "18 day output [[1.0426853]]\n",
      "19 day input [0.80088814 0.7837254  0.79044647 0.78780605 0.80088814 0.80028805\n",
      " 0.81421027 0.82045127 0.81397024 0.80616899 0.82129141 0.82165146\n",
      " 0.79488718 0.81216995 0.77928469 0.80280845 0.79128661 0.82321171\n",
      " 0.83005281 0.83533365 0.84457513 0.85549688 0.84241479 0.84133461\n",
      " 0.84349496 0.86593855 0.89378301 0.90422468 0.88946231 0.87085934\n",
      " 0.85597696 0.87013922 0.900024   0.90890542 0.89546327 0.88442151\n",
      " 0.88946231 0.9119059  0.9281085  0.9181469  0.92402784 0.93542967\n",
      " 0.94323092 0.95715314 0.96495439 0.97203553 0.9793567  0.97035526\n",
      " 0.96531445 0.96387422 0.95199232 0.95643303 0.94047048 0.94023044\n",
      " 0.9450312  0.90674508 0.86089774 0.8831013  0.88022084 0.88226116\n",
      " 0.89678349 0.91262602 0.90422468 0.93951032 0.95211234 0.95607297\n",
      " 0.95619299 0.9343495  0.93218915 0.90350456 0.93578973 0.96483437\n",
      " 0.97035526 0.96135382 0.96339414 0.94683149 0.92402784 0.95967355\n",
      " 1.         0.99867979 0.98643783 0.98016626 0.97826439 0.98046613\n",
      " 0.98580915 0.99267906 0.99941844 1.00492132 1.00885797 1.01154768\n",
      " 1.01364255 1.01579058 1.01840699 1.0216006  1.02523267 1.02904463\n",
      " 1.03278887 1.03631592 1.03959417 1.04268527]\n",
      "19 day output [[1.0456908]]\n",
      "20 day input [0.7837254  0.79044647 0.78780605 0.80088814 0.80028805 0.81421027\n",
      " 0.82045127 0.81397024 0.80616899 0.82129141 0.82165146 0.79488718\n",
      " 0.81216995 0.77928469 0.80280845 0.79128661 0.82321171 0.83005281\n",
      " 0.83533365 0.84457513 0.85549688 0.84241479 0.84133461 0.84349496\n",
      " 0.86593855 0.89378301 0.90422468 0.88946231 0.87085934 0.85597696\n",
      " 0.87013922 0.900024   0.90890542 0.89546327 0.88442151 0.88946231\n",
      " 0.9119059  0.9281085  0.9181469  0.92402784 0.93542967 0.94323092\n",
      " 0.95715314 0.96495439 0.97203553 0.9793567  0.97035526 0.96531445\n",
      " 0.96387422 0.95199232 0.95643303 0.94047048 0.94023044 0.9450312\n",
      " 0.90674508 0.86089774 0.8831013  0.88022084 0.88226116 0.89678349\n",
      " 0.91262602 0.90422468 0.93951032 0.95211234 0.95607297 0.95619299\n",
      " 0.9343495  0.93218915 0.90350456 0.93578973 0.96483437 0.97035526\n",
      " 0.96135382 0.96339414 0.94683149 0.92402784 0.95967355 1.\n",
      " 0.99867979 0.98643783 0.98016626 0.97826439 0.98046613 0.98580915\n",
      " 0.99267906 0.99941844 1.00492132 1.00885797 1.01154768 1.01364255\n",
      " 1.01579058 1.01840699 1.0216006  1.02523267 1.02904463 1.03278887\n",
      " 1.03631592 1.03959417 1.04268527 1.04569077]\n"
     ]
    },
    {
     "output_type": "stream",
     "name": "stdout",
     "text": [
      "20 day output [[1.0487022]]\n",
      "21 day input [0.79044647 0.78780605 0.80088814 0.80028805 0.81421027 0.82045127\n",
      " 0.81397024 0.80616899 0.82129141 0.82165146 0.79488718 0.81216995\n",
      " 0.77928469 0.80280845 0.79128661 0.82321171 0.83005281 0.83533365\n",
      " 0.84457513 0.85549688 0.84241479 0.84133461 0.84349496 0.86593855\n",
      " 0.89378301 0.90422468 0.88946231 0.87085934 0.85597696 0.87013922\n",
      " 0.900024   0.90890542 0.89546327 0.88442151 0.88946231 0.9119059\n",
      " 0.9281085  0.9181469  0.92402784 0.93542967 0.94323092 0.95715314\n",
      " 0.96495439 0.97203553 0.9793567  0.97035526 0.96531445 0.96387422\n",
      " 0.95199232 0.95643303 0.94047048 0.94023044 0.9450312  0.90674508\n",
      " 0.86089774 0.8831013  0.88022084 0.88226116 0.89678349 0.91262602\n",
      " 0.90422468 0.93951032 0.95211234 0.95607297 0.95619299 0.9343495\n",
      " 0.93218915 0.90350456 0.93578973 0.96483437 0.97035526 0.96135382\n",
      " 0.96339414 0.94683149 0.92402784 0.95967355 1.         0.99867979\n",
      " 0.98643783 0.98016626 0.97826439 0.98046613 0.98580915 0.99267906\n",
      " 0.99941844 1.00492132 1.00885797 1.01154768 1.01364255 1.01579058\n",
      " 1.01840699 1.0216006  1.02523267 1.02904463 1.03278887 1.03631592\n",
      " 1.03959417 1.04268527 1.04569077 1.04870224]\n",
      "21 day output [[1.0517708]]\n",
      "22 day input [0.78780605 0.80088814 0.80028805 0.81421027 0.82045127 0.81397024\n",
      " 0.80616899 0.82129141 0.82165146 0.79488718 0.81216995 0.77928469\n",
      " 0.80280845 0.79128661 0.82321171 0.83005281 0.83533365 0.84457513\n",
      " 0.85549688 0.84241479 0.84133461 0.84349496 0.86593855 0.89378301\n",
      " 0.90422468 0.88946231 0.87085934 0.85597696 0.87013922 0.900024\n",
      " 0.90890542 0.89546327 0.88442151 0.88946231 0.9119059  0.9281085\n",
      " 0.9181469  0.92402784 0.93542967 0.94323092 0.95715314 0.96495439\n",
      " 0.97203553 0.9793567  0.97035526 0.96531445 0.96387422 0.95199232\n",
      " 0.95643303 0.94047048 0.94023044 0.9450312  0.90674508 0.86089774\n",
      " 0.8831013  0.88022084 0.88226116 0.89678349 0.91262602 0.90422468\n",
      " 0.93951032 0.95211234 0.95607297 0.95619299 0.9343495  0.93218915\n",
      " 0.90350456 0.93578973 0.96483437 0.97035526 0.96135382 0.96339414\n",
      " 0.94683149 0.92402784 0.95967355 1.         0.99867979 0.98643783\n",
      " 0.98016626 0.97826439 0.98046613 0.98580915 0.99267906 0.99941844\n",
      " 1.00492132 1.00885797 1.01154768 1.01364255 1.01579058 1.01840699\n",
      " 1.0216006  1.02523267 1.02904463 1.03278887 1.03631592 1.03959417\n",
      " 1.04268527 1.04569077 1.04870224 1.05177081]\n",
      "22 day output [[1.0549011]]\n",
      "23 day input [0.80088814 0.80028805 0.81421027 0.82045127 0.81397024 0.80616899\n",
      " 0.82129141 0.82165146 0.79488718 0.81216995 0.77928469 0.80280845\n",
      " 0.79128661 0.82321171 0.83005281 0.83533365 0.84457513 0.85549688\n",
      " 0.84241479 0.84133461 0.84349496 0.86593855 0.89378301 0.90422468\n",
      " 0.88946231 0.87085934 0.85597696 0.87013922 0.900024   0.90890542\n",
      " 0.89546327 0.88442151 0.88946231 0.9119059  0.9281085  0.9181469\n",
      " 0.92402784 0.93542967 0.94323092 0.95715314 0.96495439 0.97203553\n",
      " 0.9793567  0.97035526 0.96531445 0.96387422 0.95199232 0.95643303\n",
      " 0.94047048 0.94023044 0.9450312  0.90674508 0.86089774 0.8831013\n",
      " 0.88022084 0.88226116 0.89678349 0.91262602 0.90422468 0.93951032\n",
      " 0.95211234 0.95607297 0.95619299 0.9343495  0.93218915 0.90350456\n",
      " 0.93578973 0.96483437 0.97035526 0.96135382 0.96339414 0.94683149\n",
      " 0.92402784 0.95967355 1.         0.99867979 0.98643783 0.98016626\n",
      " 0.97826439 0.98046613 0.98580915 0.99267906 0.99941844 1.00492132\n",
      " 1.00885797 1.01154768 1.01364255 1.01579058 1.01840699 1.0216006\n",
      " 1.02523267 1.02904463 1.03278887 1.03631592 1.03959417 1.04268527\n",
      " 1.04569077 1.04870224 1.05177081 1.05490112]\n",
      "23 day output [[1.0580652]]\n",
      "24 day input [0.80028805 0.81421027 0.82045127 0.81397024 0.80616899 0.82129141\n",
      " 0.82165146 0.79488718 0.81216995 0.77928469 0.80280845 0.79128661\n",
      " 0.82321171 0.83005281 0.83533365 0.84457513 0.85549688 0.84241479\n",
      " 0.84133461 0.84349496 0.86593855 0.89378301 0.90422468 0.88946231\n",
      " 0.87085934 0.85597696 0.87013922 0.900024   0.90890542 0.89546327\n",
      " 0.88442151 0.88946231 0.9119059  0.9281085  0.9181469  0.92402784\n",
      " 0.93542967 0.94323092 0.95715314 0.96495439 0.97203553 0.9793567\n",
      " 0.97035526 0.96531445 0.96387422 0.95199232 0.95643303 0.94047048\n",
      " 0.94023044 0.9450312  0.90674508 0.86089774 0.8831013  0.88022084\n",
      " 0.88226116 0.89678349 0.91262602 0.90422468 0.93951032 0.95211234\n",
      " 0.95607297 0.95619299 0.9343495  0.93218915 0.90350456 0.93578973\n",
      " 0.96483437 0.97035526 0.96135382 0.96339414 0.94683149 0.92402784\n",
      " 0.95967355 1.         0.99867979 0.98643783 0.98016626 0.97826439\n",
      " 0.98046613 0.98580915 0.99267906 0.99941844 1.00492132 1.00885797\n",
      " 1.01154768 1.01364255 1.01579058 1.01840699 1.0216006  1.02523267\n",
      " 1.02904463 1.03278887 1.03631592 1.03959417 1.04268527 1.04569077\n",
      " 1.04870224 1.05177081 1.05490112 1.05806518]\n",
      "24 day output [[1.0612231]]\n",
      "25 day input [0.81421027 0.82045127 0.81397024 0.80616899 0.82129141 0.82165146\n",
      " 0.79488718 0.81216995 0.77928469 0.80280845 0.79128661 0.82321171\n",
      " 0.83005281 0.83533365 0.84457513 0.85549688 0.84241479 0.84133461\n",
      " 0.84349496 0.86593855 0.89378301 0.90422468 0.88946231 0.87085934\n",
      " 0.85597696 0.87013922 0.900024   0.90890542 0.89546327 0.88442151\n",
      " 0.88946231 0.9119059  0.9281085  0.9181469  0.92402784 0.93542967\n",
      " 0.94323092 0.95715314 0.96495439 0.97203553 0.9793567  0.97035526\n",
      " 0.96531445 0.96387422 0.95199232 0.95643303 0.94047048 0.94023044\n",
      " 0.9450312  0.90674508 0.86089774 0.8831013  0.88022084 0.88226116\n",
      " 0.89678349 0.91262602 0.90422468 0.93951032 0.95211234 0.95607297\n",
      " 0.95619299 0.9343495  0.93218915 0.90350456 0.93578973 0.96483437\n",
      " 0.97035526 0.96135382 0.96339414 0.94683149 0.92402784 0.95967355\n",
      " 1.         0.99867979 0.98643783 0.98016626 0.97826439 0.98046613\n",
      " 0.98580915 0.99267906 0.99941844 1.00492132 1.00885797 1.01154768\n",
      " 1.01364255 1.01579058 1.01840699 1.0216006  1.02523267 1.02904463\n",
      " 1.03278887 1.03631592 1.03959417 1.04268527 1.04569077 1.04870224\n",
      " 1.05177081 1.05490112 1.05806518 1.06122315]\n",
      "25 day output [[1.0643412]]\n",
      "26 day input [0.82045127 0.81397024 0.80616899 0.82129141 0.82165146 0.79488718\n",
      " 0.81216995 0.77928469 0.80280845 0.79128661 0.82321171 0.83005281\n",
      " 0.83533365 0.84457513 0.85549688 0.84241479 0.84133461 0.84349496\n",
      " 0.86593855 0.89378301 0.90422468 0.88946231 0.87085934 0.85597696\n",
      " 0.87013922 0.900024   0.90890542 0.89546327 0.88442151 0.88946231\n",
      " 0.9119059  0.9281085  0.9181469  0.92402784 0.93542967 0.94323092\n",
      " 0.95715314 0.96495439 0.97203553 0.9793567  0.97035526 0.96531445\n",
      " 0.96387422 0.95199232 0.95643303 0.94047048 0.94023044 0.9450312\n",
      " 0.90674508 0.86089774 0.8831013  0.88022084 0.88226116 0.89678349\n",
      " 0.91262602 0.90422468 0.93951032 0.95211234 0.95607297 0.95619299\n",
      " 0.9343495  0.93218915 0.90350456 0.93578973 0.96483437 0.97035526\n",
      " 0.96135382 0.96339414 0.94683149 0.92402784 0.95967355 1.\n",
      " 0.99867979 0.98643783 0.98016626 0.97826439 0.98046613 0.98580915\n",
      " 0.99267906 0.99941844 1.00492132 1.00885797 1.01154768 1.01364255\n",
      " 1.01579058 1.01840699 1.0216006  1.02523267 1.02904463 1.03278887\n",
      " 1.03631592 1.03959417 1.04268527 1.04569077 1.04870224 1.05177081\n",
      " 1.05490112 1.05806518 1.06122315 1.06434119]\n",
      "26 day output [[1.0674021]]\n",
      "27 day input [0.81397024 0.80616899 0.82129141 0.82165146 0.79488718 0.81216995\n",
      " 0.77928469 0.80280845 0.79128661 0.82321171 0.83005281 0.83533365\n",
      " 0.84457513 0.85549688 0.84241479 0.84133461 0.84349496 0.86593855\n",
      " 0.89378301 0.90422468 0.88946231 0.87085934 0.85597696 0.87013922\n",
      " 0.900024   0.90890542 0.89546327 0.88442151 0.88946231 0.9119059\n",
      " 0.9281085  0.9181469  0.92402784 0.93542967 0.94323092 0.95715314\n",
      " 0.96495439 0.97203553 0.9793567  0.97035526 0.96531445 0.96387422\n",
      " 0.95199232 0.95643303 0.94047048 0.94023044 0.9450312  0.90674508\n",
      " 0.86089774 0.8831013  0.88022084 0.88226116 0.89678349 0.91262602\n",
      " 0.90422468 0.93951032 0.95211234 0.95607297 0.95619299 0.9343495\n",
      " 0.93218915 0.90350456 0.93578973 0.96483437 0.97035526 0.96135382\n",
      " 0.96339414 0.94683149 0.92402784 0.95967355 1.         0.99867979\n",
      " 0.98643783 0.98016626 0.97826439 0.98046613 0.98580915 0.99267906\n",
      " 0.99941844 1.00492132 1.00885797 1.01154768 1.01364255 1.01579058\n",
      " 1.01840699 1.0216006  1.02523267 1.02904463 1.03278887 1.03631592\n",
      " 1.03959417 1.04268527 1.04569077 1.04870224 1.05177081 1.05490112\n",
      " 1.05806518 1.06122315 1.06434119 1.06740212]\n",
      "27 day output [[1.0704069]]\n",
      "28 day input [0.80616899 0.82129141 0.82165146 0.79488718 0.81216995 0.77928469\n",
      " 0.80280845 0.79128661 0.82321171 0.83005281 0.83533365 0.84457513\n",
      " 0.85549688 0.84241479 0.84133461 0.84349496 0.86593855 0.89378301\n",
      " 0.90422468 0.88946231 0.87085934 0.85597696 0.87013922 0.900024\n",
      " 0.90890542 0.89546327 0.88442151 0.88946231 0.9119059  0.9281085\n",
      " 0.9181469  0.92402784 0.93542967 0.94323092 0.95715314 0.96495439\n",
      " 0.97203553 0.9793567  0.97035526 0.96531445 0.96387422 0.95199232\n",
      " 0.95643303 0.94047048 0.94023044 0.9450312  0.90674508 0.86089774\n",
      " 0.8831013  0.88022084 0.88226116 0.89678349 0.91262602 0.90422468\n",
      " 0.93951032 0.95211234 0.95607297 0.95619299 0.9343495  0.93218915\n",
      " 0.90350456 0.93578973 0.96483437 0.97035526 0.96135382 0.96339414\n",
      " 0.94683149 0.92402784 0.95967355 1.         0.99867979 0.98643783\n",
      " 0.98016626 0.97826439 0.98046613 0.98580915 0.99267906 0.99941844\n",
      " 1.00492132 1.00885797 1.01154768 1.01364255 1.01579058 1.01840699\n",
      " 1.0216006  1.02523267 1.02904463 1.03278887 1.03631592 1.03959417\n",
      " 1.04268527 1.04569077 1.04870224 1.05177081 1.05490112 1.05806518\n",
      " 1.06122315 1.06434119 1.06740212 1.07040691]\n",
      "28 day output [[1.0733678]]\n",
      "29 day input [0.82129141 0.82165146 0.79488718 0.81216995 0.77928469 0.80280845\n",
      " 0.79128661 0.82321171 0.83005281 0.83533365 0.84457513 0.85549688\n",
      " 0.84241479 0.84133461 0.84349496 0.86593855 0.89378301 0.90422468\n",
      " 0.88946231 0.87085934 0.85597696 0.87013922 0.900024   0.90890542\n",
      " 0.89546327 0.88442151 0.88946231 0.9119059  0.9281085  0.9181469\n",
      " 0.92402784 0.93542967 0.94323092 0.95715314 0.96495439 0.97203553\n",
      " 0.9793567  0.97035526 0.96531445 0.96387422 0.95199232 0.95643303\n",
      " 0.94047048 0.94023044 0.9450312  0.90674508 0.86089774 0.8831013\n",
      " 0.88022084 0.88226116 0.89678349 0.91262602 0.90422468 0.93951032\n",
      " 0.95211234 0.95607297 0.95619299 0.9343495  0.93218915 0.90350456\n",
      " 0.93578973 0.96483437 0.97035526 0.96135382 0.96339414 0.94683149\n",
      " 0.92402784 0.95967355 1.         0.99867979 0.98643783 0.98016626\n",
      " 0.97826439 0.98046613 0.98580915 0.99267906 0.99941844 1.00492132\n",
      " 1.00885797 1.01154768 1.01364255 1.01579058 1.01840699 1.0216006\n",
      " 1.02523267 1.02904463 1.03278887 1.03631592 1.03959417 1.04268527\n",
      " 1.04569077 1.04870224 1.05177081 1.05490112 1.05806518 1.06122315\n",
      " 1.06434119 1.06740212 1.07040691 1.07336783]\n"
     ]
    },
    {
     "output_type": "stream",
     "name": "stdout",
     "text": [
      "29 day output [[1.0762998]]\n",
      "[[0.9801662564277649], [0.9782643914222717], [0.9804661273956299], [0.9858091473579407], [0.9926790595054626], [0.9994184374809265], [1.004921317100525], [1.0088579654693604], [1.0115476846694946], [1.0136425495147705], [1.015790581703186], [1.0184069871902466], [1.021600604057312], [1.0252326726913452], [1.0290446281433105], [1.032788872718811], [1.03631591796875], [1.0395941734313965], [1.0426852703094482], [1.0456907749176025], [1.0487022399902344], [1.051770806312561], [1.054901123046875], [1.0580651760101318], [1.0612231492996216], [1.0643411874771118], [1.0674021244049072], [1.0704069137573242], [1.0733678340911865], [1.076299786567688]]\n"
     ]
    }
   ],
   "metadata": {}
  },
  {
   "cell_type": "code",
   "execution_count": 243,
   "source": [
    "day_new=np.arange(1,101)\n",
    "day_pred=np.arange(101,131)"
   ],
   "outputs": [],
   "metadata": {}
  },
  {
   "cell_type": "code",
   "execution_count": 244,
   "source": [
    "import matplotlib.pyplot as plt"
   ],
   "outputs": [],
   "metadata": {}
  },
  {
   "cell_type": "code",
   "execution_count": 245,
   "source": [
    "len(ms1)"
   ],
   "outputs": [
    {
     "output_type": "execute_result",
     "data": {
      "text/plain": [
       "2909"
      ]
     },
     "metadata": {},
     "execution_count": 245
    }
   ],
   "metadata": {}
  },
  {
   "cell_type": "code",
   "execution_count": 246,
   "source": [
    "plt.plot(day_new,scaler.inverse_transform(ms1[2809:]))\n",
    "plt.plot(day_pred,scaler.inverse_transform(lst_output))"
   ],
   "outputs": [
    {
     "output_type": "execute_result",
     "data": {
      "text/plain": [
       "[<matplotlib.lines.Line2D at 0x7f60a4b80820>]"
      ]
     },
     "metadata": {},
     "execution_count": 246
    },
    {
     "output_type": "display_data",
     "data": {
      "text/plain": [
       "<Figure size 432x288 with 1 Axes>"
      ],
      "image/png": "[encoded data removed]"
     },
     "metadata": {}
    }
   ],
   "metadata": {}
  },
  {
   "cell_type": "code",
   "execution_count": 252,
   "source": [
    "ms2=ms1.tolist()\n",
    "ms2.extend(lst_output)\n",
    "plt.plot(ms2[2700:])"
   ],
   "outputs": [
    {
     "output_type": "execute_result",
     "data": {
      "text/plain": [
       "[<matplotlib.lines.Line2D at 0x7f60a49b8df0>]"
      ]
     },
     "metadata": {},
     "execution_count": 252
    },
    {
     "output_type": "display_data",
     "data": {
      "text/plain": [
       "<Figure size 432x288 with 1 Axes>"
      ],
      "image/png": "[encoded data removed]"
     },
     "metadata": {}
    }
   ],
   "metadata": {}
  },
  {
   "cell_type": "code",
   "execution_count": 250,
   "source": [
    "ms2=scaler.inverse_transform(ms2).tolist()"
   ],
   "outputs": [],
   "metadata": {}
  },
  {
   "cell_type": "code",
   "execution_count": 251,
   "source": [
    "plt.plot(ms2)"
   ],
   "outputs": [
    {
     "output_type": "execute_result",
     "data": {
      "text/plain": [
       "[<matplotlib.lines.Line2D at 0x7f60a4ab04f0>]"
      ]
     },
     "metadata": {},
     "execution_count": 251
    },
    {
     "output_type": "display_data",
     "data": {
      "text/plain": [
       "<Figure size 432x288 with 1 Axes>"
      ],
      "image/png": "[encoded data removed]"
     },
     "metadata": {}
    }
   ],
   "metadata": {}
  },
  {
   "cell_type": "code",
   "execution_count": null,
   "source": [],
   "outputs": [],
   "metadata": {}
  }
 ],
 "metadata": {
  "kernelspec": {
   "display_name": "Python 3",
   "language": "python",
   "name": "python3"
  },
  "language_info": {
   "codemirror_mode": {
    "name": "ipython",
    "version": 3
   },
   "file_extension": ".py",
   "mimetype": "text/x-python",
   "name": "python",
   "nbconvert_exporter": "python",
   "pygments_lexer": "ipython3",
   "version": "3.9.6"
  }
 },
 "nbformat": 4,
 "nbformat_minor": 2
}